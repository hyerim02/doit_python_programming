{
 "cells": [
  {
   "cell_type": "markdown",
   "metadata": {},
   "source": [
    "# 3장 텍스트 파일 가공하기  \n",
    "---"
   ]
  },
  {
   "cell_type": "markdown",
   "metadata": {},
   "source": [
    "os 모듈은 운영체제에서 제공하는 기본적인 기능을 사용할 수 있는 여러 명령과 함수가 있음."
   ]
  },
  {
   "cell_type": "markdown",
   "metadata": {},
   "source": [
    "임포트:모듈을 사용하기 위해 불러오는 행위"
   ]
  },
  {
   "cell_type": "markdown",
   "metadata": {},
   "source": [
    "**getcwd()** 현재 위치 확인"
   ]
  },
  {
   "cell_type": "markdown",
   "metadata": {},
   "source": [
    "**chdir()** 폴더 이동하기"
   ]
  },
  {
   "cell_type": "markdown",
   "metadata": {},
   "source": [
    "폴더 이름 복붙하고 'C~' 앞에 r을 적으면 \\이거 하나씩 더 안 붙여도 괜찮"
   ]
  },
  {
   "cell_type": "markdown",
   "metadata": {},
   "source": [
    "**listdir()** 폴더에 들어있는 파일 확인, 객체로 저장하면 리스트가 됨"
   ]
  },
  {
   "cell_type": "markdown",
   "metadata": {},
   "source": [
    "**open()** 파일 열기"
   ]
  },
  {
   "cell_type": "markdown",
   "metadata": {},
   "source": [
    "- 새 파일을 쓰기 모드  \n",
    "f = open('a.txt', 'w')"
   ]
  },
  {
   "cell_type": "code",
   "execution_count": 14,
   "metadata": {
    "ExecuteTime": {
     "end_time": "2022-05-31T03:24:49.991748Z",
     "start_time": "2022-05-31T03:24:49.985516Z"
    }
   },
   "outputs": [],
   "source": [
    "f= open('a.txt','w')"
   ]
  },
  {
   "cell_type": "code",
   "execution_count": 15,
   "metadata": {
    "ExecuteTime": {
     "end_time": "2022-05-31T03:24:51.679588Z",
     "start_time": "2022-05-31T03:24:51.667694Z"
    }
   },
   "outputs": [],
   "source": [
    "f.close()"
   ]
  },
  {
   "cell_type": "markdown",
   "metadata": {},
   "source": [
    "close는 꼭 해야함."
   ]
  },
  {
   "cell_type": "code",
   "execution_count": 19,
   "metadata": {
    "ExecuteTime": {
     "end_time": "2022-05-31T03:24:58.585577Z",
     "start_time": "2022-05-31T03:24:58.569230Z"
    }
   },
   "outputs": [],
   "source": [
    "f= open('a.txt','w')"
   ]
  },
  {
   "cell_type": "code",
   "execution_count": 20,
   "metadata": {
    "ExecuteTime": {
     "end_time": "2022-05-31T03:24:59.355132Z",
     "start_time": "2022-05-31T03:24:59.338231Z"
    }
   },
   "outputs": [
    {
     "data": {
      "text/plain": [
       "13"
      ]
     },
     "execution_count": 20,
     "metadata": {},
     "output_type": "execute_result"
    }
   ],
   "source": [
    "f.write('나는 오늘 학교를 갔다.')"
   ]
  },
  {
   "cell_type": "code",
   "execution_count": 21,
   "metadata": {
    "ExecuteTime": {
     "end_time": "2022-05-31T03:25:00.270400Z",
     "start_time": "2022-05-31T03:25:00.249961Z"
    }
   },
   "outputs": [],
   "source": [
    "f.close()"
   ]
  },
  {
   "cell_type": "markdown",
   "metadata": {},
   "source": [
    "- 파일 읽기 모드  \n",
    "f = open('a.txt', 'r')"
   ]
  },
  {
   "cell_type": "code",
   "execution_count": 22,
   "metadata": {
    "ExecuteTime": {
     "end_time": "2022-05-31T03:25:03.728278Z",
     "start_time": "2022-05-31T03:25:03.712910Z"
    }
   },
   "outputs": [
    {
     "data": {
      "text/plain": [
       "'나는 오늘 학교를 갔다.'"
      ]
     },
     "execution_count": 22,
     "metadata": {},
     "output_type": "execute_result"
    }
   ],
   "source": [
    "f= open('a.txt','r')\n",
    "f.read()"
   ]
  },
  {
   "cell_type": "code",
   "execution_count": 23,
   "metadata": {
    "ExecuteTime": {
     "end_time": "2022-05-31T03:25:06.423135Z",
     "start_time": "2022-05-31T03:25:06.404667Z"
    }
   },
   "outputs": [],
   "source": [
    "f.close()"
   ]
  },
  {
   "cell_type": "markdown",
   "metadata": {},
   "source": [
    "read로 읽는 내용은 문자열로 저장됨 $\\rightarrow$ 문자열을 가공할 때 쓰는 기능 모두 가능"
   ]
  },
  {
   "cell_type": "markdown",
   "metadata": {},
   "source": [
    "- 파일 내용 추가 모드  \n",
    "f = open('a.txt', 'a')"
   ]
  },
  {
   "cell_type": "code",
   "execution_count": 24,
   "metadata": {
    "ExecuteTime": {
     "end_time": "2022-05-31T03:25:09.677380Z",
     "start_time": "2022-05-31T03:25:09.665509Z"
    }
   },
   "outputs": [
    {
     "data": {
      "text/plain": [
       "16"
      ]
     },
     "execution_count": 24,
     "metadata": {},
     "output_type": "execute_result"
    }
   ],
   "source": [
    "f= open('a.txt','a')\n",
    "f.write('학교에 가지 않을 날이 올까?')"
   ]
  },
  {
   "cell_type": "code",
   "execution_count": 25,
   "metadata": {
    "ExecuteTime": {
     "end_time": "2022-05-31T03:25:12.856873Z",
     "start_time": "2022-05-31T03:25:12.842599Z"
    }
   },
   "outputs": [],
   "source": [
    "f.close()"
   ]
  },
  {
   "cell_type": "code",
   "execution_count": 26,
   "metadata": {
    "ExecuteTime": {
     "end_time": "2022-05-31T03:25:14.647914Z",
     "start_time": "2022-05-31T03:25:14.636590Z"
    }
   },
   "outputs": [
    {
     "data": {
      "text/plain": [
       "'나는 오늘 학교를 갔다.학교에 가지 않을 날이 올까?'"
      ]
     },
     "execution_count": 26,
     "metadata": {},
     "output_type": "execute_result"
    }
   ],
   "source": [
    "f= open('a.txt','r')\n",
    "f.read()"
   ]
  },
  {
   "cell_type": "code",
   "execution_count": 27,
   "metadata": {
    "ExecuteTime": {
     "end_time": "2022-05-31T03:25:16.602219Z",
     "start_time": "2022-05-31T03:25:16.587975Z"
    }
   },
   "outputs": [],
   "source": [
    "f.close()"
   ]
  },
  {
   "cell_type": "code",
   "execution_count": 28,
   "metadata": {
    "ExecuteTime": {
     "end_time": "2022-05-31T03:25:18.427827Z",
     "start_time": "2022-05-31T03:25:18.408971Z"
    }
   },
   "outputs": [],
   "source": [
    "with open('test.txt','w') as f:\n",
    "    f.write('오늘 나는 학교를 갔습니다.')"
   ]
  },
  {
   "cell_type": "markdown",
   "metadata": {},
   "source": [
    "---  \n",
    "\n",
    "- 정규표현식  \n",
    "---"
   ]
  },
  {
   "cell_type": "code",
   "execution_count": null,
   "metadata": {},
   "outputs": [],
   "source": []
  },
  {
   "cell_type": "code",
   "execution_count": null,
   "metadata": {},
   "outputs": [],
   "source": []
  },
  {
   "cell_type": "code",
   "execution_count": null,
   "metadata": {},
   "outputs": [],
   "source": []
  }
 ],
 "metadata": {
  "kernelspec": {
   "display_name": "Python 3",
   "language": "python",
   "name": "python3"
  },
  "language_info": {
   "codemirror_mode": {
    "name": "ipython",
    "version": 3
   },
   "file_extension": ".py",
   "mimetype": "text/x-python",
   "name": "python",
   "nbconvert_exporter": "python",
   "pygments_lexer": "ipython3",
   "version": "3.8.5"
  },
  "toc": {
   "base_numbering": 1,
   "nav_menu": {},
   "number_sections": true,
   "sideBar": true,
   "skip_h1_title": false,
   "title_cell": "Table of Contents",
   "title_sidebar": "Contents",
   "toc_cell": false,
   "toc_position": {},
   "toc_section_display": true,
   "toc_window_display": false
  }
 },
 "nbformat": 4,
 "nbformat_minor": 4
}
