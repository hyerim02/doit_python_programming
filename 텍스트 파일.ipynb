{
 "cells": [
  {
   "cell_type": "markdown",
   "metadata": {},
   "source": [
    "# 3장 텍스트 파일 가공하기  \n",
    "---"
   ]
  },
  {
   "cell_type": "markdown",
   "metadata": {},
   "source": [
    "### 1. 파일 입출력 연습  \n",
    "---"
   ]
  },
  {
   "cell_type": "markdown",
   "metadata": {},
   "source": [
    "os 모듈은 운영체제에서 제공하는 기본적인 기능을 사용할 수 있는 여러 명령과 함수가 있음."
   ]
  },
  {
   "cell_type": "markdown",
   "metadata": {},
   "source": [
    "임포트:모듈을 사용하기 위해 불러오는 행위"
   ]
  },
  {
   "cell_type": "markdown",
   "metadata": {},
   "source": [
    "**getcwd()** 현재 위치 확인"
   ]
  },
  {
   "cell_type": "markdown",
   "metadata": {},
   "source": [
    "**chdir()** 폴더 이동하기"
   ]
  },
  {
   "cell_type": "markdown",
   "metadata": {},
   "source": [
    "폴더 이름 복붙하고 'C~' 앞에 r을 적으면 \\이거 하나씩 더 안 붙여도 괜찮"
   ]
  },
  {
   "cell_type": "markdown",
   "metadata": {},
   "source": [
    "**listdir()** 폴더에 들어있는 파일 확인, 객체로 저장하면 리스트가 됨"
   ]
  },
  {
   "cell_type": "markdown",
   "metadata": {},
   "source": [
    "**open()** 파일 열기"
   ]
  },
  {
   "cell_type": "markdown",
   "metadata": {},
   "source": [
    "- 새 파일을 쓰기 모드  \n",
    "f = open('a.txt', 'w')"
   ]
  },
  {
   "cell_type": "code",
   "execution_count": 14,
   "metadata": {
    "ExecuteTime": {
     "end_time": "2022-05-31T03:24:49.991748Z",
     "start_time": "2022-05-31T03:24:49.985516Z"
    }
   },
   "outputs": [],
   "source": [
    "f= open('a.txt','w')"
   ]
  },
  {
   "cell_type": "code",
   "execution_count": 15,
   "metadata": {
    "ExecuteTime": {
     "end_time": "2022-05-31T03:24:51.679588Z",
     "start_time": "2022-05-31T03:24:51.667694Z"
    }
   },
   "outputs": [],
   "source": [
    "f.close()"
   ]
  },
  {
   "cell_type": "markdown",
   "metadata": {},
   "source": [
    "close는 꼭 해야함."
   ]
  },
  {
   "cell_type": "code",
   "execution_count": 19,
   "metadata": {
    "ExecuteTime": {
     "end_time": "2022-05-31T03:24:58.585577Z",
     "start_time": "2022-05-31T03:24:58.569230Z"
    }
   },
   "outputs": [],
   "source": [
    "f= open('a.txt','w')"
   ]
  },
  {
   "cell_type": "code",
   "execution_count": 20,
   "metadata": {
    "ExecuteTime": {
     "end_time": "2022-05-31T03:24:59.355132Z",
     "start_time": "2022-05-31T03:24:59.338231Z"
    }
   },
   "outputs": [
    {
     "data": {
      "text/plain": [
       "13"
      ]
     },
     "execution_count": 20,
     "metadata": {},
     "output_type": "execute_result"
    }
   ],
   "source": [
    "f.write('나는 오늘 학교를 갔다.')"
   ]
  },
  {
   "cell_type": "code",
   "execution_count": 21,
   "metadata": {
    "ExecuteTime": {
     "end_time": "2022-05-31T03:25:00.270400Z",
     "start_time": "2022-05-31T03:25:00.249961Z"
    }
   },
   "outputs": [],
   "source": [
    "f.close()"
   ]
  },
  {
   "cell_type": "markdown",
   "metadata": {},
   "source": [
    "- 파일 읽기 모드  \n",
    "f = open('a.txt', 'r')"
   ]
  },
  {
   "cell_type": "code",
   "execution_count": 22,
   "metadata": {
    "ExecuteTime": {
     "end_time": "2022-05-31T03:25:03.728278Z",
     "start_time": "2022-05-31T03:25:03.712910Z"
    }
   },
   "outputs": [
    {
     "data": {
      "text/plain": [
       "'나는 오늘 학교를 갔다.'"
      ]
     },
     "execution_count": 22,
     "metadata": {},
     "output_type": "execute_result"
    }
   ],
   "source": [
    "f= open('a.txt','r')\n",
    "f.read()"
   ]
  },
  {
   "cell_type": "code",
   "execution_count": 23,
   "metadata": {
    "ExecuteTime": {
     "end_time": "2022-05-31T03:25:06.423135Z",
     "start_time": "2022-05-31T03:25:06.404667Z"
    }
   },
   "outputs": [],
   "source": [
    "f.close()"
   ]
  },
  {
   "cell_type": "markdown",
   "metadata": {},
   "source": [
    "read로 읽는 내용은 문자열로 저장됨 $\\rightarrow$ 문자열을 가공할 때 쓰는 기능 모두 가능"
   ]
  },
  {
   "cell_type": "markdown",
   "metadata": {},
   "source": [
    "- 파일 내용 추가 모드  \n",
    "f = open('a.txt', 'a')"
   ]
  },
  {
   "cell_type": "code",
   "execution_count": 24,
   "metadata": {
    "ExecuteTime": {
     "end_time": "2022-05-31T03:25:09.677380Z",
     "start_time": "2022-05-31T03:25:09.665509Z"
    }
   },
   "outputs": [
    {
     "data": {
      "text/plain": [
       "16"
      ]
     },
     "execution_count": 24,
     "metadata": {},
     "output_type": "execute_result"
    }
   ],
   "source": [
    "f= open('a.txt','a')\n",
    "f.write('학교에 가지 않을 날이 올까?')"
   ]
  },
  {
   "cell_type": "code",
   "execution_count": 25,
   "metadata": {
    "ExecuteTime": {
     "end_time": "2022-05-31T03:25:12.856873Z",
     "start_time": "2022-05-31T03:25:12.842599Z"
    }
   },
   "outputs": [],
   "source": [
    "f.close()"
   ]
  },
  {
   "cell_type": "code",
   "execution_count": 26,
   "metadata": {
    "ExecuteTime": {
     "end_time": "2022-05-31T03:25:14.647914Z",
     "start_time": "2022-05-31T03:25:14.636590Z"
    }
   },
   "outputs": [
    {
     "data": {
      "text/plain": [
       "'나는 오늘 학교를 갔다.학교에 가지 않을 날이 올까?'"
      ]
     },
     "execution_count": 26,
     "metadata": {},
     "output_type": "execute_result"
    }
   ],
   "source": [
    "f= open('a.txt','r')\n",
    "f.read()"
   ]
  },
  {
   "cell_type": "code",
   "execution_count": 27,
   "metadata": {
    "ExecuteTime": {
     "end_time": "2022-05-31T03:25:16.602219Z",
     "start_time": "2022-05-31T03:25:16.587975Z"
    }
   },
   "outputs": [],
   "source": [
    "f.close()"
   ]
  },
  {
   "cell_type": "code",
   "execution_count": 28,
   "metadata": {
    "ExecuteTime": {
     "end_time": "2022-05-31T03:25:18.427827Z",
     "start_time": "2022-05-31T03:25:18.408971Z"
    }
   },
   "outputs": [],
   "source": [
    "with open('test.txt','w') as f:\n",
    "    f.write('오늘 나는 학교를 갔습니다.')"
   ]
  },
  {
   "cell_type": "markdown",
   "metadata": {},
   "source": [
    "---  \n",
    "\n",
    "### 2.정규표현식  \n",
    "\n",
    "---"
   ]
  },
  {
   "cell_type": "code",
   "execution_count": 6,
   "metadata": {
    "ExecuteTime": {
     "end_time": "2022-06-02T16:45:25.649410Z",
     "start_time": "2022-06-02T16:45:25.641351Z"
    }
   },
   "outputs": [
    {
     "data": {
      "text/plain": [
       "['(이동민,2019)', '(최재영,2019)', '(Lion,2018)']"
      ]
     },
     "execution_count": 6,
     "metadata": {},
     "output_type": "execute_result"
    }
   ],
   "source": [
    "import re\n",
    "example='이동민 교수님은 다음과 같이 설명했습니다(이동민,2019). 그런데 다른 교수님은 이 문제에 대해서 다른 견해를 가지고 있었습니다(최재영,2019). 또 다른 견해도 있었습니다(Lion,2018).'\n",
    "result=re.findall(r'\\([A-Za-z가-힣]+,\\d+\\)',example)\n",
    "result"
   ]
  },
  {
   "cell_type": "markdown",
   "metadata": {},
   "source": [
    "특정한 문자의 규칙을 찾고 가공하는 방법  \n",
    "긴 문자열에서 특정 규칙을 가진 문자열 찾거나, 어떤 패턴을 가진 문구를 찾는데 유용  \n",
    "- 전화번호: \\d*-\\d*-\\d*  \n",
    "\n",
    "- 이메일: [a-z]* @ [a-z\\]* "
   ]
  },
  {
   "cell_type": "markdown",
   "metadata": {},
   "source": [
    "문자열에서 패턴을 찾을 때는 **match** 사용  \n",
    "`re.match(패턴,문자열)`  \n",
    "패턴 앞에는 r을 붙임"
   ]
  },
  {
   "cell_type": "code",
   "execution_count": 7,
   "metadata": {
    "ExecuteTime": {
     "end_time": "2022-06-02T16:50:40.057855Z",
     "start_time": "2022-06-02T16:50:40.045943Z"
    }
   },
   "outputs": [
    {
     "data": {
      "text/plain": [
       "<re.Match object; span=(0, 4), match='life'>"
      ]
     },
     "execution_count": 7,
     "metadata": {},
     "output_type": "execute_result"
    }
   ],
   "source": [
    "import re\n",
    "pattern = r'life'\n",
    "script = 'life'\n",
    "re.match(pattern,script)"
   ]
  },
  {
   "cell_type": "code",
   "execution_count": 8,
   "metadata": {
    "ExecuteTime": {
     "end_time": "2022-06-02T16:51:12.458531Z",
     "start_time": "2022-06-02T16:51:12.443569Z"
    }
   },
   "outputs": [
    {
     "data": {
      "text/plain": [
       "'life'"
      ]
     },
     "execution_count": 8,
     "metadata": {},
     "output_type": "execute_result"
    }
   ],
   "source": [
    "re.match(pattern,script).group()"
   ]
  },
  {
   "cell_type": "code",
   "execution_count": 10,
   "metadata": {
    "ExecuteTime": {
     "end_time": "2022-06-02T16:55:23.998806Z",
     "start_time": "2022-06-02T16:55:23.992820Z"
    }
   },
   "outputs": [],
   "source": [
    "def refinder(pattern,script):\n",
    "    if re.match(pattern,script):\n",
    "        print('Match!')\n",
    "    else:\n",
    "        print('Not a match!')"
   ]
  },
  {
   "cell_type": "code",
   "execution_count": 11,
   "metadata": {
    "ExecuteTime": {
     "end_time": "2022-06-02T16:56:00.465667Z",
     "start_time": "2022-06-02T16:56:00.444651Z"
    }
   },
   "outputs": [
    {
     "name": "stdout",
     "output_type": "stream",
     "text": [
      "Match!\n"
     ]
    }
   ],
   "source": [
    "pattern = r'Life'\n",
    "script = 'Life is so cool'\n",
    "refinder(pattern,script)"
   ]
  },
  {
   "cell_type": "code",
   "execution_count": 12,
   "metadata": {
    "ExecuteTime": {
     "end_time": "2022-06-02T16:56:33.569934Z",
     "start_time": "2022-06-02T16:56:33.549642Z"
    }
   },
   "outputs": [
    {
     "name": "stdout",
     "output_type": "stream",
     "text": [
      "Not a match!\n"
     ]
    }
   ],
   "source": [
    "pattern = r'is'\n",
    "script = 'Life is so cool'\n",
    "refinder(pattern,script)"
   ]
  },
  {
   "cell_type": "markdown",
   "metadata": {},
   "source": [
    "**중간에 있으면 패턴을 찾지 못한다** "
   ]
  },
  {
   "cell_type": "markdown",
   "metadata": {},
   "source": [
    "match와 비슷한 **search**   \n",
    "`re.search(패턴,문자열)`  \n",
    "패턴 앞에는 r을 붙임"
   ]
  },
  {
   "cell_type": "code",
   "execution_count": 14,
   "metadata": {
    "ExecuteTime": {
     "end_time": "2022-06-02T16:59:20.759417Z",
     "start_time": "2022-06-02T16:59:20.738705Z"
    }
   },
   "outputs": [
    {
     "data": {
      "text/plain": [
       "'is'"
      ]
     },
     "execution_count": 14,
     "metadata": {},
     "output_type": "execute_result"
    }
   ],
   "source": [
    "pattern = r'is'\n",
    "script = 'Life is so cool'\n",
    "re.search(pattern,script).group()"
   ]
  },
  {
   "cell_type": "markdown",
   "metadata": {},
   "source": [
    "|정규표현식|설명|\n",
    "|---|------|\n",
    "|`\\d`|숫자와 매치,[0-9]|\n",
    "|`\\D`|숫자가 아닌 것과 매치,[^0-9]|\n",
    "|`\\s`|whitespace문자와 매치,[ \\t\\n\\r\\f\\v]|\n",
    "|`\\S`|whitespace가 아닌 것과 매치,[^ \\t\\n\\r\\f\\v]|\n",
    "|`\\w`|문자+숫자, [a-zA-Z0-9_]|\n",
    "|`W`|문자+숫자가 아닌 것,[^a-zA-Z0-9_]|\n",
    "|`\\\\`|역슬래시와 매치, 메타 문자 앞에 역슬래시하면 일반 문자|"
   ]
  },
  {
   "cell_type": "markdown",
   "metadata": {},
   "source": [
    "특정 패턴을 리스토 반환 **findall**   \n",
    "`re.findall(패턴,찾으려는 문자열)` "
   ]
  },
  {
   "cell_type": "code",
   "execution_count": 15,
   "metadata": {
    "ExecuteTime": {
     "end_time": "2022-06-02T17:08:23.426301Z",
     "start_time": "2022-06-02T17:08:23.416143Z"
    }
   },
   "outputs": [
    {
     "data": {
      "text/plain": [
       "['511223', '521223']"
      ]
     },
     "execution_count": 15,
     "metadata": {},
     "output_type": "execute_result"
    }
   ],
   "source": [
    "number=\"My number is 5112233-2****** and your is 5212233-2******\"\n",
    "re.findall('\\d{6}',number)"
   ]
  },
  {
   "cell_type": "markdown",
   "metadata": {},
   "source": [
    "d{6}: 숫자 6자리"
   ]
  },
  {
   "cell_type": "markdown",
   "metadata": {},
   "source": [
    "역슬래시 그 다음 문자들을 그대로 인식하지 않고 명령어로 인식해가지고 두개를 같이 적어줘야 일반 문자로 인식하니까 좀 편하게 하기 위해서 문자열을 사용할 때 앞에 r을 붙이면 괜찮  \n",
    "\n",
    "컴퓨터에 명령을 내리기 위해 역슬래시와 함께 사용하는 문자를 이스케이프(escape)문자라고 함."
   ]
  },
  {
   "cell_type": "code",
   "execution_count": 3,
   "metadata": {
    "ExecuteTime": {
     "end_time": "2022-06-03T00:04:30.964550Z",
     "start_time": "2022-06-03T00:04:30.956292Z"
    }
   },
   "outputs": [],
   "source": [
    "ex1='저는 98년에 태어났습니다. 지금은 2022년입니다.'"
   ]
  },
  {
   "cell_type": "code",
   "execution_count": 4,
   "metadata": {
    "ExecuteTime": {
     "end_time": "2022-06-03T00:04:32.192463Z",
     "start_time": "2022-06-03T00:04:32.160176Z"
    }
   },
   "outputs": [
    {
     "data": {
      "text/plain": [
       "['98년에 태어났습니다. 지금은 2022년']"
      ]
     },
     "execution_count": 4,
     "metadata": {},
     "output_type": "execute_result"
    }
   ],
   "source": [
    "import re\n",
    "re.findall(r'\\d.+년',ex1)"
   ]
  },
  {
   "cell_type": "markdown",
   "metadata": {},
   "source": [
    "\\d.+년: 숫자(d)로 시작하고, 어떤 문자든(.) 반복(+)되며, 년으로 끝나는 문자열"
   ]
  },
  {
   "cell_type": "code",
   "execution_count": 5,
   "metadata": {
    "ExecuteTime": {
     "end_time": "2022-06-03T00:07:12.500770Z",
     "start_time": "2022-06-03T00:07:12.484842Z"
    }
   },
   "outputs": [
    {
     "data": {
      "text/plain": [
       "['98년', '2022년']"
      ]
     },
     "execution_count": 5,
     "metadata": {},
     "output_type": "execute_result"
    }
   ],
   "source": [
    "re.findall(r'\\d.+?년',ex1)"
   ]
  },
  {
   "cell_type": "markdown",
   "metadata": {},
   "source": [
    "년을 찾으면 끝!"
   ]
  },
  {
   "cell_type": "code",
   "execution_count": 6,
   "metadata": {
    "ExecuteTime": {
     "end_time": "2022-06-03T00:07:57.055424Z",
     "start_time": "2022-06-03T00:07:57.035477Z"
    }
   },
   "outputs": [
    {
     "data": {
      "text/plain": [
       "['98년', '2022년']"
      ]
     },
     "execution_count": 6,
     "metadata": {},
     "output_type": "execute_result"
    }
   ],
   "source": [
    "re.findall(r'\\d+년',ex1)"
   ]
  },
  {
   "cell_type": "markdown",
   "metadata": {},
   "source": [
    "문자 나누기 **split**   \n",
    "`re.split(패턴,문자열)`  \n",
    "여기서 패턴은 r'[.!?]'로 써도 괜찮  "
   ]
  },
  {
   "cell_type": "code",
   "execution_count": 3,
   "metadata": {
    "ExecuteTime": {
     "end_time": "2022-06-04T16:28:57.468784Z",
     "start_time": "2022-06-04T16:28:57.450700Z"
    }
   },
   "outputs": [
    {
     "data": {
      "text/plain": [
       "['I have a lovely dog, really',\n",
       " ' I am not telling a lie',\n",
       " ' What a pretty dog',\n",
       " ' I have this dog',\n",
       " '']"
      ]
     },
     "execution_count": 3,
     "metadata": {},
     "output_type": "execute_result"
    }
   ],
   "source": [
    "import re\n",
    "sentence=\"I have a lovely dog, really. I am not telling a lie. What a pretty dog! I have this dog.\"\n",
    "re.split(r'[.?!]',sentence)"
   ]
  },
  {
   "cell_type": "code",
   "execution_count": 6,
   "metadata": {
    "ExecuteTime": {
     "end_time": "2022-06-04T16:31:00.343105Z",
     "start_time": "2022-06-04T16:31:00.319680Z"
    }
   },
   "outputs": [
    {
     "name": "stdout",
     "output_type": "stream",
     "text": [
      "['a', '3']\n",
      "['b', '5']\n",
      "['c', '7']\n"
     ]
    }
   ],
   "source": [
    "data='a:3;b:5;c:7'\n",
    "for i in re.split(r';',data):\n",
    "    print(re.split(r':',i))"
   ]
  },
  {
   "cell_type": "markdown",
   "metadata": {},
   "source": [
    "문자열 바꾸기 **sub**    \n",
    "`re.sub(찾을 패턴,대체할 문자,찾을 문자열)`   "
   ]
  },
  {
   "cell_type": "code",
   "execution_count": 8,
   "metadata": {
    "ExecuteTime": {
     "end_time": "2022-06-04T16:33:43.864528Z",
     "start_time": "2022-06-04T16:33:43.855891Z"
    }
   },
   "outputs": [
    {
     "data": {
      "text/plain": [
       "'I have a lovely cat, really. I am not telling a lie. What a pretty cat! I have this cat.'"
      ]
     },
     "execution_count": 8,
     "metadata": {},
     "output_type": "execute_result"
    }
   ],
   "source": [
    "re.sub(r'dog','cat',sentence)"
   ]
  },
  {
   "cell_type": "code",
   "execution_count": 9,
   "metadata": {
    "ExecuteTime": {
     "end_time": "2022-06-04T16:34:50.870164Z",
     "start_time": "2022-06-04T16:34:50.856963Z"
    }
   },
   "outputs": [
    {
     "name": "stdout",
     "output_type": "stream",
     "text": [
      "I am home now.\n",
      "\n",
      "\n",
      "I am with my cat.\n",
      "\n",
      "\n"
     ]
    }
   ],
   "source": [
    "words='I am home now.\\n\\n\\nI am with my cat.\\n\\n'\n",
    "print(words)"
   ]
  },
  {
   "cell_type": "code",
   "execution_count": 10,
   "metadata": {
    "ExecuteTime": {
     "end_time": "2022-06-04T16:35:28.304830Z",
     "start_time": "2022-06-04T16:35:28.293586Z"
    }
   },
   "outputs": [
    {
     "data": {
      "text/plain": [
       "'I am home now.I am with my cat.'"
      ]
     },
     "execution_count": 10,
     "metadata": {},
     "output_type": "execute_result"
    }
   ],
   "source": [
    "re.sub(r'\\n','',words)"
   ]
  },
  {
   "cell_type": "code",
   "execution_count": 11,
   "metadata": {
    "ExecuteTime": {
     "end_time": "2022-06-04T16:36:29.447066Z",
     "start_time": "2022-06-04T16:36:29.430774Z"
    }
   },
   "outputs": [
    {
     "data": {
      "text/plain": [
       "['lovely', 'really']"
      ]
     },
     "execution_count": 11,
     "metadata": {},
     "output_type": "execute_result"
    }
   ],
   "source": [
    "re.findall(r'\\w+ly',sentence)"
   ]
  },
  {
   "cell_type": "markdown",
   "metadata": {},
   "source": [
    "문자나 숫자가 몇번을 나와도 좋으니 반복하고, ly로 끝나는 패턴을 의미"
   ]
  },
  {
   "cell_type": "markdown",
   "metadata": {},
   "source": [
    "### 3. 드라마 대본  파일 가공\n",
    "---"
   ]
  }
 ],
 "metadata": {
  "kernelspec": {
   "display_name": "Python 3",
   "language": "python",
   "name": "python3"
  },
  "language_info": {
   "codemirror_mode": {
    "name": "ipython",
    "version": 3
   },
   "file_extension": ".py",
   "mimetype": "text/x-python",
   "name": "python",
   "nbconvert_exporter": "python",
   "pygments_lexer": "ipython3",
   "version": "3.8.5"
  },
  "toc": {
   "base_numbering": 1,
   "nav_menu": {},
   "number_sections": true,
   "sideBar": true,
   "skip_h1_title": false,
   "title_cell": "Table of Contents",
   "title_sidebar": "Contents",
   "toc_cell": false,
   "toc_position": {},
   "toc_section_display": true,
   "toc_window_display": false
  }
 },
 "nbformat": 4,
 "nbformat_minor": 4
}
