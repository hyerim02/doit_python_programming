{
 "cells": [
  {
   "cell_type": "markdown",
   "metadata": {},
   "source": [
    "# 4장 csv파일로 데이터 다루기  \n",
    "---"
   ]
  },
  {
   "cell_type": "markdown",
   "metadata": {},
   "source": [
    "csv:쉼표로 나누어진 값을 저장하는 데이터를 의미  "
   ]
  },
  {
   "cell_type": "code",
   "execution_count": 31,
   "metadata": {
    "ExecuteTime": {
     "end_time": "2022-06-08T01:58:41.357716Z",
     "start_time": "2022-06-08T01:58:41.348443Z"
    }
   },
   "outputs": [],
   "source": [
    "import csv,os\n",
    "os.chdir(r'C:\\Users\\phl02\\Desktop\\P\\doit_python_programming')\n",
    "f=open('a.csv','r',encoding='utf-8-sig')"
   ]
  },
  {
   "cell_type": "code",
   "execution_count": 32,
   "metadata": {
    "ExecuteTime": {
     "end_time": "2022-06-08T01:58:42.390842Z",
     "start_time": "2022-06-08T01:58:42.374580Z"
    }
   },
   "outputs": [
    {
     "data": {
      "text/plain": [
       "<_csv.reader at 0x1f24da6fbe0>"
      ]
     },
     "execution_count": 32,
     "metadata": {},
     "output_type": "execute_result"
    }
   ],
   "source": [
    "new=csv.reader(f)\n",
    "new"
   ]
  },
  {
   "cell_type": "code",
   "execution_count": 33,
   "metadata": {
    "ExecuteTime": {
     "end_time": "2022-06-08T01:58:43.120129Z",
     "start_time": "2022-06-08T01:58:43.106563Z"
    }
   },
   "outputs": [
    {
     "name": "stdout",
     "output_type": "stream",
     "text": [
      "['국어', '영어', '수학']\n",
      "['90', '80', '100']\n"
     ]
    }
   ],
   "source": [
    "for i in new:\n",
    "    print(i)"
   ]
  },
  {
   "cell_type": "code",
   "execution_count": 34,
   "metadata": {
    "ExecuteTime": {
     "end_time": "2022-06-08T01:58:43.928415Z",
     "start_time": "2022-06-08T01:58:43.912345Z"
    }
   },
   "outputs": [
    {
     "name": "stdout",
     "output_type": "stream",
     "text": [
      "['국어', '영어', '수학']\n",
      "['90', '80', '100']\n"
     ]
    }
   ],
   "source": [
    "f.seek(0)\n",
    "a_list=[]\n",
    "for i in new:\n",
    "    print(i)\n",
    "    a_list.append(i)   "
   ]
  },
  {
   "cell_type": "code",
   "execution_count": 35,
   "metadata": {
    "ExecuteTime": {
     "end_time": "2022-06-08T01:58:48.983833Z",
     "start_time": "2022-06-08T01:58:48.966641Z"
    }
   },
   "outputs": [
    {
     "data": {
      "text/plain": [
       "[['국어', '영어', '수학'], ['90', '80', '100']]"
      ]
     },
     "execution_count": 35,
     "metadata": {},
     "output_type": "execute_result"
    }
   ],
   "source": [
    "a_list "
   ]
  },
  {
   "cell_type": "code",
   "execution_count": 41,
   "metadata": {
    "ExecuteTime": {
     "end_time": "2022-06-08T05:56:22.922087Z",
     "start_time": "2022-06-08T05:56:22.905052Z"
    }
   },
   "outputs": [],
   "source": [
    "def opencsv(filename):\n",
    "    f=open(filename,'r',encoding='utf-8-sig')\n",
    "    reader=csv.reader(f)\n",
    "    output=[]\n",
    "    for i in reader:\n",
    "        output.append(i)\n",
    "    return output\n",
    "    f.close()"
   ]
  },
  {
   "cell_type": "code",
   "execution_count": 42,
   "metadata": {
    "ExecuteTime": {
     "end_time": "2022-06-08T05:56:24.081325Z",
     "start_time": "2022-06-08T05:56:24.066763Z"
    }
   },
   "outputs": [
    {
     "data": {
      "text/plain": [
       "[['이름', '국어', '영어', '수학'],\n",
       " ['a', '90', '80', '100'],\n",
       " ['b', '80', '90', '90'],\n",
       " ['c', '100', '80', '60']]"
      ]
     },
     "execution_count": 42,
     "metadata": {},
     "output_type": "execute_result"
    }
   ],
   "source": [
    "opencsv('example2.csv')"
   ]
  },
  {
   "cell_type": "markdown",
   "metadata": {},
   "source": [
    "- 나만의 모듈 만들기"
   ]
  },
  {
   "cell_type": "markdown",
   "metadata": {
    "ExecuteTime": {
     "end_time": "2022-06-08T06:43:39.630605Z",
     "start_time": "2022-06-08T06:43:39.623288Z"
    }
   },
   "source": [
    "![csv](https://user-images.githubusercontent.com/105963819/172550234-caa5751c-ff5d-4ff3-a200-480eadf567fd.png)  \n",
    "\n",
    "![csv2](https://user-images.githubusercontent.com/105963819/172550230-78f1f240-adcb-483a-9a20-a1affa0f722c.png)"
   ]
  },
  {
   "cell_type": "code",
   "execution_count": 74,
   "metadata": {
    "ExecuteTime": {
     "end_time": "2022-06-08T06:53:51.859863Z",
     "start_time": "2022-06-08T06:53:51.851680Z"
    }
   },
   "outputs": [],
   "source": [
    "import os,re"
   ]
  },
  {
   "cell_type": "code",
   "execution_count": 75,
   "metadata": {
    "ExecuteTime": {
     "end_time": "2022-06-08T06:54:00.209121Z",
     "start_time": "2022-06-08T06:54:00.190769Z"
    }
   },
   "outputs": [],
   "source": [
    "import usecsv"
   ]
  },
  {
   "cell_type": "code",
   "execution_count": 76,
   "metadata": {
    "ExecuteTime": {
     "end_time": "2022-06-08T06:54:25.055716Z",
     "start_time": "2022-06-08T06:54:25.042180Z"
    }
   },
   "outputs": [],
   "source": [
    "os.chdir(r'C:\\Users\\phl02\\Desktop\\P\\doit_python_programming')"
   ]
  },
  {
   "cell_type": "code",
   "execution_count": 77,
   "metadata": {
    "ExecuteTime": {
     "end_time": "2022-06-08T06:54:55.086122Z",
     "start_time": "2022-06-08T06:54:55.062871Z"
    }
   },
   "outputs": [],
   "source": [
    "total=usecsv.opencsv('popSeoul.csv')"
   ]
  },
  {
   "cell_type": "code",
   "execution_count": 79,
   "metadata": {
    "ExecuteTime": {
     "end_time": "2022-06-08T06:55:17.440281Z",
     "start_time": "2022-06-08T06:55:17.429223Z"
    }
   },
   "outputs": [
    {
     "name": "stdout",
     "output_type": "stream",
     "text": [
      "['Gu', 'Korean', 'Foreigner', 'Senior']\n",
      "['Total', '9,740,398', '285,529', '1,468,146']\n",
      "['Jongrogu', '151,767', '11,093', '27,394']\n",
      "['Jongru', '126,409', '10,254', '23,025']\n",
      "['Yongsangu', '228,830', '16,159', '38,531']\n"
     ]
    }
   ],
   "source": [
    "for i in total[:5]:\n",
    "    print(i)"
   ]
  },
  {
   "cell_type": "code",
   "execution_count": null,
   "metadata": {},
   "outputs": [],
   "source": []
  },
  {
   "cell_type": "code",
   "execution_count": null,
   "metadata": {},
   "outputs": [],
   "source": []
  },
  {
   "cell_type": "code",
   "execution_count": null,
   "metadata": {},
   "outputs": [],
   "source": []
  },
  {
   "cell_type": "code",
   "execution_count": null,
   "metadata": {},
   "outputs": [],
   "source": []
  },
  {
   "cell_type": "code",
   "execution_count": null,
   "metadata": {},
   "outputs": [],
   "source": []
  }
 ],
 "metadata": {
  "kernelspec": {
   "display_name": "Python 3",
   "language": "python",
   "name": "python3"
  },
  "language_info": {
   "codemirror_mode": {
    "name": "ipython",
    "version": 3
   },
   "file_extension": ".py",
   "mimetype": "text/x-python",
   "name": "python",
   "nbconvert_exporter": "python",
   "pygments_lexer": "ipython3",
   "version": "3.8.5"
  },
  "toc": {
   "base_numbering": 1,
   "nav_menu": {},
   "number_sections": true,
   "sideBar": true,
   "skip_h1_title": false,
   "title_cell": "Table of Contents",
   "title_sidebar": "Contents",
   "toc_cell": false,
   "toc_position": {},
   "toc_section_display": true,
   "toc_window_display": false
  }
 },
 "nbformat": 4,
 "nbformat_minor": 4
}
