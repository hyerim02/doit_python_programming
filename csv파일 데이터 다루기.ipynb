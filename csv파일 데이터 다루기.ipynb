{
 "cells": [
  {
   "cell_type": "markdown",
   "metadata": {},
   "source": [
    "# 4장 csv파일로 데이터 다루기  \n",
    "---"
   ]
  },
  {
   "cell_type": "markdown",
   "metadata": {},
   "source": [
    "csv:쉼표로 나누어진 값을 저장하는 데이터를 의미  "
   ]
  },
  {
   "cell_type": "code",
   "execution_count": 1,
   "metadata": {
    "ExecuteTime": {
     "end_time": "2022-06-08T12:16:15.759445Z",
     "start_time": "2022-06-08T12:16:15.745998Z"
    }
   },
   "outputs": [],
   "source": [
    "import csv,os\n",
    "os.chdir(r'C:\\Users\\phl02\\Desktop\\P\\doit_python_programming')\n",
    "f=open('a.csv','r',encoding='utf-8-sig')"
   ]
  },
  {
   "cell_type": "code",
   "execution_count": 2,
   "metadata": {
    "ExecuteTime": {
     "end_time": "2022-06-08T12:16:15.774407Z",
     "start_time": "2022-06-08T12:16:15.761442Z"
    }
   },
   "outputs": [
    {
     "data": {
      "text/plain": [
       "<_csv.reader at 0x22cf0c55280>"
      ]
     },
     "execution_count": 2,
     "metadata": {},
     "output_type": "execute_result"
    }
   ],
   "source": [
    "new=csv.reader(f)\n",
    "new"
   ]
  },
  {
   "cell_type": "code",
   "execution_count": 3,
   "metadata": {
    "ExecuteTime": {
     "end_time": "2022-06-08T12:16:15.789690Z",
     "start_time": "2022-06-08T12:16:15.776401Z"
    }
   },
   "outputs": [
    {
     "name": "stdout",
     "output_type": "stream",
     "text": [
      "['국어', '영어', '수학']\n",
      "['90', '80', '100']\n"
     ]
    }
   ],
   "source": [
    "for i in new:\n",
    "    print(i)"
   ]
  },
  {
   "cell_type": "code",
   "execution_count": 4,
   "metadata": {
    "ExecuteTime": {
     "end_time": "2022-06-08T12:16:15.805080Z",
     "start_time": "2022-06-08T12:16:15.791116Z"
    }
   },
   "outputs": [
    {
     "name": "stdout",
     "output_type": "stream",
     "text": [
      "['국어', '영어', '수학']\n",
      "['90', '80', '100']\n"
     ]
    }
   ],
   "source": [
    "f.seek(0)\n",
    "a_list=[]\n",
    "for i in new:\n",
    "    print(i)\n",
    "    a_list.append(i)   "
   ]
  },
  {
   "cell_type": "code",
   "execution_count": 5,
   "metadata": {
    "ExecuteTime": {
     "end_time": "2022-06-08T12:16:15.820039Z",
     "start_time": "2022-06-08T12:16:15.808071Z"
    }
   },
   "outputs": [
    {
     "data": {
      "text/plain": [
       "[['국어', '영어', '수학'], ['90', '80', '100']]"
      ]
     },
     "execution_count": 5,
     "metadata": {},
     "output_type": "execute_result"
    }
   ],
   "source": [
    "a_list "
   ]
  },
  {
   "cell_type": "code",
   "execution_count": 6,
   "metadata": {
    "ExecuteTime": {
     "end_time": "2022-06-08T12:16:15.835003Z",
     "start_time": "2022-06-08T12:16:15.822035Z"
    }
   },
   "outputs": [],
   "source": [
    "def opencsv(filename):\n",
    "    f=open(filename,'r',encoding='utf-8-sig')\n",
    "    reader=csv.reader(f)\n",
    "    output=[]\n",
    "    for i in reader:\n",
    "        output.append(i)\n",
    "    return output\n",
    "    f.close()"
   ]
  },
  {
   "cell_type": "code",
   "execution_count": 7,
   "metadata": {
    "ExecuteTime": {
     "end_time": "2022-06-08T12:16:15.849958Z",
     "start_time": "2022-06-08T12:16:15.836994Z"
    }
   },
   "outputs": [
    {
     "data": {
      "text/plain": [
       "[['이름', '국어', '영어', '수학'],\n",
       " ['a', '90', '80', '100'],\n",
       " ['b', '80', '90', '90'],\n",
       " ['c', '100', '80', '60']]"
      ]
     },
     "execution_count": 7,
     "metadata": {},
     "output_type": "execute_result"
    }
   ],
   "source": [
    "opencsv('example2.csv')"
   ]
  },
  {
   "cell_type": "markdown",
   "metadata": {},
   "source": [
    "- 나만의 모듈 만들기"
   ]
  },
  {
   "cell_type": "code",
   "execution_count": 8,
   "metadata": {
    "ExecuteTime": {
     "end_time": "2022-06-08T12:16:15.865003Z",
     "start_time": "2022-06-08T12:16:15.851953Z"
    }
   },
   "outputs": [],
   "source": [
    "import os,re"
   ]
  },
  {
   "cell_type": "code",
   "execution_count": 9,
   "metadata": {
    "ExecuteTime": {
     "end_time": "2022-06-08T12:16:15.880740Z",
     "start_time": "2022-06-08T12:16:15.866995Z"
    }
   },
   "outputs": [],
   "source": [
    "import usecsv"
   ]
  },
  {
   "cell_type": "code",
   "execution_count": 10,
   "metadata": {
    "ExecuteTime": {
     "end_time": "2022-06-08T12:16:15.895703Z",
     "start_time": "2022-06-08T12:16:15.882724Z"
    }
   },
   "outputs": [],
   "source": [
    "os.chdir(r'C:\\Users\\phl02\\Desktop\\P\\doit_python_programming')"
   ]
  },
  {
   "cell_type": "code",
   "execution_count": 11,
   "metadata": {
    "ExecuteTime": {
     "end_time": "2022-06-08T12:16:15.910621Z",
     "start_time": "2022-06-08T12:16:15.899604Z"
    }
   },
   "outputs": [],
   "source": [
    "total=usecsv.opencsv('popSeoul.csv')"
   ]
  },
  {
   "cell_type": "code",
   "execution_count": 12,
   "metadata": {
    "ExecuteTime": {
     "end_time": "2022-06-08T12:16:15.925497Z",
     "start_time": "2022-06-08T12:16:15.917557Z"
    }
   },
   "outputs": [
    {
     "name": "stdout",
     "output_type": "stream",
     "text": [
      "['Gu', 'Korean', 'Foreigner', 'Senior']\n",
      "['Total', '9,740,398', '285,529', '1,468,146']\n",
      "['Jongrogu', '151,767', '11,093', '27,394']\n",
      "['Jongru', '126,409', '10,254', '23,025']\n",
      "['Yongsangu', '228,830', '16,159', '38,531']\n"
     ]
    }
   ],
   "source": [
    "for i in total[:5]:\n",
    "    print(i)"
   ]
  },
  {
   "cell_type": "code",
   "execution_count": 14,
   "metadata": {
    "ExecuteTime": {
     "end_time": "2022-06-08T12:20:52.757697Z",
     "start_time": "2022-06-08T12:20:52.751148Z"
    }
   },
   "outputs": [],
   "source": [
    "import os,re"
   ]
  },
  {
   "cell_type": "code",
   "execution_count": 15,
   "metadata": {
    "ExecuteTime": {
     "end_time": "2022-06-08T12:20:54.004523Z",
     "start_time": "2022-06-08T12:20:53.990238Z"
    }
   },
   "outputs": [],
   "source": [
    "import usecsv"
   ]
  },
  {
   "cell_type": "code",
   "execution_count": 16,
   "metadata": {
    "ExecuteTime": {
     "end_time": "2022-06-08T12:20:54.867121Z",
     "start_time": "2022-06-08T12:20:54.854705Z"
    }
   },
   "outputs": [],
   "source": [
    "os.chdir(r'C:\\Users\\phl02\\Desktop\\P\\doit_python_programming')"
   ]
  },
  {
   "cell_type": "code",
   "execution_count": 17,
   "metadata": {
    "ExecuteTime": {
     "end_time": "2022-06-08T12:20:55.613325Z",
     "start_time": "2022-06-08T12:20:55.603389Z"
    }
   },
   "outputs": [],
   "source": [
    "a=[['국어', '영어', '수학'], [90, 80, 100]]\n",
    "usecsv.writecsv('test.csv',a)"
   ]
  },
  {
   "cell_type": "code",
   "execution_count": null,
   "metadata": {},
   "outputs": [],
   "source": []
  }
 ],
 "metadata": {
  "kernelspec": {
   "display_name": "Python 3",
   "language": "python",
   "name": "python3"
  },
  "language_info": {
   "codemirror_mode": {
    "name": "ipython",
    "version": 3
   },
   "file_extension": ".py",
   "mimetype": "text/x-python",
   "name": "python",
   "nbconvert_exporter": "python",
   "pygments_lexer": "ipython3",
   "version": "3.8.5"
  },
  "toc": {
   "base_numbering": 1,
   "nav_menu": {},
   "number_sections": true,
   "sideBar": true,
   "skip_h1_title": false,
   "title_cell": "Table of Contents",
   "title_sidebar": "Contents",
   "toc_cell": false,
   "toc_position": {},
   "toc_section_display": true,
   "toc_window_display": false
  }
 },
 "nbformat": 4,
 "nbformat_minor": 4
}
