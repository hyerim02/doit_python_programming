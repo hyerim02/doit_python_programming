{
 "cells": [
  {
   "cell_type": "markdown",
   "metadata": {},
   "source": [
    "# 4장 csv파일로 데이터 다루기  \n",
    "---"
   ]
  },
  {
   "cell_type": "markdown",
   "metadata": {},
   "source": [
    "## 파이썬으로 csv파일 읽고 쓰기"
   ]
  },
  {
   "cell_type": "markdown",
   "metadata": {},
   "source": [
    "csv:쉼표로 나누어진 값을 저장하는 데이터를 의미  "
   ]
  },
  {
   "cell_type": "code",
   "execution_count": 43,
   "metadata": {
    "ExecuteTime": {
     "end_time": "2022-06-09T14:15:46.655455Z",
     "start_time": "2022-06-09T14:15:46.638622Z"
    }
   },
   "outputs": [],
   "source": [
    "import csv,os\n",
    "os.chdir(r'C:\\Users\\phl02\\Desktop\\P\\doit_python_programming')\n",
    "f=open('a.csv','r',encoding='utf-8-sig')"
   ]
  },
  {
   "cell_type": "code",
   "execution_count": 44,
   "metadata": {
    "ExecuteTime": {
     "end_time": "2022-06-09T14:15:46.670787Z",
     "start_time": "2022-06-09T14:15:46.658330Z"
    }
   },
   "outputs": [
    {
     "data": {
      "text/plain": [
       "<_csv.reader at 0x196b252fb80>"
      ]
     },
     "execution_count": 44,
     "metadata": {},
     "output_type": "execute_result"
    }
   ],
   "source": [
    "new=csv.reader(f)\n",
    "new"
   ]
  },
  {
   "cell_type": "code",
   "execution_count": 45,
   "metadata": {
    "ExecuteTime": {
     "end_time": "2022-06-09T14:15:46.685828Z",
     "start_time": "2022-06-09T14:15:46.672747Z"
    }
   },
   "outputs": [
    {
     "name": "stdout",
     "output_type": "stream",
     "text": [
      "['국어', '영어', '수학']\n",
      "['90', '80', '100']\n"
     ]
    }
   ],
   "source": [
    "for i in new:\n",
    "    print(i)"
   ]
  },
  {
   "cell_type": "code",
   "execution_count": 46,
   "metadata": {
    "ExecuteTime": {
     "end_time": "2022-06-09T14:15:46.700706Z",
     "start_time": "2022-06-09T14:15:46.687707Z"
    }
   },
   "outputs": [
    {
     "name": "stdout",
     "output_type": "stream",
     "text": [
      "['국어', '영어', '수학']\n",
      "['90', '80', '100']\n"
     ]
    }
   ],
   "source": [
    "f.seek(0)\n",
    "a_list=[]\n",
    "for i in new:\n",
    "    print(i)\n",
    "    a_list.append(i)   "
   ]
  },
  {
   "cell_type": "code",
   "execution_count": 47,
   "metadata": {
    "ExecuteTime": {
     "end_time": "2022-06-09T14:15:46.715665Z",
     "start_time": "2022-06-09T14:15:46.702704Z"
    }
   },
   "outputs": [
    {
     "data": {
      "text/plain": [
       "[['국어', '영어', '수학'], ['90', '80', '100']]"
      ]
     },
     "execution_count": 47,
     "metadata": {},
     "output_type": "execute_result"
    }
   ],
   "source": [
    "a_list "
   ]
  },
  {
   "cell_type": "code",
   "execution_count": 48,
   "metadata": {
    "ExecuteTime": {
     "end_time": "2022-06-09T14:15:46.730628Z",
     "start_time": "2022-06-09T14:15:46.717660Z"
    }
   },
   "outputs": [],
   "source": [
    "def opencsv(filename):\n",
    "    f=open(filename,'r',encoding='utf-8-sig')\n",
    "    reader=csv.reader(f)\n",
    "    output=[]\n",
    "    for i in reader:\n",
    "        output.append(i)\n",
    "    return output\n",
    "    f.close()"
   ]
  },
  {
   "cell_type": "code",
   "execution_count": 49,
   "metadata": {
    "ExecuteTime": {
     "end_time": "2022-06-09T14:15:46.745591Z",
     "start_time": "2022-06-09T14:15:46.732621Z"
    }
   },
   "outputs": [
    {
     "data": {
      "text/plain": [
       "[['이름', '국어', '영어', '수학'],\n",
       " ['a', '90', '80', '100'],\n",
       " ['b', '80', '90', '90'],\n",
       " ['c', '100', '80', '60']]"
      ]
     },
     "execution_count": 49,
     "metadata": {},
     "output_type": "execute_result"
    }
   ],
   "source": [
    "opencsv('example2.csv')"
   ]
  },
  {
   "cell_type": "markdown",
   "metadata": {},
   "source": [
    "- 나만의 모듈 만들기"
   ]
  },
  {
   "cell_type": "code",
   "execution_count": 50,
   "metadata": {
    "ExecuteTime": {
     "end_time": "2022-06-09T14:15:46.761603Z",
     "start_time": "2022-06-09T14:15:46.750573Z"
    }
   },
   "outputs": [],
   "source": [
    "import os,re"
   ]
  },
  {
   "cell_type": "code",
   "execution_count": 51,
   "metadata": {
    "ExecuteTime": {
     "end_time": "2022-06-09T14:15:46.776410Z",
     "start_time": "2022-06-09T14:15:46.765602Z"
    }
   },
   "outputs": [],
   "source": [
    "import usecsv"
   ]
  },
  {
   "cell_type": "code",
   "execution_count": 52,
   "metadata": {
    "ExecuteTime": {
     "end_time": "2022-06-09T14:15:46.791531Z",
     "start_time": "2022-06-09T14:15:46.779665Z"
    }
   },
   "outputs": [],
   "source": [
    "os.chdir(r'C:\\Users\\phl02\\Desktop\\P\\doit_python_programming')"
   ]
  },
  {
   "cell_type": "code",
   "execution_count": 53,
   "metadata": {
    "ExecuteTime": {
     "end_time": "2022-06-09T14:15:46.806619Z",
     "start_time": "2022-06-09T14:15:46.794525Z"
    }
   },
   "outputs": [],
   "source": [
    "a=[['국어', '영어', '수학'], [90, 80, 100]]\n",
    "usecsv.writecsv('test.csv',a)"
   ]
  },
  {
   "cell_type": "markdown",
   "metadata": {},
   "source": [
    "##  파일 안의 문자를 숫자로 전환"
   ]
  },
  {
   "cell_type": "code",
   "execution_count": 72,
   "metadata": {
    "ExecuteTime": {
     "end_time": "2022-06-09T14:17:33.394905Z",
     "start_time": "2022-06-09T14:17:33.386403Z"
    }
   },
   "outputs": [],
   "source": [
    "import os,re"
   ]
  },
  {
   "cell_type": "code",
   "execution_count": 74,
   "metadata": {
    "ExecuteTime": {
     "end_time": "2022-06-09T14:17:35.199365Z",
     "start_time": "2022-06-09T14:17:35.190936Z"
    }
   },
   "outputs": [],
   "source": [
    "import usecsv"
   ]
  },
  {
   "cell_type": "code",
   "execution_count": 75,
   "metadata": {
    "ExecuteTime": {
     "end_time": "2022-06-09T14:17:36.498002Z",
     "start_time": "2022-06-09T14:17:36.486601Z"
    }
   },
   "outputs": [],
   "source": [
    "os.chdir(r'C:\\Users\\phl02\\Desktop\\P\\doit_python_programming')"
   ]
  },
  {
   "cell_type": "code",
   "execution_count": 76,
   "metadata": {
    "ExecuteTime": {
     "end_time": "2022-06-09T14:17:37.333963Z",
     "start_time": "2022-06-09T14:17:37.326635Z"
    }
   },
   "outputs": [],
   "source": [
    "total=usecsv.opencsv('popSeoul.csv')"
   ]
  },
  {
   "cell_type": "code",
   "execution_count": 77,
   "metadata": {
    "ExecuteTime": {
     "end_time": "2022-06-09T14:17:38.434725Z",
     "start_time": "2022-06-09T14:17:38.419702Z"
    }
   },
   "outputs": [
    {
     "name": "stdout",
     "output_type": "stream",
     "text": [
      "['Gu', 'Korean', 'Foreigner', 'Senior']\n",
      "['Total', '9,740,398', '285,529', '1,468,146']\n",
      "['Jongrogu', '151,767', '11,093', '27,394']\n",
      "['Jongru', '126,409', '10,254', '23,025']\n",
      "['Yongsangu', '228,830', '16,159', '38,531']\n"
     ]
    }
   ],
   "source": [
    "for i in total[:5]:\n",
    "    print(i)"
   ]
  },
  {
   "cell_type": "code",
   "execution_count": 78,
   "metadata": {
    "ExecuteTime": {
     "end_time": "2022-06-09T14:17:39.303961Z",
     "start_time": "2022-06-09T14:17:39.290926Z"
    }
   },
   "outputs": [
    {
     "data": {
      "text/plain": [
       "['Jongrogu', '151,767', '11,093', '27,394']"
      ]
     },
     "execution_count": 78,
     "metadata": {},
     "output_type": "execute_result"
    }
   ],
   "source": [
    "import re \n",
    "i=total[2]\n",
    "i"
   ]
  },
  {
   "cell_type": "code",
   "execution_count": 79,
   "metadata": {
    "ExecuteTime": {
     "end_time": "2022-06-09T14:17:40.409304Z",
     "start_time": "2022-06-09T14:17:40.391410Z"
    }
   },
   "outputs": [],
   "source": [
    "k=[]\n",
    "for j in i:\n",
    "    if re.search('\\d',j):\n",
    "        k.append(float(re.sub(',','',j)))\n",
    "    else:\n",
    "        k.append(j)"
   ]
  },
  {
   "cell_type": "code",
   "execution_count": 80,
   "metadata": {
    "ExecuteTime": {
     "end_time": "2022-06-09T14:17:41.450038Z",
     "start_time": "2022-06-09T14:17:41.442030Z"
    }
   },
   "outputs": [
    {
     "data": {
      "text/plain": [
       "['Jongrogu', 151767.0, 11093.0, 27394.0]"
      ]
     },
     "execution_count": 80,
     "metadata": {},
     "output_type": "execute_result"
    }
   ],
   "source": [
    "k"
   ]
  },
  {
   "cell_type": "code",
   "execution_count": 81,
   "metadata": {
    "ExecuteTime": {
     "end_time": "2022-06-09T14:17:42.427019Z",
     "start_time": "2022-06-09T14:17:42.414503Z"
    }
   },
   "outputs": [
    {
     "ename": "ValueError",
     "evalue": "could not convert string to float: '123강남'",
     "output_type": "error",
     "traceback": [
      "\u001b[1;31m---------------------------------------------------------------------------\u001b[0m",
      "\u001b[1;31mValueError\u001b[0m                                Traceback (most recent call last)",
      "\u001b[1;32m<ipython-input-81-21e0a1113b00>\u001b[0m in \u001b[0;36m<module>\u001b[1;34m\u001b[0m\n\u001b[0;32m      3\u001b[0m \u001b[1;32mfor\u001b[0m \u001b[0mj\u001b[0m \u001b[1;32min\u001b[0m \u001b[0mp\u001b[0m\u001b[1;33m:\u001b[0m\u001b[1;33m\u001b[0m\u001b[1;33m\u001b[0m\u001b[0m\n\u001b[0;32m      4\u001b[0m     \u001b[1;32mif\u001b[0m \u001b[0mre\u001b[0m\u001b[1;33m.\u001b[0m\u001b[0msearch\u001b[0m\u001b[1;33m(\u001b[0m\u001b[1;34m'\\d'\u001b[0m\u001b[1;33m,\u001b[0m\u001b[0mj\u001b[0m\u001b[1;33m)\u001b[0m\u001b[1;33m:\u001b[0m\u001b[1;33m\u001b[0m\u001b[1;33m\u001b[0m\u001b[0m\n\u001b[1;32m----> 5\u001b[1;33m         \u001b[0mk\u001b[0m\u001b[1;33m.\u001b[0m\u001b[0mappend\u001b[0m\u001b[1;33m(\u001b[0m\u001b[0mfloat\u001b[0m\u001b[1;33m(\u001b[0m\u001b[0mre\u001b[0m\u001b[1;33m.\u001b[0m\u001b[0msub\u001b[0m\u001b[1;33m(\u001b[0m\u001b[1;34m','\u001b[0m\u001b[1;33m,\u001b[0m\u001b[1;34m''\u001b[0m\u001b[1;33m,\u001b[0m\u001b[0mj\u001b[0m\u001b[1;33m)\u001b[0m\u001b[1;33m)\u001b[0m\u001b[1;33m)\u001b[0m\u001b[1;33m\u001b[0m\u001b[1;33m\u001b[0m\u001b[0m\n\u001b[0m\u001b[0;32m      6\u001b[0m     \u001b[1;32melse\u001b[0m\u001b[1;33m:\u001b[0m\u001b[1;33m\u001b[0m\u001b[1;33m\u001b[0m\u001b[0m\n\u001b[0;32m      7\u001b[0m         \u001b[0mk\u001b[0m\u001b[1;33m.\u001b[0m\u001b[0mappend\u001b[0m\u001b[1;33m(\u001b[0m\u001b[0mj\u001b[0m\u001b[1;33m)\u001b[0m\u001b[1;33m\u001b[0m\u001b[1;33m\u001b[0m\u001b[0m\n",
      "\u001b[1;31mValueError\u001b[0m: could not convert string to float: '123강남'"
     ]
    }
   ],
   "source": [
    "p=['123강남','157,767','11,093','27,394']\n",
    "k=[]\n",
    "for j in p:\n",
    "    if re.search('\\d',j):\n",
    "        k.append(float(re.sub(',','',j)))\n",
    "    else:\n",
    "        k.append(j)"
   ]
  },
  {
   "cell_type": "markdown",
   "metadata": {},
   "source": [
    "'123강남'은 숫자가 포함되어 있지만 float()함수로 바꿀 수 없가 때문에 오류"
   ]
  },
  {
   "cell_type": "code",
   "execution_count": 82,
   "metadata": {
    "ExecuteTime": {
     "end_time": "2022-06-09T14:17:43.552953Z",
     "start_time": "2022-06-09T14:17:43.546095Z"
    }
   },
   "outputs": [
    {
     "data": {
      "text/plain": [
       "['123강남', 157767.0, 11093.0, 27394.0]"
      ]
     },
     "execution_count": 82,
     "metadata": {},
     "output_type": "execute_result"
    }
   ],
   "source": [
    "for j in p:\n",
    "    if re.search('[a-z가-힣]',j):\n",
    "         k.append(j)\n",
    "    else:\n",
    "         k.append(float(re.sub(',','',j)))\n",
    "k            "
   ]
  },
  {
   "cell_type": "code",
   "execution_count": 83,
   "metadata": {
    "ExecuteTime": {
     "end_time": "2022-06-09T14:17:46.335286Z",
     "start_time": "2022-06-09T14:17:46.326308Z"
    }
   },
   "outputs": [
    {
     "ename": "ValueError",
     "evalue": "could not convert string to float: '123!!'",
     "output_type": "error",
     "traceback": [
      "\u001b[1;31m---------------------------------------------------------------------------\u001b[0m",
      "\u001b[1;31mValueError\u001b[0m                                Traceback (most recent call last)",
      "\u001b[1;32m<ipython-input-83-cb7e78535377>\u001b[0m in \u001b[0;36m<module>\u001b[1;34m\u001b[0m\n\u001b[0;32m      5\u001b[0m          \u001b[0mk\u001b[0m\u001b[1;33m.\u001b[0m\u001b[0mappend\u001b[0m\u001b[1;33m(\u001b[0m\u001b[0mj\u001b[0m\u001b[1;33m)\u001b[0m\u001b[1;33m\u001b[0m\u001b[1;33m\u001b[0m\u001b[0m\n\u001b[0;32m      6\u001b[0m     \u001b[1;32melse\u001b[0m\u001b[1;33m:\u001b[0m\u001b[1;33m\u001b[0m\u001b[1;33m\u001b[0m\u001b[0m\n\u001b[1;32m----> 7\u001b[1;33m          \u001b[0mk\u001b[0m\u001b[1;33m.\u001b[0m\u001b[0mappend\u001b[0m\u001b[1;33m(\u001b[0m\u001b[0mfloat\u001b[0m\u001b[1;33m(\u001b[0m\u001b[0mre\u001b[0m\u001b[1;33m.\u001b[0m\u001b[0msub\u001b[0m\u001b[1;33m(\u001b[0m\u001b[1;34m','\u001b[0m\u001b[1;33m,\u001b[0m\u001b[1;34m''\u001b[0m\u001b[1;33m,\u001b[0m\u001b[0mj\u001b[0m\u001b[1;33m)\u001b[0m\u001b[1;33m)\u001b[0m\u001b[1;33m)\u001b[0m\u001b[1;33m\u001b[0m\u001b[1;33m\u001b[0m\u001b[0m\n\u001b[0m",
      "\u001b[1;31mValueError\u001b[0m: could not convert string to float: '123!!'"
     ]
    }
   ],
   "source": [
    "i=['123!!','151,767','11,093','27,394']\n",
    "k=[]\n",
    "for j in i:\n",
    "    if re.search('[a-z가-힣]',j):\n",
    "         k.append(j)\n",
    "    else:\n",
    "         k.append(float(re.sub(',','',j)))                  "
   ]
  },
  {
   "cell_type": "markdown",
   "metadata": {},
   "source": [
    "!가 있어서 숫자형으로 바뀌지 않음"
   ]
  },
  {
   "cell_type": "code",
   "execution_count": 84,
   "metadata": {
    "ExecuteTime": {
     "end_time": "2022-06-09T14:17:47.693650Z",
     "start_time": "2022-06-09T14:17:47.672268Z"
    }
   },
   "outputs": [
    {
     "data": {
      "text/plain": [
       "['123!!', 151767.0, 11093.0, 27394.0]"
      ]
     },
     "execution_count": 84,
     "metadata": {},
     "output_type": "execute_result"
    }
   ],
   "source": [
    "i=['123!!','151,767','11,093','27,394']\n",
    "for j in i:\n",
    "    if re.search('[a-z가-힣!]',j):\n",
    "         k.append(j)\n",
    "    else:\n",
    "         k.append(float(re.sub(',','',j)))\n",
    "k                  "
   ]
  },
  {
   "cell_type": "code",
   "execution_count": 91,
   "metadata": {
    "ExecuteTime": {
     "end_time": "2022-06-09T14:25:15.002635Z",
     "start_time": "2022-06-09T14:25:14.988249Z"
    }
   },
   "outputs": [
    {
     "data": {
      "text/plain": [
       "['123!!', 151767.0, 11093.0, 27394.0]"
      ]
     },
     "execution_count": 91,
     "metadata": {},
     "output_type": "execute_result"
    }
   ],
   "source": [
    "i=['123!!','151,767','11,093','27,394']\n",
    "for j in i:\n",
    "    if re.search('[a-z가-힣!]',j):\n",
    "         i[i.index(j)]=j\n",
    "    else:\n",
    "         i[i.index(j)]=(float(re.sub(',','',j))) \n",
    "i            "
   ]
  },
  {
   "cell_type": "markdown",
   "metadata": {},
   "source": [
    "i.idex(j)은 j가 들어 있는 인덱스 번호  \n",
    "이제 굳이 k를 안 만들고 기존의 i로 새로 바꿀 수 있다고 생각  \n",
    "근데 여기에 ''을 추가하면 오류가 뜸"
   ]
  },
  {
   "cell_type": "code",
   "execution_count": 92,
   "metadata": {
    "ExecuteTime": {
     "end_time": "2022-06-09T14:25:50.353852Z",
     "start_time": "2022-06-09T14:25:50.331120Z"
    }
   },
   "outputs": [
    {
     "ename": "ValueError",
     "evalue": "could not convert string to float: ''",
     "output_type": "error",
     "traceback": [
      "\u001b[1;31m---------------------------------------------------------------------------\u001b[0m",
      "\u001b[1;31mValueError\u001b[0m                                Traceback (most recent call last)",
      "\u001b[1;32m<ipython-input-92-01db3fc1f048>\u001b[0m in \u001b[0;36m<module>\u001b[1;34m\u001b[0m\n\u001b[0;32m      4\u001b[0m          \u001b[0mi\u001b[0m\u001b[1;33m[\u001b[0m\u001b[0mi\u001b[0m\u001b[1;33m.\u001b[0m\u001b[0mindex\u001b[0m\u001b[1;33m(\u001b[0m\u001b[0mj\u001b[0m\u001b[1;33m)\u001b[0m\u001b[1;33m]\u001b[0m\u001b[1;33m=\u001b[0m\u001b[0mj\u001b[0m\u001b[1;33m\u001b[0m\u001b[1;33m\u001b[0m\u001b[0m\n\u001b[0;32m      5\u001b[0m     \u001b[1;32melse\u001b[0m\u001b[1;33m:\u001b[0m\u001b[1;33m\u001b[0m\u001b[1;33m\u001b[0m\u001b[0m\n\u001b[1;32m----> 6\u001b[1;33m          \u001b[0mi\u001b[0m\u001b[1;33m[\u001b[0m\u001b[0mi\u001b[0m\u001b[1;33m.\u001b[0m\u001b[0mindex\u001b[0m\u001b[1;33m(\u001b[0m\u001b[0mj\u001b[0m\u001b[1;33m)\u001b[0m\u001b[1;33m]\u001b[0m\u001b[1;33m=\u001b[0m\u001b[1;33m(\u001b[0m\u001b[0mfloat\u001b[0m\u001b[1;33m(\u001b[0m\u001b[0mre\u001b[0m\u001b[1;33m.\u001b[0m\u001b[0msub\u001b[0m\u001b[1;33m(\u001b[0m\u001b[1;34m','\u001b[0m\u001b[1;33m,\u001b[0m\u001b[1;34m''\u001b[0m\u001b[1;33m,\u001b[0m\u001b[0mj\u001b[0m\u001b[1;33m)\u001b[0m\u001b[1;33m)\u001b[0m\u001b[1;33m)\u001b[0m\u001b[1;33m\u001b[0m\u001b[1;33m\u001b[0m\u001b[0m\n\u001b[0m",
      "\u001b[1;31mValueError\u001b[0m: could not convert string to float: ''"
     ]
    }
   ],
   "source": [
    "i=['123!!','151,767','11,093','27,394','']\n",
    "for j in i:\n",
    "    if re.search('[a-z가-힣!]',j):\n",
    "         i[i.index(j)]=j\n",
    "    else:\n",
    "         i[i.index(j)]=(float(re.sub(',','',j)))   "
   ]
  },
  {
   "cell_type": "markdown",
   "metadata": {},
   "source": [
    "실수로 바꾸는 명령어가 숫자형으로 정확허게 바꿀 수 있는 값만 인수로 받아서 나머지는 오류  \n",
    "예외처리는 try와 except 사용"
   ]
  },
  {
   "cell_type": "code",
   "execution_count": 23,
   "metadata": {
    "ExecuteTime": {
     "end_time": "2022-06-09T15:04:34.304114Z",
     "start_time": "2022-06-09T15:04:34.293078Z"
    }
   },
   "outputs": [
    {
     "data": {
      "text/plain": [
       "['123!!', 151767.0, 11093.0, 27394.0, '', '!!!$&%']"
      ]
     },
     "execution_count": 23,
     "metadata": {},
     "output_type": "execute_result"
    }
   ],
   "source": [
    "i=['123!!','151,767','11,093','27,394','','!!!$&%']\n",
    "for j in i:\n",
    "    try:\n",
    "         i[i.index(j)]=(float(re.sub(',','',j)))\n",
    "    except:\n",
    "        pass\n",
    "i    "
   ]
  },
  {
   "cell_type": "markdown",
   "metadata": {},
   "source": [
    "try:  \n",
    "&nbsp;&nbsp;&nbsp;&nbsp;&nbsp;실행할 명령문  \n",
    "except:  \n",
    "&nbsp;&nbsp;&nbsp;&nbsp;&nbsp;예외 처리 규정\n",
    "        "
   ]
  },
  {
   "cell_type": "code",
   "execution_count": 24,
   "metadata": {
    "ExecuteTime": {
     "end_time": "2022-06-09T15:04:38.754372Z",
     "start_time": "2022-06-09T15:04:38.735794Z"
    }
   },
   "outputs": [
    {
     "data": {
      "text/plain": [
       "[['Gu', 'Korean', 'Foreigner', 'Senior'],\n",
       " ['Total', '9,740,398', '285,529', '1,468,146'],\n",
       " ['Jongrogu', '151,767', '11,093', '27,394'],\n",
       " ['Jongru', '126,409', '10,254', '23,025'],\n",
       " ['Yongsangu', '228,830', '16,159', '38,531'],\n",
       " ['Seongdonggu', '303,158', '8,132', '43,662'],\n",
       " ['Kwangjingu', '352,692', '15,645', '47,347'],\n",
       " ['Dongdaemoongu', '346,551', '17,228', '58,764'],\n",
       " ['Jungranggu', '398,812', '4,964', '64,449'],\n",
       " ['Seongbukgu', '441,590', '12,524', '70,204'],\n",
       " ['Gangbukgu', '314,090', '3,785', '59,808'],\n",
       " ['Dobonggu', '335,280', '2,314', '58,070'],\n",
       " ['Nowonggu', '535,282', '4,547', '79,968'],\n",
       " ['Eunpyonggu', '481,663', '4,496', '79,957'],\n",
       " ['Seodaemungu', '310,069', '14,020', '51,708'],\n",
       " ['Mapogu', '373,629', '11,976', '51,961'],\n",
       " ['Yangcheongu', '459,849', '4,082', '60,487'],\n",
       " ['Gangseogu', '593,708', '6,532', '82,937'],\n",
       " ['Gurogu', '406,748', '33,102', '64,952'],\n",
       " ['Guemcheongu', '233,371', '19,497', '37,191'],\n",
       " ['Youngdeungpogu', '368,402', '34,076', '57,350'],\n",
       " ['Dongjakgu', '397,618', '12,869', '61,607'],\n",
       " ['Kwanakgu', '502,117', '17,836', '74,518'],\n",
       " ['Seoucheogu', '431,027', '4,231', '56,455'],\n",
       " ['Gangnamgu', '544,028', '5,015', '70,029'],\n",
       " ['Songpagu', '677,489', '6,849', '86,062'],\n",
       " ['Gangdonggu', '426,219', '4,303', '61,710']]"
      ]
     },
     "execution_count": 24,
     "metadata": {},
     "output_type": "execute_result"
    }
   ],
   "source": [
    "total"
   ]
  },
  {
   "cell_type": "code",
   "execution_count": 96,
   "metadata": {
    "ExecuteTime": {
     "end_time": "2022-06-09T14:34:53.891891Z",
     "start_time": "2022-06-09T14:34:53.881835Z"
    }
   },
   "outputs": [
    {
     "data": {
      "text/plain": [
       "['Total', 9740398.0, 285529.0, 1468146.0]"
      ]
     },
     "execution_count": 96,
     "metadata": {},
     "output_type": "execute_result"
    }
   ],
   "source": [
    "i=total[1]\n",
    "for j in i:\n",
    "    try:\n",
    "         i[i.index(j)]=(float(re.sub(',','',j)))\n",
    "    except:\n",
    "        pass\n",
    "i  "
   ]
  },
  {
   "cell_type": "code",
   "execution_count": 25,
   "metadata": {
    "ExecuteTime": {
     "end_time": "2022-06-09T15:04:42.447090Z",
     "start_time": "2022-06-09T15:04:42.426108Z"
    }
   },
   "outputs": [
    {
     "data": {
      "text/plain": [
       "[['Gu', 'Korean', 'Foreigner', 'Senior'],\n",
       " ['Total', 9740398.0, 285529.0, 1468146.0],\n",
       " ['Jongrogu', 151767.0, 11093.0, 27394.0],\n",
       " ['Jongru', 126409.0, 10254.0, 23025.0],\n",
       " ['Yongsangu', 228830.0, 16159.0, 38531.0],\n",
       " ['Seongdonggu', 303158.0, 8132.0, 43662.0],\n",
       " ['Kwangjingu', 352692.0, 15645.0, 47347.0],\n",
       " ['Dongdaemoongu', 346551.0, 17228.0, 58764.0],\n",
       " ['Jungranggu', 398812.0, 4964.0, 64449.0],\n",
       " ['Seongbukgu', 441590.0, 12524.0, 70204.0],\n",
       " ['Gangbukgu', 314090.0, 3785.0, 59808.0],\n",
       " ['Dobonggu', 335280.0, 2314.0, 58070.0],\n",
       " ['Nowonggu', 535282.0, 4547.0, 79968.0],\n",
       " ['Eunpyonggu', 481663.0, 4496.0, 79957.0],\n",
       " ['Seodaemungu', 310069.0, 14020.0, 51708.0],\n",
       " ['Mapogu', 373629.0, 11976.0, 51961.0],\n",
       " ['Yangcheongu', 459849.0, 4082.0, 60487.0],\n",
       " ['Gangseogu', 593708.0, 6532.0, 82937.0],\n",
       " ['Gurogu', 406748.0, 33102.0, 64952.0],\n",
       " ['Guemcheongu', 233371.0, 19497.0, 37191.0],\n",
       " ['Youngdeungpogu', 368402.0, 34076.0, 57350.0],\n",
       " ['Dongjakgu', 397618.0, 12869.0, 61607.0],\n",
       " ['Kwanakgu', 502117.0, 17836.0, 74518.0],\n",
       " ['Seoucheogu', 431027.0, 4231.0, 56455.0],\n",
       " ['Gangnamgu', 544028.0, 5015.0, 70029.0],\n",
       " ['Songpagu', 677489.0, 6849.0, 86062.0],\n",
       " ['Gangdonggu', 426219.0, 4303.0, 61710.0]]"
      ]
     },
     "execution_count": 25,
     "metadata": {},
     "output_type": "execute_result"
    }
   ],
   "source": [
    "for i in total:\n",
    "    for j in i:\n",
    "        try:\n",
    "            i[i.index(j)]=(float(re.sub(',','',j)))\n",
    "        except:\n",
    "            pass\n",
    "total "
   ]
  },
  {
   "cell_type": "markdown",
   "metadata": {},
   "source": [
    "## csv 파일 데이터 분석"
   ]
  },
  {
   "cell_type": "markdown",
   "metadata": {},
   "source": [
    "numpy랑 pandas가 있지만 굳이 책에서 이렇게 하는 이유는 반복문과 조건문을 연습하는데 도움이 되기 때문"
   ]
  },
  {
   "cell_type": "markdown",
   "metadata": {},
   "source": [
    "- 이런 상황이라면?  \n",
    "과제로 서울 내 외국인 인구의 비율을 조사하고, 각 구에서 3%가 넘는 구의 리스트를 csv로 저장"
   ]
  },
  {
   "cell_type": "code",
   "execution_count": 1,
   "metadata": {
    "ExecuteTime": {
     "end_time": "2022-06-09T15:22:49.282740Z",
     "start_time": "2022-06-09T15:22:49.260799Z"
    }
   },
   "outputs": [],
   "source": [
    "import os,re,usecsv\n",
    "os.chdir(r'C:\\Users\\phl02\\Desktop\\P\\doit_python_programming')"
   ]
  },
  {
   "cell_type": "code",
   "execution_count": 2,
   "metadata": {
    "ExecuteTime": {
     "end_time": "2022-06-09T15:22:50.392593Z",
     "start_time": "2022-06-09T15:22:50.378489Z"
    }
   },
   "outputs": [],
   "source": [
    "total=usecsv.opencsv('popSeoul.csv')"
   ]
  },
  {
   "cell_type": "code",
   "execution_count": 3,
   "metadata": {
    "ExecuteTime": {
     "end_time": "2022-06-09T15:22:51.182993Z",
     "start_time": "2022-06-09T15:22:51.169018Z"
    }
   },
   "outputs": [],
   "source": [
    "newPop=usecsv.switch(total)"
   ]
  },
  {
   "cell_type": "code",
   "execution_count": 4,
   "metadata": {
    "ExecuteTime": {
     "end_time": "2022-06-09T15:22:51.930078Z",
     "start_time": "2022-06-09T15:22:51.921067Z"
    }
   },
   "outputs": [
    {
     "name": "stdout",
     "output_type": "stream",
     "text": [
      "[['Gu', 'Korean', 'Foreigner', 'Senior'], ['Total', 9740398.0, 285529.0, 1468146.0], ['Jongrogu', 151767.0, 11093.0, 27394.0], ['Jongru', 126409.0, 10254.0, 23025.0]]\n"
     ]
    }
   ],
   "source": [
    "print(newPop[:4])"
   ]
  },
  {
   "cell_type": "code",
   "execution_count": 5,
   "metadata": {
    "ExecuteTime": {
     "end_time": "2022-06-09T15:22:53.198987Z",
     "start_time": "2022-06-09T15:22:53.171959Z"
    }
   },
   "outputs": [
    {
     "data": {
      "text/plain": [
       "['Total', 9740398.0, 285529.0, 1468146.0]"
      ]
     },
     "execution_count": 5,
     "metadata": {},
     "output_type": "execute_result"
    }
   ],
   "source": [
    "i=newPop[1]\n",
    "i"
   ]
  },
  {
   "cell_type": "code",
   "execution_count": 6,
   "metadata": {
    "ExecuteTime": {
     "end_time": "2022-06-09T15:22:54.790796Z",
     "start_time": "2022-06-09T15:22:54.780571Z"
    }
   },
   "outputs": [
    {
     "data": {
      "text/plain": [
       "2.847906233508383"
      ]
     },
     "execution_count": 6,
     "metadata": {},
     "output_type": "execute_result"
    }
   ],
   "source": [
    "i[2]/(i[1]+i[2])*100"
   ]
  },
  {
   "cell_type": "code",
   "execution_count": 8,
   "metadata": {
    "ExecuteTime": {
     "end_time": "2022-06-09T15:23:51.145396Z",
     "start_time": "2022-06-09T15:23:51.123157Z"
    }
   },
   "outputs": [
    {
     "data": {
      "text/plain": [
       "2.8"
      ]
     },
     "execution_count": 8,
     "metadata": {},
     "output_type": "execute_result"
    }
   ],
   "source": [
    "foregin=round(i[2]/(i[1]+i[2])*100,1)\n",
    "foregin"
   ]
  },
  {
   "cell_type": "code",
   "execution_count": 9,
   "metadata": {
    "ExecuteTime": {
     "end_time": "2022-06-09T15:25:03.056688Z",
     "start_time": "2022-06-09T15:25:03.048183Z"
    }
   },
   "outputs": [
    {
     "name": "stdout",
     "output_type": "stream",
     "text": [
      "Total 2.8\n",
      "Jongrogu 6.8\n",
      "Jongru 7.5\n",
      "Yongsangu 6.6\n",
      "Seongdonggu 2.6\n",
      "Kwangjingu 4.2\n",
      "Dongdaemoongu 4.7\n",
      "Jungranggu 1.2\n",
      "Seongbukgu 2.8\n",
      "Gangbukgu 1.2\n",
      "Dobonggu 0.7\n",
      "Nowonggu 0.8\n",
      "Eunpyonggu 0.9\n",
      "Seodaemungu 4.3\n",
      "Mapogu 3.1\n",
      "Yangcheongu 0.9\n",
      "Gangseogu 1.1\n",
      "Gurogu 7.5\n",
      "Guemcheongu 7.7\n",
      "Youngdeungpogu 8.5\n",
      "Dongjakgu 3.1\n",
      "Kwanakgu 3.4\n",
      "Seoucheogu 1.0\n",
      "Gangnamgu 0.9\n",
      "Songpagu 1.0\n",
      "Gangdonggu 1.0\n"
     ]
    }
   ],
   "source": [
    "for i in newPop:\n",
    "    foreign=0\n",
    "    try:\n",
    "        foregin=round(i[2]/(i[1]+i[2])*100,1)\n",
    "        print(i[0],foregin)\n",
    "    except:\n",
    "        pass"
   ]
  },
  {
   "cell_type": "code",
   "execution_count": 10,
   "metadata": {
    "ExecuteTime": {
     "end_time": "2022-06-09T15:25:19.231136Z",
     "start_time": "2022-06-09T15:25:19.222992Z"
    }
   },
   "outputs": [
    {
     "data": {
      "text/plain": [
       "['Gangdonggu', 426219.0, 4303.0, 61710.0]"
      ]
     },
     "execution_count": 10,
     "metadata": {},
     "output_type": "execute_result"
    }
   ],
   "source": [
    "i"
   ]
  },
  {
   "cell_type": "code",
   "execution_count": 13,
   "metadata": {
    "ExecuteTime": {
     "end_time": "2022-06-09T15:27:02.481435Z",
     "start_time": "2022-06-09T15:27:02.466560Z"
    }
   },
   "outputs": [
    {
     "data": {
      "text/plain": [
       "[['구', '한국인', '외국인', '외국인 비율(%)'], ['Gangdonggu', 426219.0, 4303.0, 1.0]]"
      ]
     },
     "execution_count": 13,
     "metadata": {},
     "output_type": "execute_result"
    }
   ],
   "source": [
    "new=[['구','한국인','외국인','외국인 비율(%)']]\n",
    "new.append([i[0],i[1],i[2],foregin])\n",
    "new"
   ]
  },
  {
   "cell_type": "code",
   "execution_count": 16,
   "metadata": {
    "ExecuteTime": {
     "end_time": "2022-06-09T15:29:21.554599Z",
     "start_time": "2022-06-09T15:29:21.546579Z"
    }
   },
   "outputs": [],
   "source": [
    "new=[['구','한국인','외국인','외국인 비율(%)']]\n",
    "import re\n",
    "for i in newPop:\n",
    "    foreign=0\n",
    "    try:\n",
    "        foregin=round(i[2]/(i[1]+i[2])*100,1)\n",
    "        if foregin>3:\n",
    "            new.append([i[0],i[1],i[2],foregin])\n",
    "    except:\n",
    "        pass"
   ]
  },
  {
   "cell_type": "code",
   "execution_count": 17,
   "metadata": {
    "ExecuteTime": {
     "end_time": "2022-06-09T15:29:34.943257Z",
     "start_time": "2022-06-09T15:29:34.928534Z"
    }
   },
   "outputs": [
    {
     "data": {
      "text/plain": [
       "[['구', '한국인', '외국인', '외국인 비율(%)'],\n",
       " ['Jongrogu', 151767.0, 11093.0, 6.8],\n",
       " ['Jongru', 126409.0, 10254.0, 7.5],\n",
       " ['Yongsangu', 228830.0, 16159.0, 6.6],\n",
       " ['Kwangjingu', 352692.0, 15645.0, 4.2],\n",
       " ['Dongdaemoongu', 346551.0, 17228.0, 4.7],\n",
       " ['Seodaemungu', 310069.0, 14020.0, 4.3],\n",
       " ['Mapogu', 373629.0, 11976.0, 3.1],\n",
       " ['Gurogu', 406748.0, 33102.0, 7.5],\n",
       " ['Guemcheongu', 233371.0, 19497.0, 7.7],\n",
       " ['Youngdeungpogu', 368402.0, 34076.0, 8.5],\n",
       " ['Dongjakgu', 397618.0, 12869.0, 3.1],\n",
       " ['Kwanakgu', 502117.0, 17836.0, 3.4]]"
      ]
     },
     "execution_count": 17,
     "metadata": {},
     "output_type": "execute_result"
    }
   ],
   "source": [
    "new"
   ]
  },
  {
   "cell_type": "code",
   "execution_count": 18,
   "metadata": {
    "ExecuteTime": {
     "end_time": "2022-06-09T15:30:05.044330Z",
     "start_time": "2022-06-09T15:30:05.020584Z"
    }
   },
   "outputs": [],
   "source": [
    "usecsv.writecsv('newPop,csv',new)"
   ]
  }
 ],
 "metadata": {
  "kernelspec": {
   "display_name": "Python 3",
   "language": "python",
   "name": "python3"
  },
  "language_info": {
   "codemirror_mode": {
    "name": "ipython",
    "version": 3
   },
   "file_extension": ".py",
   "mimetype": "text/x-python",
   "name": "python",
   "nbconvert_exporter": "python",
   "pygments_lexer": "ipython3",
   "version": "3.8.5"
  },
  "toc": {
   "base_numbering": 1,
   "nav_menu": {},
   "number_sections": true,
   "sideBar": true,
   "skip_h1_title": false,
   "title_cell": "Table of Contents",
   "title_sidebar": "Contents",
   "toc_cell": false,
   "toc_position": {},
   "toc_section_display": true,
   "toc_window_display": false
  }
 },
 "nbformat": 4,
 "nbformat_minor": 4
}
