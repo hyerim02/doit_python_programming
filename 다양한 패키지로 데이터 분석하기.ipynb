{
 "cells": [
  {
   "cell_type": "markdown",
   "metadata": {},
   "source": [
    "# 데이터 분석 패키지 준비하기  \n",
    "---"
   ]
  },
  {
   "cell_type": "markdown",
   "metadata": {},
   "source": [
    "|패키지|기능|주요 함수|\n",
    "|---|---|---|\n",
    "|numpy|배열 계산, 반올림,버리기|floor,ceil,power|\n",
    "|pandas|데이터프레임으로 데이터 입력,가공|describe,groupby|\n",
    "|matplotlib|그래프 그리기|plot,hist,bar|  \n",
    "\n",
    "외에도 많은 패키지들이 있음  "
   ]
  },
  {
   "cell_type": "markdown",
   "metadata": {},
   "source": [
    "# 넘파이로 배열 다루기  \n",
    "---"
   ]
  },
  {
   "cell_type": "markdown",
   "metadata": {},
   "source": [
    "## 넘파이로 배열 정의하기"
   ]
  },
  {
   "cell_type": "code",
   "execution_count": 1,
   "metadata": {
    "ExecuteTime": {
     "end_time": "2022-06-15T03:51:44.928129Z",
     "start_time": "2022-06-15T03:51:44.023549Z"
    }
   },
   "outputs": [],
   "source": [
    "import numpy as np"
   ]
  },
  {
   "cell_type": "code",
   "execution_count": 2,
   "metadata": {
    "ExecuteTime": {
     "end_time": "2022-06-15T03:51:44.943103Z",
     "start_time": "2022-06-15T03:51:44.932118Z"
    }
   },
   "outputs": [],
   "source": [
    "a=np.array([[2,3],[5,2]])"
   ]
  },
  {
   "cell_type": "code",
   "execution_count": 3,
   "metadata": {
    "ExecuteTime": {
     "end_time": "2022-06-15T03:51:45.003926Z",
     "start_time": "2022-06-15T03:51:44.953065Z"
    }
   },
   "outputs": [
    {
     "data": {
      "text/plain": [
       "array([[2, 3],\n",
       "       [5, 2]])"
      ]
     },
     "execution_count": 3,
     "metadata": {},
     "output_type": "execute_result"
    }
   ],
   "source": [
    "a"
   ]
  },
  {
   "cell_type": "markdown",
   "metadata": {},
   "source": [
    "|2|3|\n",
    "|---|---|\n",
    "|5|2|"
   ]
  },
  {
   "cell_type": "markdown",
   "metadata": {},
   "source": [
    "## 배열 슬라이싱하기  \n",
    "---"
   ]
  },
  {
   "cell_type": "code",
   "execution_count": 4,
   "metadata": {
    "ExecuteTime": {
     "end_time": "2022-06-15T03:51:45.019884Z",
     "start_time": "2022-06-15T03:51:45.007916Z"
    }
   },
   "outputs": [
    {
     "data": {
      "text/plain": [
       "array([[1, 2, 3, 4, 5],\n",
       "       [2, 4, 5, 6, 7],\n",
       "       [5, 7, 8, 9, 9]])"
      ]
     },
     "execution_count": 4,
     "metadata": {},
     "output_type": "execute_result"
    }
   ],
   "source": [
    "d=np.array([[1,2,3,4,5],[2,4,5,6,7],[5,7,8,9,9]])\n",
    "d"
   ]
  },
  {
   "cell_type": "markdown",
   "metadata": {},
   "source": [
    "첫 번째 인덱스 : 행, 두 번째 인덱스 : 열"
   ]
  },
  {
   "cell_type": "code",
   "execution_count": 5,
   "metadata": {
    "ExecuteTime": {
     "end_time": "2022-06-15T03:51:45.034844Z",
     "start_time": "2022-06-15T03:51:45.024872Z"
    }
   },
   "outputs": [
    {
     "data": {
      "text/plain": [
       "5"
      ]
     },
     "execution_count": 5,
     "metadata": {},
     "output_type": "execute_result"
    }
   ],
   "source": [
    "d[1][2]"
   ]
  },
  {
   "cell_type": "code",
   "execution_count": 6,
   "metadata": {
    "ExecuteTime": {
     "end_time": "2022-06-15T03:51:45.049803Z",
     "start_time": "2022-06-15T03:51:45.036841Z"
    }
   },
   "outputs": [
    {
     "data": {
      "text/plain": [
       "5"
      ]
     },
     "execution_count": 6,
     "metadata": {},
     "output_type": "execute_result"
    }
   ],
   "source": [
    "d[1,2]"
   ]
  },
  {
   "cell_type": "markdown",
   "metadata": {},
   "source": [
    "## 배열 크기 알아내기  \n",
    "---"
   ]
  },
  {
   "cell_type": "code",
   "execution_count": 7,
   "metadata": {
    "ExecuteTime": {
     "end_time": "2022-06-15T03:51:45.064823Z",
     "start_time": "2022-06-15T03:51:45.052191Z"
    }
   },
   "outputs": [
    {
     "data": {
      "text/plain": [
       "array([[2, 3, 4, 5, 6]])"
      ]
     },
     "execution_count": 7,
     "metadata": {},
     "output_type": "execute_result"
    }
   ],
   "source": [
    "d=np.array([[2,3,4,5,6]])\n",
    "d"
   ]
  },
  {
   "cell_type": "code",
   "execution_count": 8,
   "metadata": {
    "ExecuteTime": {
     "end_time": "2022-06-15T03:51:45.079724Z",
     "start_time": "2022-06-15T03:51:45.070748Z"
    }
   },
   "outputs": [
    {
     "data": {
      "text/plain": [
       "(1, 5)"
      ]
     },
     "execution_count": 8,
     "metadata": {},
     "output_type": "execute_result"
    }
   ],
   "source": [
    "d.shape"
   ]
  },
  {
   "cell_type": "code",
   "execution_count": 9,
   "metadata": {
    "ExecuteTime": {
     "end_time": "2022-06-15T03:51:45.095695Z",
     "start_time": "2022-06-15T03:51:45.083714Z"
    }
   },
   "outputs": [
    {
     "data": {
      "text/plain": [
       "array([[1, 2, 3, 4],\n",
       "       [3, 4, 5, 6]])"
      ]
     },
     "execution_count": 9,
     "metadata": {},
     "output_type": "execute_result"
    }
   ],
   "source": [
    "e=np.array([[1,2,3,4],[3,4,5,6]])\n",
    "e"
   ]
  },
  {
   "cell_type": "code",
   "execution_count": 10,
   "metadata": {
    "ExecuteTime": {
     "end_time": "2022-06-15T03:51:45.111145Z",
     "start_time": "2022-06-15T03:51:45.100669Z"
    }
   },
   "outputs": [
    {
     "data": {
      "text/plain": [
       "(2, 4)"
      ]
     },
     "execution_count": 10,
     "metadata": {},
     "output_type": "execute_result"
    }
   ],
   "source": [
    "e.shape"
   ]
  },
  {
   "cell_type": "markdown",
   "metadata": {},
   "source": [
    "## 배열 원소 유형 확인하기  \n",
    "---"
   ]
  },
  {
   "cell_type": "code",
   "execution_count": 11,
   "metadata": {
    "ExecuteTime": {
     "end_time": "2022-06-15T03:51:45.126598Z",
     "start_time": "2022-06-15T03:51:45.114632Z"
    }
   },
   "outputs": [
    {
     "data": {
      "text/plain": [
       "dtype('int32')"
      ]
     },
     "execution_count": 11,
     "metadata": {},
     "output_type": "execute_result"
    }
   ],
   "source": [
    "d.dtype"
   ]
  },
  {
   "cell_type": "markdown",
   "metadata": {},
   "source": [
    "|원소 유형|표기법|\n",
    "|---|---|\n",
    "|부호가 있는 정수|int(32,64)|\n",
    "|부호가 없는 정수|unit(32,64)|\n",
    "|실수|float(32,64)|\n",
    "|복소수|complex|\n",
    "|참 거짓을 가지는 자료|bool|\n",
    "|문자열|string|\n",
    "|파이썬 오브젝트|object|\n",
    "|유니코드|unicode|"
   ]
  },
  {
   "cell_type": "markdown",
   "metadata": {},
   "source": [
    "## 배열 유형 바꾸기  \n",
    "---"
   ]
  },
  {
   "cell_type": "code",
   "execution_count": 12,
   "metadata": {
    "ExecuteTime": {
     "end_time": "2022-06-15T03:51:45.142556Z",
     "start_time": "2022-06-15T03:51:45.129592Z"
    }
   },
   "outputs": [],
   "source": [
    "data=np.arange(1,5)"
   ]
  },
  {
   "cell_type": "code",
   "execution_count": 13,
   "metadata": {
    "ExecuteTime": {
     "end_time": "2022-06-15T03:51:45.157302Z",
     "start_time": "2022-06-15T03:51:45.144551Z"
    }
   },
   "outputs": [
    {
     "data": {
      "text/plain": [
       "dtype('int32')"
      ]
     },
     "execution_count": 13,
     "metadata": {},
     "output_type": "execute_result"
    }
   ],
   "source": [
    "data.dtype"
   ]
  },
  {
   "cell_type": "code",
   "execution_count": 14,
   "metadata": {
    "ExecuteTime": {
     "end_time": "2022-06-15T03:51:45.172476Z",
     "start_time": "2022-06-15T03:51:45.159514Z"
    }
   },
   "outputs": [
    {
     "data": {
      "text/plain": [
       "array([1., 2., 3., 4.])"
      ]
     },
     "execution_count": 14,
     "metadata": {},
     "output_type": "execute_result"
    }
   ],
   "source": [
    "data.astype('float64')"
   ]
  },
  {
   "cell_type": "markdown",
   "metadata": {},
   "source": [
    "유형을 정수에서 실수로"
   ]
  },
  {
   "cell_type": "markdown",
   "metadata": {},
   "source": [
    "## 넘파이 함수 알아보기  \n",
    "---"
   ]
  },
  {
   "cell_type": "markdown",
   "metadata": {},
   "source": [
    "- 0으로 이루어진 배열  "
   ]
  },
  {
   "cell_type": "code",
   "execution_count": 15,
   "metadata": {
    "ExecuteTime": {
     "end_time": "2022-06-15T03:51:45.187438Z",
     "start_time": "2022-06-15T03:51:45.176465Z"
    }
   },
   "outputs": [
    {
     "data": {
      "text/plain": [
       "array([[0., 0., 0., 0., 0., 0., 0., 0., 0., 0.],\n",
       "       [0., 0., 0., 0., 0., 0., 0., 0., 0., 0.]])"
      ]
     },
     "execution_count": 15,
     "metadata": {},
     "output_type": "execute_result"
    }
   ],
   "source": [
    "np.zeros((2,10)) #행:2,열:10"
   ]
  },
  {
   "cell_type": "markdown",
   "metadata": {},
   "source": [
    "- 1으로 이루어진 배열  "
   ]
  },
  {
   "cell_type": "code",
   "execution_count": 16,
   "metadata": {
    "ExecuteTime": {
     "end_time": "2022-06-15T03:51:45.202396Z",
     "start_time": "2022-06-15T03:51:45.189431Z"
    }
   },
   "outputs": [
    {
     "data": {
      "text/plain": [
       "array([[1., 1., 1., 1., 1., 1., 1., 1., 1., 1.],\n",
       "       [1., 1., 1., 1., 1., 1., 1., 1., 1., 1.]])"
      ]
     },
     "execution_count": 16,
     "metadata": {},
     "output_type": "execute_result"
    }
   ],
   "source": [
    "np.ones((2,10))"
   ]
  },
  {
   "cell_type": "markdown",
   "metadata": {},
   "source": [
    "- 연속형 정수 생성하기  "
   ]
  },
  {
   "cell_type": "code",
   "execution_count": 17,
   "metadata": {
    "ExecuteTime": {
     "end_time": "2022-06-15T03:51:45.217356Z",
     "start_time": "2022-06-15T03:51:45.205392Z"
    }
   },
   "outputs": [
    {
     "data": {
      "text/plain": [
       "array([2, 3, 4, 5, 6, 7, 8, 9])"
      ]
     },
     "execution_count": 17,
     "metadata": {},
     "output_type": "execute_result"
    }
   ],
   "source": [
    "np.arange(2,10) #2이상10미만,1차원 배열"
   ]
  },
  {
   "cell_type": "markdown",
   "metadata": {},
   "source": [
    "- 행과 열을 바꾸기 "
   ]
  },
  {
   "cell_type": "code",
   "execution_count": 18,
   "metadata": {
    "ExecuteTime": {
     "end_time": "2022-06-15T03:51:45.233409Z",
     "start_time": "2022-06-15T03:51:45.220348Z"
    }
   },
   "outputs": [
    {
     "data": {
      "text/plain": [
       "array([[1., 1., 1.],\n",
       "       [1., 1., 1.]])"
      ]
     },
     "execution_count": 18,
     "metadata": {},
     "output_type": "execute_result"
    }
   ],
   "source": [
    "a=np.ones((2,3))\n",
    "a"
   ]
  },
  {
   "cell_type": "code",
   "execution_count": 19,
   "metadata": {
    "ExecuteTime": {
     "end_time": "2022-06-15T03:51:45.248273Z",
     "start_time": "2022-06-15T03:51:45.236305Z"
    }
   },
   "outputs": [
    {
     "data": {
      "text/plain": [
       "array([[1., 1.],\n",
       "       [1., 1.],\n",
       "       [1., 1.]])"
      ]
     },
     "execution_count": 19,
     "metadata": {},
     "output_type": "execute_result"
    }
   ],
   "source": [
    "b=np.transpose(a)\n",
    "b"
   ]
  },
  {
   "cell_type": "markdown",
   "metadata": {},
   "source": [
    "## 배열의 사칙연산  \n",
    "---"
   ]
  },
  {
   "cell_type": "code",
   "execution_count": 20,
   "metadata": {
    "ExecuteTime": {
     "end_time": "2022-06-15T03:51:45.263234Z",
     "start_time": "2022-06-15T03:51:45.250268Z"
    }
   },
   "outputs": [],
   "source": [
    "arr1=np.array([[2,3,4],[6,7,8]])\n",
    "arr2=np.array([[12,23,34],[36,47,58]])"
   ]
  },
  {
   "cell_type": "markdown",
   "metadata": {},
   "source": [
    "- 덧셈"
   ]
  },
  {
   "cell_type": "code",
   "execution_count": 21,
   "metadata": {
    "ExecuteTime": {
     "end_time": "2022-06-15T03:51:45.278193Z",
     "start_time": "2022-06-15T03:51:45.265228Z"
    }
   },
   "outputs": [
    {
     "data": {
      "text/plain": [
       "array([[14, 26, 38],\n",
       "       [42, 54, 66]])"
      ]
     },
     "execution_count": 21,
     "metadata": {},
     "output_type": "execute_result"
    }
   ],
   "source": [
    "arr1+arr2 #같은 자리끼리"
   ]
  },
  {
   "cell_type": "markdown",
   "metadata": {},
   "source": [
    "- 곱셈"
   ]
  },
  {
   "cell_type": "code",
   "execution_count": 22,
   "metadata": {
    "ExecuteTime": {
     "end_time": "2022-06-15T03:51:45.294227Z",
     "start_time": "2022-06-15T03:51:45.281188Z"
    }
   },
   "outputs": [
    {
     "data": {
      "text/plain": [
       "array([[ 24,  69, 136],\n",
       "       [216, 329, 464]])"
      ]
     },
     "execution_count": 22,
     "metadata": {},
     "output_type": "execute_result"
    }
   ],
   "source": [
    "arr1*arr2 #같은 자리끼리"
   ]
  },
  {
   "cell_type": "markdown",
   "metadata": {},
   "source": [
    "- 나눗셈"
   ]
  },
  {
   "cell_type": "code",
   "execution_count": 23,
   "metadata": {
    "ExecuteTime": {
     "end_time": "2022-06-15T03:51:45.309166Z",
     "start_time": "2022-06-15T03:51:45.302128Z"
    }
   },
   "outputs": [
    {
     "data": {
      "text/plain": [
       "array([[0.16666667, 0.13043478, 0.11764706],\n",
       "       [0.16666667, 0.14893617, 0.13793103]])"
      ]
     },
     "execution_count": 23,
     "metadata": {},
     "output_type": "execute_result"
    }
   ],
   "source": [
    "arr1/arr2 #같은 자리끼리"
   ]
  },
  {
   "cell_type": "markdown",
   "metadata": {},
   "source": [
    "- 크기가 서로 다른 배열끼리 더하기"
   ]
  },
  {
   "cell_type": "code",
   "execution_count": 24,
   "metadata": {
    "ExecuteTime": {
     "end_time": "2022-06-15T03:51:45.324070Z",
     "start_time": "2022-06-15T03:51:45.313099Z"
    }
   },
   "outputs": [],
   "source": [
    "arr3=np.array([100,200,300])"
   ]
  },
  {
   "cell_type": "code",
   "execution_count": 25,
   "metadata": {
    "ExecuteTime": {
     "end_time": "2022-06-15T03:51:45.339120Z",
     "start_time": "2022-06-15T03:51:45.326067Z"
    }
   },
   "outputs": [
    {
     "data": {
      "text/plain": [
       "(2, 3)"
      ]
     },
     "execution_count": 25,
     "metadata": {},
     "output_type": "execute_result"
    }
   ],
   "source": [
    "arr1.shape"
   ]
  },
  {
   "cell_type": "code",
   "execution_count": 26,
   "metadata": {
    "ExecuteTime": {
     "end_time": "2022-06-15T03:51:45.353989Z",
     "start_time": "2022-06-15T03:51:45.341025Z"
    }
   },
   "outputs": [
    {
     "data": {
      "text/plain": [
       "(3,)"
      ]
     },
     "execution_count": 26,
     "metadata": {},
     "output_type": "execute_result"
    }
   ],
   "source": [
    "arr3.shape"
   ]
  },
  {
   "cell_type": "code",
   "execution_count": 27,
   "metadata": {
    "ExecuteTime": {
     "end_time": "2022-06-15T03:51:45.369016Z",
     "start_time": "2022-06-15T03:51:45.356983Z"
    }
   },
   "outputs": [
    {
     "data": {
      "text/plain": [
       "array([[102, 203, 304],\n",
       "       [106, 207, 308]])"
      ]
     },
     "execution_count": 27,
     "metadata": {},
     "output_type": "execute_result"
    }
   ],
   "source": [
    "arr1+arr3"
   ]
  },
  {
   "cell_type": "markdown",
   "metadata": {},
   "source": [
    "- 브로드캐스팅이 되지 않는 경우"
   ]
  },
  {
   "cell_type": "code",
   "execution_count": 28,
   "metadata": {
    "ExecuteTime": {
     "end_time": "2022-06-15T03:51:45.383912Z",
     "start_time": "2022-06-15T03:51:45.370945Z"
    }
   },
   "outputs": [],
   "source": [
    "arr4=np.array([1,2,3,4,5,6,7,8,9,10])"
   ]
  },
  {
   "cell_type": "code",
   "execution_count": 29,
   "metadata": {
    "ExecuteTime": {
     "end_time": "2022-06-15T03:51:45.398931Z",
     "start_time": "2022-06-15T03:51:45.385958Z"
    }
   },
   "outputs": [
    {
     "data": {
      "text/plain": [
       "(10,)"
      ]
     },
     "execution_count": 29,
     "metadata": {},
     "output_type": "execute_result"
    }
   ],
   "source": [
    "arr4.shape"
   ]
  },
  {
   "cell_type": "code",
   "execution_count": 30,
   "metadata": {
    "ExecuteTime": {
     "end_time": "2022-06-15T03:51:45.762897Z",
     "start_time": "2022-06-15T03:51:45.400865Z"
    }
   },
   "outputs": [
    {
     "ename": "ValueError",
     "evalue": "operands could not be broadcast together with shapes (2,3) (10,) ",
     "output_type": "error",
     "traceback": [
      "\u001b[1;31m---------------------------------------------------------------------------\u001b[0m",
      "\u001b[1;31mValueError\u001b[0m                                Traceback (most recent call last)",
      "\u001b[1;32m<ipython-input-30-ec8499fd2893>\u001b[0m in \u001b[0;36m<module>\u001b[1;34m\u001b[0m\n\u001b[1;32m----> 1\u001b[1;33m \u001b[0marr1\u001b[0m\u001b[1;33m+\u001b[0m\u001b[0marr4\u001b[0m\u001b[1;33m\u001b[0m\u001b[1;33m\u001b[0m\u001b[0m\n\u001b[0m",
      "\u001b[1;31mValueError\u001b[0m: operands could not be broadcast together with shapes (2,3) (10,) "
     ]
    }
   ],
   "source": [
    "arr1+arr4"
   ]
  },
  {
   "cell_type": "markdown",
   "metadata": {},
   "source": [
    " **행과 열이 모두 다르면 계산을 할 수 없음**"
   ]
  },
  {
   "cell_type": "markdown",
   "metadata": {},
   "source": [
    "## 리스트와 배열의 차이점  \n",
    "---"
   ]
  },
  {
   "cell_type": "code",
   "execution_count": 31,
   "metadata": {
    "ExecuteTime": {
     "end_time": "2022-06-15T03:52:36.831223Z",
     "start_time": "2022-06-15T03:52:36.816050Z"
    }
   },
   "outputs": [],
   "source": [
    "d=np.array([[1,2,3,4,5],[2,4,5,6,7],[5,7,8,9,9]]) # 3*5"
   ]
  },
  {
   "cell_type": "code",
   "execution_count": 32,
   "metadata": {
    "ExecuteTime": {
     "end_time": "2022-06-15T03:52:38.110096Z",
     "start_time": "2022-06-15T03:52:38.101309Z"
    }
   },
   "outputs": [],
   "source": [
    "d_list=[[1,2,3,4,5],[2,4,5,6,7],[5,7,8,9,9]]"
   ]
  },
  {
   "cell_type": "code",
   "execution_count": 33,
   "metadata": {
    "ExecuteTime": {
     "end_time": "2022-06-15T03:53:02.327722Z",
     "start_time": "2022-06-15T03:53:02.318420Z"
    }
   },
   "outputs": [
    {
     "data": {
      "text/plain": [
       "[[1, 2, 3, 4, 5], [2, 4, 5, 6, 7], [5, 7, 8, 9, 9]]"
      ]
     },
     "execution_count": 33,
     "metadata": {},
     "output_type": "execute_result"
    }
   ],
   "source": [
    "d_list"
   ]
  },
  {
   "cell_type": "code",
   "execution_count": 34,
   "metadata": {
    "ExecuteTime": {
     "end_time": "2022-06-15T03:53:02.342625Z",
     "start_time": "2022-06-15T03:53:02.329660Z"
    }
   },
   "outputs": [
    {
     "data": {
      "text/plain": [
       "list"
      ]
     },
     "execution_count": 34,
     "metadata": {},
     "output_type": "execute_result"
    }
   ],
   "source": [
    "type(d_list)"
   ]
  },
  {
   "cell_type": "code",
   "execution_count": 35,
   "metadata": {
    "ExecuteTime": {
     "end_time": "2022-06-15T03:53:02.357583Z",
     "start_time": "2022-06-15T03:53:02.344619Z"
    }
   },
   "outputs": [
    {
     "ename": "TypeError",
     "evalue": "can only assign an iterable",
     "output_type": "error",
     "traceback": [
      "\u001b[1;31m---------------------------------------------------------------------------\u001b[0m",
      "\u001b[1;31mTypeError\u001b[0m                                 Traceback (most recent call last)",
      "\u001b[1;32m<ipython-input-35-5f47b51eb6ad>\u001b[0m in \u001b[0;36m<module>\u001b[1;34m\u001b[0m\n\u001b[1;32m----> 1\u001b[1;33m \u001b[0md_list\u001b[0m\u001b[1;33m[\u001b[0m\u001b[1;33m:\u001b[0m\u001b[1;36m2\u001b[0m\u001b[1;33m]\u001b[0m\u001b[1;33m=\u001b[0m\u001b[1;36m0\u001b[0m\u001b[1;33m\u001b[0m\u001b[1;33m\u001b[0m\u001b[0m\n\u001b[0m",
      "\u001b[1;31mTypeError\u001b[0m: can only assign an iterable"
     ]
    }
   ],
   "source": [
    "d_list[:2]=0"
   ]
  },
  {
   "cell_type": "code",
   "execution_count": null,
   "metadata": {
    "ExecuteTime": {
     "end_time": "2022-06-15T03:53:02.359579Z",
     "start_time": "2022-06-15T03:53:02.326Z"
    }
   },
   "outputs": [],
   "source": [
    "d[:2]=0"
   ]
  },
  {
   "cell_type": "code",
   "execution_count": null,
   "metadata": {
    "ExecuteTime": {
     "end_time": "2022-06-15T03:53:02.360577Z",
     "start_time": "2022-06-15T03:53:02.329Z"
    }
   },
   "outputs": [],
   "source": [
    "d"
   ]
  },
  {
   "cell_type": "markdown",
   "metadata": {},
   "source": [
    "### 설문지 데이터 전처리  \n",
    "---"
   ]
  },
  {
   "cell_type": "markdown",
   "metadata": {},
   "source": [
    "5점 만점으로 된 설문 조사 결과"
   ]
  },
  {
   "cell_type": "code",
   "execution_count": null,
   "metadata": {
    "ExecuteTime": {
     "end_time": "2022-06-15T03:53:02.361574Z",
     "start_time": "2022-06-15T03:53:02.334Z"
    }
   },
   "outputs": [],
   "source": [
    "import os,usecsv\n",
    "import numpy as np"
   ]
  },
  {
   "cell_type": "code",
   "execution_count": null,
   "metadata": {
    "ExecuteTime": {
     "end_time": "2022-06-15T03:53:02.362574Z",
     "start_time": "2022-06-15T03:53:02.337Z"
    }
   },
   "outputs": [],
   "source": [
    "os.chdir(r'C:\\Users\\phl02\\Desktop\\P\\doit_python_programming')"
   ]
  },
  {
   "cell_type": "code",
   "execution_count": null,
   "metadata": {
    "ExecuteTime": {
     "end_time": "2022-06-15T03:53:02.364566Z",
     "start_time": "2022-06-15T03:53:02.340Z"
    }
   },
   "outputs": [],
   "source": [
    "quest=np.array(usecsv.switch(usecsv.opencsv('quest.csv')))"
   ]
  },
  {
   "cell_type": "code",
   "execution_count": null,
   "metadata": {
    "ExecuteTime": {
     "end_time": "2022-06-15T03:53:02.365564Z",
     "start_time": "2022-06-15T03:53:02.343Z"
    }
   },
   "outputs": [],
   "source": [
    "quest"
   ]
  },
  {
   "cell_type": "code",
   "execution_count": null,
   "metadata": {
    "ExecuteTime": {
     "end_time": "2022-06-15T03:53:02.366562Z",
     "start_time": "2022-06-15T03:53:02.346Z"
    }
   },
   "outputs": [],
   "source": [
    "quest[quest>5]"
   ]
  },
  {
   "cell_type": "code",
   "execution_count": null,
   "metadata": {
    "ExecuteTime": {
     "end_time": "2022-06-15T03:53:02.367558Z",
     "start_time": "2022-06-15T03:53:02.350Z"
    }
   },
   "outputs": [],
   "source": [
    "quest[quest>5]=5"
   ]
  },
  {
   "cell_type": "code",
   "execution_count": null,
   "metadata": {
    "ExecuteTime": {
     "end_time": "2022-06-15T03:53:02.369552Z",
     "start_time": "2022-06-15T03:53:02.353Z"
    }
   },
   "outputs": [],
   "source": [
    "quest"
   ]
  },
  {
   "cell_type": "code",
   "execution_count": null,
   "metadata": {
    "ExecuteTime": {
     "end_time": "2022-06-15T03:53:02.370551Z",
     "start_time": "2022-06-15T03:53:02.355Z"
    }
   },
   "outputs": [],
   "source": [
    "usecsv.writecsv('resultcsv.csv',list(quest))"
   ]
  },
  {
   "cell_type": "markdown",
   "metadata": {},
   "source": [
    "# 넘파이로 사업성 분석하기  \n",
    "---"
   ]
  },
  {
   "cell_type": "markdown",
   "metadata": {},
   "source": [
    "<span style=\"color:limegreen\">**사업성 분석이란?**</span>  \n",
    "이 사업을 했을 때 이익이나 손해가 어느 정도 나올지 따져보는 것 "
   ]
  },
  {
   "cell_type": "markdown",
   "metadata": {},
   "source": [
    "**경제적 타당성의 개념**  \n",
    "이 사업이 우리에게 비용 대비 얼마나 많은 효용을 가져다 줄 수 있는지를 나타내는 개념  \n",
    "- 순현재가치: 할인된 현금 흐름의 값을 모두 더한 값을 말한다.  \n",
    "- 내부수익률: 순현재가치를 0으로 만드는 할인율을 말한다."
   ]
  },
  {
   "cell_type": "markdown",
   "metadata": {},
   "source": [
    "- 재무적 타당성의 세부 지표  \n",
    "\n",
    "|이름|공식|설명|\n",
    "|---|---|---|\n",
    "|비용(C)|$\\sum C$|사업을 만드는 데 들어가는 모든 비용|\n",
    "|수입(B)|$\\sum B$|사업을 하면서 발생하는 이익|\n",
    "|현금 흐름(CF)|CF=B-C|수입에서 비용을 제외한 금액|\n",
    "|연차(n)|-|총 사업 기간|\n",
    "|할인율(r)|-|미래의 현금 흐름을 현재 기준으로 환산할 때 적용하는 비율|\n",
    "|현금 흐름의 현재 가치(PV)|$PV=\\frac{CF_k}{(1+r)^k}$|할인율을 적용한 k년차 현금 흐름의 현재 가치|\n",
    "|순현재가치(NPV)|$NPV=\\sum\\frac{CF_k}{(1+r)^k}$|투자 안의 매년 현재 가치(PV)를 다 더한 값, 0보다 크면 사업성이 있다고 해석|"
   ]
  },
  {
   "cell_type": "markdown",
   "metadata": {},
   "source": [
    "### 자본의 현재 가치 구하기  \n",
    "---"
   ]
  },
  {
   "cell_type": "code",
   "execution_count": 36,
   "metadata": {
    "ExecuteTime": {
     "end_time": "2022-06-15T03:53:02.462307Z",
     "start_time": "2022-06-15T03:53:02.457319Z"
    }
   },
   "outputs": [],
   "source": [
    "import numpy as np"
   ]
  },
  {
   "cell_type": "code",
   "execution_count": 37,
   "metadata": {
    "ExecuteTime": {
     "end_time": "2022-06-15T03:53:02.477265Z",
     "start_time": "2022-06-15T03:53:02.463302Z"
    }
   },
   "outputs": [],
   "source": [
    "discount=0.05 #할인율 5%\n",
    "cashflow=100 #현금 흐름 100억원"
   ]
  },
  {
   "cell_type": "code",
   "execution_count": 38,
   "metadata": {
    "ExecuteTime": {
     "end_time": "2022-06-15T03:53:02.492225Z",
     "start_time": "2022-06-15T03:53:02.478552Z"
    }
   },
   "outputs": [],
   "source": [
    "def pv(n):\n",
    "    return(cashflow/((1+discount)**n))"
   ]
  },
  {
   "cell_type": "code",
   "execution_count": 39,
   "metadata": {
    "ExecuteTime": {
     "end_time": "2022-06-15T03:53:02.507281Z",
     "start_time": "2022-06-15T03:53:02.494221Z"
    }
   },
   "outputs": [
    {
     "data": {
      "text/plain": [
       "95.23809523809524"
      ]
     },
     "execution_count": 39,
     "metadata": {},
     "output_type": "execute_result"
    }
   ],
   "source": [
    "pv(1) #1년이 지난 후 자본의 현재 가치"
   ]
  },
  {
   "cell_type": "code",
   "execution_count": 40,
   "metadata": {
    "ExecuteTime": {
     "end_time": "2022-06-15T03:53:02.522178Z",
     "start_time": "2022-06-15T03:53:02.508182Z"
    }
   },
   "outputs": [
    {
     "data": {
      "text/plain": [
       "90.70294784580499"
      ]
     },
     "execution_count": 40,
     "metadata": {},
     "output_type": "execute_result"
    }
   ],
   "source": [
    "pv(2) #2년이 지난 후 자본의 현재 가치"
   ]
  },
  {
   "cell_type": "code",
   "execution_count": 41,
   "metadata": {
    "ExecuteTime": {
     "end_time": "2022-06-15T03:53:02.537138Z",
     "start_time": "2022-06-15T03:53:02.523255Z"
    }
   },
   "outputs": [
    {
     "name": "stdout",
     "output_type": "stream",
     "text": [
      "100.0\n",
      "95.23809523809524\n",
      "90.70294784580499\n",
      "86.3837598531476\n",
      "82.27024747918819\n",
      "78.35261664684589\n",
      "74.62153966366274\n",
      "71.06813301301213\n",
      "67.6839362028687\n",
      "64.46089162177971\n",
      "61.39132535407592\n",
      "58.46792890864373\n",
      "55.68374181775592\n",
      "53.03213506452945\n",
      "50.506795299551854\n",
      "48.101709809096995\n",
      "45.811152199140004\n",
      "43.62966876108571\n",
      "41.5520654867483\n",
      "39.57339570166504\n"
     ]
    }
   ],
   "source": [
    "for i in range(20):\n",
    "    print(pv(i))"
   ]
  },
  {
   "cell_type": "markdown",
   "metadata": {},
   "source": [
    "### 놀이공원 사업의 사업성 분석하기  \n",
    "---"
   ]
  },
  {
   "cell_type": "markdown",
   "metadata": {},
   "source": [
    "건설회사 사장이 놀이공원을 여는 것이 꿈이다. 건설사업이 성공해서 이제는 놀이공원에 한번 도전해도 괜찮을 것 같다.  \n",
    "건설회사 사장님이 모은 돈과 지금 가진 신용으로 이 놀이공원을 지을 수 있을지, 지었을 때 이익이 날지 손해가 날지 알고 싶다."
   ]
  },
  {
   "cell_type": "markdown",
   "metadata": {},
   "source": [
    "&#128528; 여기서는 실습의 편의를 위해 공사를 시작하는 시점을 1년 차로 가정, 일반적으로 운영 수입이 발생하는 시점을 기준  \n",
    "&#128528; 가상의 사업을 분석하는 과정에서 분석 기간은 사업에 따라서 달라질 수 있다."
   ]
  },
  {
   "cell_type": "markdown",
   "metadata": {},
   "source": [
    "![KakaoTalk_20220612_152617234](https://user-images.githubusercontent.com/105963819/173220123-a68814cd-29d2-414b-bbbc-ca964de58565.jpg)\n"
   ]
  },
  {
   "cell_type": "markdown",
   "metadata": {},
   "source": [
    "- 세부 지표 값 구하기"
   ]
  },
  {
   "cell_type": "code",
   "execution_count": 42,
   "metadata": {
    "ExecuteTime": {
     "end_time": "2022-06-15T03:53:02.552198Z",
     "start_time": "2022-06-15T03:53:02.538103Z"
    }
   },
   "outputs": [
    {
     "data": {
      "text/plain": [
       "[-750,\n",
       " -250,\n",
       " 100,\n",
       " 100,\n",
       " 100,\n",
       " 100,\n",
       " 100,\n",
       " 100,\n",
       " 100,\n",
       " 100,\n",
       " 100,\n",
       " 100,\n",
       " 100,\n",
       " 100,\n",
       " 100,\n",
       " 100,\n",
       " 100,\n",
       " 100,\n",
       " 100,\n",
       " 100]"
      ]
     },
     "execution_count": 42,
     "metadata": {},
     "output_type": "execute_result"
    }
   ],
   "source": [
    "loss=[-750,-250] #1,2년 차\n",
    "profit=[100]*18 #3년 차부터 \n",
    "cf=loss+profit\n",
    "cf"
   ]
  },
  {
   "cell_type": "code",
   "execution_count": 43,
   "metadata": {
    "ExecuteTime": {
     "end_time": "2022-06-15T03:53:02.567144Z",
     "start_time": "2022-06-15T03:53:02.553062Z"
    }
   },
   "outputs": [
    {
     "data": {
      "text/plain": [
       "20"
      ]
     },
     "execution_count": 43,
     "metadata": {},
     "output_type": "execute_result"
    }
   ],
   "source": [
    "len(cf)"
   ]
  },
  {
   "cell_type": "code",
   "execution_count": 44,
   "metadata": {
    "ExecuteTime": {
     "end_time": "2022-06-15T03:53:02.582116Z",
     "start_time": "2022-06-15T03:53:02.568363Z"
    }
   },
   "outputs": [],
   "source": [
    "cashflow=np.array(cf)"
   ]
  },
  {
   "cell_type": "markdown",
   "metadata": {},
   "source": [
    "- 순현재가치와 내부수익률 구하기"
   ]
  },
  {
   "cell_type": "code",
   "execution_count": 45,
   "metadata": {
    "ExecuteTime": {
     "end_time": "2022-06-15T03:53:02.596943Z",
     "start_time": "2022-06-15T03:53:02.582983Z"
    }
   },
   "outputs": [
    {
     "name": "stderr",
     "output_type": "stream",
     "text": [
      "<ipython-input-45-869079e5cd3a>:1: DeprecationWarning: numpy.npv is deprecated and will be removed from NumPy 1.20. Use numpy_financial.npv instead (https://pypi.org/project/numpy-financial/).\n",
      "  npv=np.npv(0.045,cashflow)\n"
     ]
    }
   ],
   "source": [
    "npv=np.npv(0.045,cashflow)"
   ]
  },
  {
   "cell_type": "code",
   "execution_count": 46,
   "metadata": {
    "ExecuteTime": {
     "end_time": "2022-06-15T03:53:02.612001Z",
     "start_time": "2022-06-15T03:53:02.598951Z"
    }
   },
   "outputs": [
    {
     "data": {
      "text/plain": [
       "174.4011295118405"
      ]
     },
     "execution_count": 46,
     "metadata": {},
     "output_type": "execute_result"
    }
   ],
   "source": [
    "npv"
   ]
  },
  {
   "cell_type": "code",
   "execution_count": 47,
   "metadata": {
    "ExecuteTime": {
     "end_time": "2022-06-15T03:53:02.671744Z",
     "start_time": "2022-06-15T03:53:02.612903Z"
    }
   },
   "outputs": [
    {
     "name": "stderr",
     "output_type": "stream",
     "text": [
      "<ipython-input-47-7c34e3a77d23>:1: DeprecationWarning: numpy.irr is deprecated and will be removed from NumPy 1.20. Use numpy_financial.irr instead (https://pypi.org/project/numpy-financial/).\n",
      "  irr=np.irr(cashflow)\n"
     ]
    }
   ],
   "source": [
    "irr=np.irr(cashflow)"
   ]
  },
  {
   "cell_type": "code",
   "execution_count": 48,
   "metadata": {
    "ExecuteTime": {
     "end_time": "2022-06-15T03:53:02.686705Z",
     "start_time": "2022-06-15T03:53:02.673738Z"
    }
   },
   "outputs": [
    {
     "data": {
      "text/plain": [
       "0.06434936937255586"
      ]
     },
     "execution_count": 48,
     "metadata": {},
     "output_type": "execute_result"
    }
   ],
   "source": [
    "irr"
   ]
  },
  {
   "cell_type": "markdown",
   "metadata": {},
   "source": [
    "- 핵심 지표 값 해석하기"
   ]
  },
  {
   "cell_type": "markdown",
   "metadata": {},
   "source": [
    "순현재가치는 약 174.4억이고, 내부수익률은 6.4%정도가 나왔다.  \n",
    "사실 재무적 타당성은 순현재가치나 내부수익률을 구하는 것보다 해석하는 일이 더 중요  \n",
    "가정한 할인율은 4.5%였고, 6.4%는 4.5%보다 높기 때문에 수익성이 있다고 볼 수 있다.  \n",
    "하지만 이자를 해마다 10%씩 내야 한다고 가정하면 다시 생각해야 한다.  \n",
    "18년 동안 운영한다고 가정했을 때 내부수익룰이 6.4%이므로 10%보다 더 작다.  \n",
    "현실에서는 할인율뿐만 아니라 여러 요소를 고려해서 분석해야 한다."
   ]
  },
  {
   "cell_type": "markdown",
   "metadata": {},
   "source": [
    "프로젝트의 가치는 174억으로서 이 정도 수익을 올릴 수 있다면. 이 사업은 순현재가치를 봤을 때도 사업성이 있는 것으로 판단"
   ]
  },
  {
   "cell_type": "markdown",
   "metadata": {},
   "source": [
    "# 판다스로 데이터프레임 만들기  \n",
    "---"
   ]
  },
  {
   "cell_type": "markdown",
   "metadata": {},
   "source": [
    "데이터프레임이란?  \n",
    "데이터를 쉽게 가공하게 도와주는 틀  \n",
    "DataFrame()함수를 사용하면 딕셔너리형 자료를 판다스로 가공할 수 있는 데이터프레임으로 만들 수 있다.  "
   ]
  },
  {
   "cell_type": "code",
   "execution_count": 49,
   "metadata": {
    "ExecuteTime": {
     "end_time": "2022-06-15T03:53:04.470952Z",
     "start_time": "2022-06-15T03:53:02.688700Z"
    }
   },
   "outputs": [],
   "source": [
    "import pandas as pd"
   ]
  },
  {
   "cell_type": "code",
   "execution_count": 50,
   "metadata": {
    "ExecuteTime": {
     "end_time": "2022-06-15T03:53:04.485644Z",
     "start_time": "2022-06-15T03:53:04.472679Z"
    }
   },
   "outputs": [],
   "source": [
    "data={'name':['Mark','Jane','Chris','Ryan'],'age':[33,32,44,42],'score':[91.3,83.4,77.5,87.7]}"
   ]
  },
  {
   "cell_type": "code",
   "execution_count": 51,
   "metadata": {
    "ExecuteTime": {
     "end_time": "2022-06-15T03:53:04.500743Z",
     "start_time": "2022-06-15T03:53:04.486641Z"
    }
   },
   "outputs": [],
   "source": [
    "df=pd.DataFrame(data)"
   ]
  },
  {
   "cell_type": "code",
   "execution_count": 52,
   "metadata": {
    "ExecuteTime": {
     "end_time": "2022-06-15T03:53:04.515565Z",
     "start_time": "2022-06-15T03:53:04.501601Z"
    }
   },
   "outputs": [
    {
     "data": {
      "text/html": [
       "<div>\n",
       "<style scoped>\n",
       "    .dataframe tbody tr th:only-of-type {\n",
       "        vertical-align: middle;\n",
       "    }\n",
       "\n",
       "    .dataframe tbody tr th {\n",
       "        vertical-align: top;\n",
       "    }\n",
       "\n",
       "    .dataframe thead th {\n",
       "        text-align: right;\n",
       "    }\n",
       "</style>\n",
       "<table border=\"1\" class=\"dataframe\">\n",
       "  <thead>\n",
       "    <tr style=\"text-align: right;\">\n",
       "      <th></th>\n",
       "      <th>name</th>\n",
       "      <th>age</th>\n",
       "      <th>score</th>\n",
       "    </tr>\n",
       "  </thead>\n",
       "  <tbody>\n",
       "    <tr>\n",
       "      <th>0</th>\n",
       "      <td>Mark</td>\n",
       "      <td>33</td>\n",
       "      <td>91.3</td>\n",
       "    </tr>\n",
       "    <tr>\n",
       "      <th>1</th>\n",
       "      <td>Jane</td>\n",
       "      <td>32</td>\n",
       "      <td>83.4</td>\n",
       "    </tr>\n",
       "    <tr>\n",
       "      <th>2</th>\n",
       "      <td>Chris</td>\n",
       "      <td>44</td>\n",
       "      <td>77.5</td>\n",
       "    </tr>\n",
       "    <tr>\n",
       "      <th>3</th>\n",
       "      <td>Ryan</td>\n",
       "      <td>42</td>\n",
       "      <td>87.7</td>\n",
       "    </tr>\n",
       "  </tbody>\n",
       "</table>\n",
       "</div>"
      ],
      "text/plain": [
       "    name  age  score\n",
       "0   Mark   33   91.3\n",
       "1   Jane   32   83.4\n",
       "2  Chris   44   77.5\n",
       "3   Ryan   42   87.7"
      ]
     },
     "execution_count": 52,
     "metadata": {},
     "output_type": "execute_result"
    }
   ],
   "source": [
    "df"
   ]
  },
  {
   "cell_type": "code",
   "execution_count": 53,
   "metadata": {
    "ExecuteTime": {
     "end_time": "2022-06-15T03:53:04.530583Z",
     "start_time": "2022-06-15T03:53:04.516561Z"
    }
   },
   "outputs": [
    {
     "data": {
      "text/plain": [
       "name     MarkJaneChrisRyan\n",
       "age                    151\n",
       "score                339.9\n",
       "dtype: object"
      ]
     },
     "execution_count": 53,
     "metadata": {},
     "output_type": "execute_result"
    }
   ],
   "source": [
    "df.sum()"
   ]
  },
  {
   "cell_type": "code",
   "execution_count": 54,
   "metadata": {
    "ExecuteTime": {
     "end_time": "2022-06-15T03:53:04.545516Z",
     "start_time": "2022-06-15T03:53:04.531961Z"
    }
   },
   "outputs": [
    {
     "data": {
      "text/plain": [
       "age      37.750\n",
       "score    84.975\n",
       "dtype: float64"
      ]
     },
     "execution_count": 54,
     "metadata": {},
     "output_type": "execute_result"
    }
   ],
   "source": [
    "df.mean()"
   ]
  },
  {
   "cell_type": "code",
   "execution_count": 55,
   "metadata": {
    "ExecuteTime": {
     "end_time": "2022-06-15T03:53:04.560448Z",
     "start_time": "2022-06-15T03:53:04.546653Z"
    }
   },
   "outputs": [
    {
     "data": {
      "text/plain": [
       "0    33\n",
       "1    32\n",
       "2    44\n",
       "3    42\n",
       "Name: age, dtype: int64"
      ]
     },
     "execution_count": 55,
     "metadata": {},
     "output_type": "execute_result"
    }
   ],
   "source": [
    "df.age"
   ]
  },
  {
   "cell_type": "code",
   "execution_count": 56,
   "metadata": {
    "ExecuteTime": {
     "end_time": "2022-06-15T03:53:04.575405Z",
     "start_time": "2022-06-15T03:53:04.562453Z"
    }
   },
   "outputs": [
    {
     "data": {
      "text/plain": [
       "0    33\n",
       "1    32\n",
       "2    44\n",
       "3    42\n",
       "Name: age, dtype: int64"
      ]
     },
     "execution_count": 56,
     "metadata": {},
     "output_type": "execute_result"
    }
   ],
   "source": [
    "df['age']"
   ]
  },
  {
   "cell_type": "markdown",
   "metadata": {},
   "source": [
    "df.age 나 df['age']  결과는 같으나 가끔 첫 번째 방법은 오류가 날 수 있으니 두 번째 방법을 추천"
   ]
  },
  {
   "cell_type": "markdown",
   "metadata": {},
   "source": [
    "### csv파일 불러와서 데이터프레임으로 만들기  \n",
    "---"
   ]
  },
  {
   "cell_type": "markdown",
   "metadata": {},
   "source": [
    "국토교통부는 아파트 실거래가를 매월 공개하고 있다. 누구나 연구 목적 등으로 이 자료를 내려받아서 사용할 수 있다.  "
   ]
  },
  {
   "cell_type": "code",
   "execution_count": 57,
   "metadata": {
    "ExecuteTime": {
     "end_time": "2022-06-15T03:53:04.590473Z",
     "start_time": "2022-06-15T03:53:04.577431Z"
    }
   },
   "outputs": [],
   "source": [
    "import re,os"
   ]
  },
  {
   "cell_type": "code",
   "execution_count": 58,
   "metadata": {
    "ExecuteTime": {
     "end_time": "2022-06-15T03:53:04.605323Z",
     "start_time": "2022-06-15T03:53:04.593367Z"
    }
   },
   "outputs": [],
   "source": [
    "os.chdir(r'C:\\Users\\phl02\\Desktop\\P\\doit_python_programming')"
   ]
  },
  {
   "cell_type": "code",
   "execution_count": 59,
   "metadata": {
    "ExecuteTime": {
     "end_time": "2022-06-15T03:53:04.769987Z",
     "start_time": "2022-06-15T03:53:04.607320Z"
    }
   },
   "outputs": [],
   "source": [
    "df=pd.read_csv('apt.csv',encoding='cp949')"
   ]
  },
  {
   "cell_type": "code",
   "execution_count": 60,
   "metadata": {
    "ExecuteTime": {
     "end_time": "2022-06-15T03:53:04.784908Z",
     "start_time": "2022-06-15T03:53:04.772877Z"
    }
   },
   "outputs": [
    {
     "data": {
      "text/plain": [
       "42758"
      ]
     },
     "execution_count": 60,
     "metadata": {},
     "output_type": "execute_result"
    }
   ],
   "source": [
    "len(df)"
   ]
  },
  {
   "cell_type": "code",
   "execution_count": 61,
   "metadata": {
    "ExecuteTime": {
     "end_time": "2022-06-15T03:53:04.799885Z",
     "start_time": "2022-06-15T03:53:04.785841Z"
    }
   },
   "outputs": [
    {
     "data": {
      "text/html": [
       "<div>\n",
       "<style scoped>\n",
       "    .dataframe tbody tr th:only-of-type {\n",
       "        vertical-align: middle;\n",
       "    }\n",
       "\n",
       "    .dataframe tbody tr th {\n",
       "        vertical-align: top;\n",
       "    }\n",
       "\n",
       "    .dataframe thead th {\n",
       "        text-align: right;\n",
       "    }\n",
       "</style>\n",
       "<table border=\"1\" class=\"dataframe\">\n",
       "  <thead>\n",
       "    <tr style=\"text-align: right;\">\n",
       "      <th></th>\n",
       "      <th>지역</th>\n",
       "      <th>번지</th>\n",
       "      <th>본번</th>\n",
       "      <th>부번</th>\n",
       "      <th>아파트</th>\n",
       "      <th>면적</th>\n",
       "      <th>계약년월</th>\n",
       "      <th>계약일</th>\n",
       "      <th>가격</th>\n",
       "      <th>층</th>\n",
       "      <th>건축년도</th>\n",
       "      <th>도로명</th>\n",
       "    </tr>\n",
       "  </thead>\n",
       "  <tbody>\n",
       "    <tr>\n",
       "      <th>0</th>\n",
       "      <td>강원도 강릉시 견소동</td>\n",
       "      <td>202</td>\n",
       "      <td>202</td>\n",
       "      <td>0</td>\n",
       "      <td>송정한신</td>\n",
       "      <td>59.800</td>\n",
       "      <td>201910</td>\n",
       "      <td>4</td>\n",
       "      <td>10900</td>\n",
       "      <td>5</td>\n",
       "      <td>1997</td>\n",
       "      <td>경강로2539번길 8</td>\n",
       "    </tr>\n",
       "    <tr>\n",
       "      <th>1</th>\n",
       "      <td>강원도 강릉시 견소동</td>\n",
       "      <td>202</td>\n",
       "      <td>202</td>\n",
       "      <td>0</td>\n",
       "      <td>송정한신</td>\n",
       "      <td>116.175</td>\n",
       "      <td>201910</td>\n",
       "      <td>31</td>\n",
       "      <td>18500</td>\n",
       "      <td>10</td>\n",
       "      <td>1997</td>\n",
       "      <td>경강로2539번길 8</td>\n",
       "    </tr>\n",
       "    <tr>\n",
       "      <th>2</th>\n",
       "      <td>강원도 강릉시 견소동</td>\n",
       "      <td>289</td>\n",
       "      <td>289</td>\n",
       "      <td>0</td>\n",
       "      <td>송정해변신도브래뉴아파트</td>\n",
       "      <td>84.990</td>\n",
       "      <td>201910</td>\n",
       "      <td>5</td>\n",
       "      <td>25000</td>\n",
       "      <td>6</td>\n",
       "      <td>2005</td>\n",
       "      <td>경강로2539번길 22</td>\n",
       "    </tr>\n",
       "    <tr>\n",
       "      <th>3</th>\n",
       "      <td>강원도 강릉시 견소동</td>\n",
       "      <td>289</td>\n",
       "      <td>289</td>\n",
       "      <td>0</td>\n",
       "      <td>송정해변신도브래뉴아파트</td>\n",
       "      <td>84.990</td>\n",
       "      <td>201910</td>\n",
       "      <td>12</td>\n",
       "      <td>20600</td>\n",
       "      <td>3</td>\n",
       "      <td>2005</td>\n",
       "      <td>경강로2539번길 22</td>\n",
       "    </tr>\n",
       "    <tr>\n",
       "      <th>4</th>\n",
       "      <td>강원도 강릉시 견소동</td>\n",
       "      <td>289</td>\n",
       "      <td>289</td>\n",
       "      <td>0</td>\n",
       "      <td>송정해변신도브래뉴아파트</td>\n",
       "      <td>84.990</td>\n",
       "      <td>201910</td>\n",
       "      <td>20</td>\n",
       "      <td>20500</td>\n",
       "      <td>1</td>\n",
       "      <td>2005</td>\n",
       "      <td>경강로2539번길 22</td>\n",
       "    </tr>\n",
       "  </tbody>\n",
       "</table>\n",
       "</div>"
      ],
      "text/plain": [
       "            지역   번지   본번  부번           아파트       면적    계약년월  계약일     가격   층  \\\n",
       "0  강원도 강릉시 견소동  202  202   0          송정한신   59.800  201910    4  10900   5   \n",
       "1  강원도 강릉시 견소동  202  202   0          송정한신  116.175  201910   31  18500  10   \n",
       "2  강원도 강릉시 견소동  289  289   0  송정해변신도브래뉴아파트   84.990  201910    5  25000   6   \n",
       "3  강원도 강릉시 견소동  289  289   0  송정해변신도브래뉴아파트   84.990  201910   12  20600   3   \n",
       "4  강원도 강릉시 견소동  289  289   0  송정해변신도브래뉴아파트   84.990  201910   20  20500   1   \n",
       "\n",
       "   건축년도           도로명  \n",
       "0  1997   경강로2539번길 8  \n",
       "1  1997   경강로2539번길 8  \n",
       "2  2005  경강로2539번길 22  \n",
       "3  2005  경강로2539번길 22  \n",
       "4  2005  경강로2539번길 22  "
      ]
     },
     "execution_count": 61,
     "metadata": {},
     "output_type": "execute_result"
    }
   ],
   "source": [
    "df.head()"
   ]
  },
  {
   "cell_type": "code",
   "execution_count": 62,
   "metadata": {
    "ExecuteTime": {
     "end_time": "2022-06-15T03:53:04.814794Z",
     "start_time": "2022-06-15T03:53:04.801800Z"
    }
   },
   "outputs": [
    {
     "data": {
      "text/html": [
       "<div>\n",
       "<style scoped>\n",
       "    .dataframe tbody tr th:only-of-type {\n",
       "        vertical-align: middle;\n",
       "    }\n",
       "\n",
       "    .dataframe tbody tr th {\n",
       "        vertical-align: top;\n",
       "    }\n",
       "\n",
       "    .dataframe thead th {\n",
       "        text-align: right;\n",
       "    }\n",
       "</style>\n",
       "<table border=\"1\" class=\"dataframe\">\n",
       "  <thead>\n",
       "    <tr style=\"text-align: right;\">\n",
       "      <th></th>\n",
       "      <th>지역</th>\n",
       "      <th>번지</th>\n",
       "      <th>본번</th>\n",
       "      <th>부번</th>\n",
       "      <th>아파트</th>\n",
       "      <th>면적</th>\n",
       "      <th>계약년월</th>\n",
       "      <th>계약일</th>\n",
       "      <th>가격</th>\n",
       "      <th>층</th>\n",
       "      <th>건축년도</th>\n",
       "      <th>도로명</th>\n",
       "    </tr>\n",
       "  </thead>\n",
       "  <tbody>\n",
       "    <tr>\n",
       "      <th>42753</th>\n",
       "      <td>충청북도 충주시 호암동</td>\n",
       "      <td>547-6</td>\n",
       "      <td>547</td>\n",
       "      <td>6</td>\n",
       "      <td>호반현대</td>\n",
       "      <td>59.76</td>\n",
       "      <td>201910</td>\n",
       "      <td>29</td>\n",
       "      <td>7000</td>\n",
       "      <td>3</td>\n",
       "      <td>1994</td>\n",
       "      <td>신촌2길 28</td>\n",
       "    </tr>\n",
       "    <tr>\n",
       "      <th>42754</th>\n",
       "      <td>충청북도 충주시 호암동</td>\n",
       "      <td>221-23</td>\n",
       "      <td>221</td>\n",
       "      <td>23</td>\n",
       "      <td>호암리버빌(1단지)</td>\n",
       "      <td>84.68</td>\n",
       "      <td>201910</td>\n",
       "      <td>5</td>\n",
       "      <td>12000</td>\n",
       "      <td>15</td>\n",
       "      <td>2002</td>\n",
       "      <td>원호암5길 32</td>\n",
       "    </tr>\n",
       "    <tr>\n",
       "      <th>42755</th>\n",
       "      <td>충청북도 충주시 호암동</td>\n",
       "      <td>221-23</td>\n",
       "      <td>221</td>\n",
       "      <td>23</td>\n",
       "      <td>호암리버빌(1단지)</td>\n",
       "      <td>84.68</td>\n",
       "      <td>201910</td>\n",
       "      <td>15</td>\n",
       "      <td>11000</td>\n",
       "      <td>7</td>\n",
       "      <td>2002</td>\n",
       "      <td>원호암5길 32</td>\n",
       "    </tr>\n",
       "    <tr>\n",
       "      <th>42756</th>\n",
       "      <td>충청북도 충주시 호암동</td>\n",
       "      <td>221-23</td>\n",
       "      <td>221</td>\n",
       "      <td>23</td>\n",
       "      <td>호암리버빌(1단지)</td>\n",
       "      <td>84.68</td>\n",
       "      <td>201910</td>\n",
       "      <td>17</td>\n",
       "      <td>12000</td>\n",
       "      <td>14</td>\n",
       "      <td>2002</td>\n",
       "      <td>원호암5길 32</td>\n",
       "    </tr>\n",
       "    <tr>\n",
       "      <th>42757</th>\n",
       "      <td>충청북도 충주시 호암동</td>\n",
       "      <td>221-23</td>\n",
       "      <td>221</td>\n",
       "      <td>23</td>\n",
       "      <td>호암리버빌(1단지)</td>\n",
       "      <td>84.68</td>\n",
       "      <td>201910</td>\n",
       "      <td>26</td>\n",
       "      <td>11200</td>\n",
       "      <td>11</td>\n",
       "      <td>2002</td>\n",
       "      <td>원호암5길 32</td>\n",
       "    </tr>\n",
       "  </tbody>\n",
       "</table>\n",
       "</div>"
      ],
      "text/plain": [
       "                 지역      번지   본번  부번         아파트     면적    계약년월  계약일     가격  \\\n",
       "42753  충청북도 충주시 호암동   547-6  547   6        호반현대  59.76  201910   29   7000   \n",
       "42754  충청북도 충주시 호암동  221-23  221  23  호암리버빌(1단지)  84.68  201910    5  12000   \n",
       "42755  충청북도 충주시 호암동  221-23  221  23  호암리버빌(1단지)  84.68  201910   15  11000   \n",
       "42756  충청북도 충주시 호암동  221-23  221  23  호암리버빌(1단지)  84.68  201910   17  12000   \n",
       "42757  충청북도 충주시 호암동  221-23  221  23  호암리버빌(1단지)  84.68  201910   26  11200   \n",
       "\n",
       "        층  건축년도       도로명  \n",
       "42753   3  1994   신촌2길 28  \n",
       "42754  15  2002  원호암5길 32  \n",
       "42755   7  2002  원호암5길 32  \n",
       "42756  14  2002  원호암5길 32  \n",
       "42757  11  2002  원호암5길 32  "
      ]
     },
     "execution_count": 62,
     "metadata": {},
     "output_type": "execute_result"
    }
   ],
   "source": [
    "df.tail()"
   ]
  },
  {
   "cell_type": "code",
   "execution_count": 63,
   "metadata": {
    "ExecuteTime": {
     "end_time": "2022-06-15T03:53:04.829726Z",
     "start_time": "2022-06-15T03:53:04.816760Z"
    }
   },
   "outputs": [
    {
     "data": {
      "text/plain": [
       "0         강원도 강릉시 견소동\n",
       "1         강원도 강릉시 견소동\n",
       "2         강원도 강릉시 견소동\n",
       "3         강원도 강릉시 견소동\n",
       "4         강원도 강릉시 견소동\n",
       "             ...     \n",
       "42753    충청북도 충주시 호암동\n",
       "42754    충청북도 충주시 호암동\n",
       "42755    충청북도 충주시 호암동\n",
       "42756    충청북도 충주시 호암동\n",
       "42757    충청북도 충주시 호암동\n",
       "Name: 지역, Length: 42758, dtype: object"
      ]
     },
     "execution_count": 63,
     "metadata": {},
     "output_type": "execute_result"
    }
   ],
   "source": [
    "df.지역"
   ]
  },
  {
   "cell_type": "markdown",
   "metadata": {},
   "source": [
    "면적의 단위는 1제곱미터, 가견의 단위는 1만 원"
   ]
  },
  {
   "cell_type": "code",
   "execution_count": 64,
   "metadata": {
    "ExecuteTime": {
     "end_time": "2022-06-15T03:53:04.934433Z",
     "start_time": "2022-06-15T03:53:04.833715Z"
    }
   },
   "outputs": [
    {
     "data": {
      "text/html": [
       "<div>\n",
       "<style scoped>\n",
       "    .dataframe tbody tr th:only-of-type {\n",
       "        vertical-align: middle;\n",
       "    }\n",
       "\n",
       "    .dataframe tbody tr th {\n",
       "        vertical-align: top;\n",
       "    }\n",
       "\n",
       "    .dataframe thead th {\n",
       "        text-align: right;\n",
       "    }\n",
       "</style>\n",
       "<table border=\"1\" class=\"dataframe\">\n",
       "  <thead>\n",
       "    <tr style=\"text-align: right;\">\n",
       "      <th></th>\n",
       "      <th>지역</th>\n",
       "      <th>번지</th>\n",
       "      <th>본번</th>\n",
       "      <th>부번</th>\n",
       "      <th>아파트</th>\n",
       "      <th>면적</th>\n",
       "      <th>계약년월</th>\n",
       "      <th>계약일</th>\n",
       "      <th>가격</th>\n",
       "      <th>층</th>\n",
       "      <th>건축년도</th>\n",
       "      <th>도로명</th>\n",
       "    </tr>\n",
       "  </thead>\n",
       "  <tbody>\n",
       "    <tr>\n",
       "      <th>6</th>\n",
       "      <td>강원도 강릉시 교동</td>\n",
       "      <td>1982</td>\n",
       "      <td>1982</td>\n",
       "      <td>0</td>\n",
       "      <td>강릉교동롯데캐슬1단지</td>\n",
       "      <td>135.1727</td>\n",
       "      <td>201910</td>\n",
       "      <td>21</td>\n",
       "      <td>34300</td>\n",
       "      <td>9</td>\n",
       "      <td>2009</td>\n",
       "      <td>화부산로99번길 12</td>\n",
       "    </tr>\n",
       "    <tr>\n",
       "      <th>39</th>\n",
       "      <td>강원도 강릉시 남문동</td>\n",
       "      <td>183-2</td>\n",
       "      <td>183</td>\n",
       "      <td>2</td>\n",
       "      <td>삼익그린맨션</td>\n",
       "      <td>164.7540</td>\n",
       "      <td>201910</td>\n",
       "      <td>15</td>\n",
       "      <td>21000</td>\n",
       "      <td>12</td>\n",
       "      <td>1992</td>\n",
       "      <td>홍제로 7-17</td>\n",
       "    </tr>\n",
       "    <tr>\n",
       "      <th>334</th>\n",
       "      <td>강원도 속초시 금호동</td>\n",
       "      <td>629</td>\n",
       "      <td>629</td>\n",
       "      <td>0</td>\n",
       "      <td>보람레이크더하임</td>\n",
       "      <td>156.7600</td>\n",
       "      <td>201910</td>\n",
       "      <td>16</td>\n",
       "      <td>29500</td>\n",
       "      <td>1</td>\n",
       "      <td>2008</td>\n",
       "      <td>영랑호반길 115-13</td>\n",
       "    </tr>\n",
       "    <tr>\n",
       "      <th>433</th>\n",
       "      <td>강원도 원주시 개운동</td>\n",
       "      <td>01월 28일</td>\n",
       "      <td>28</td>\n",
       "      <td>1</td>\n",
       "      <td>원주힐스테이트</td>\n",
       "      <td>133.9912</td>\n",
       "      <td>201910</td>\n",
       "      <td>5</td>\n",
       "      <td>26000</td>\n",
       "      <td>16</td>\n",
       "      <td>2006</td>\n",
       "      <td>행구로 54</td>\n",
       "    </tr>\n",
       "    <tr>\n",
       "      <th>434</th>\n",
       "      <td>강원도 원주시 개운동</td>\n",
       "      <td>01월 28일</td>\n",
       "      <td>28</td>\n",
       "      <td>1</td>\n",
       "      <td>원주힐스테이트</td>\n",
       "      <td>137.4292</td>\n",
       "      <td>201910</td>\n",
       "      <td>31</td>\n",
       "      <td>24000</td>\n",
       "      <td>14</td>\n",
       "      <td>2006</td>\n",
       "      <td>행구로 54</td>\n",
       "    </tr>\n",
       "    <tr>\n",
       "      <th>...</th>\n",
       "      <td>...</td>\n",
       "      <td>...</td>\n",
       "      <td>...</td>\n",
       "      <td>...</td>\n",
       "      <td>...</td>\n",
       "      <td>...</td>\n",
       "      <td>...</td>\n",
       "      <td>...</td>\n",
       "      <td>...</td>\n",
       "      <td>...</td>\n",
       "      <td>...</td>\n",
       "      <td>...</td>\n",
       "    </tr>\n",
       "    <tr>\n",
       "      <th>42595</th>\n",
       "      <td>충청북도 충주시 문화동</td>\n",
       "      <td>2260</td>\n",
       "      <td>2260</td>\n",
       "      <td>0</td>\n",
       "      <td>럭키</td>\n",
       "      <td>156.7900</td>\n",
       "      <td>201910</td>\n",
       "      <td>21</td>\n",
       "      <td>15000</td>\n",
       "      <td>3</td>\n",
       "      <td>1993</td>\n",
       "      <td>중원대로 3379</td>\n",
       "    </tr>\n",
       "    <tr>\n",
       "      <th>42607</th>\n",
       "      <td>충청북도 충주시 안림동</td>\n",
       "      <td>1166</td>\n",
       "      <td>1166</td>\n",
       "      <td>0</td>\n",
       "      <td>엘리시아</td>\n",
       "      <td>136.1287</td>\n",
       "      <td>201910</td>\n",
       "      <td>19</td>\n",
       "      <td>18500</td>\n",
       "      <td>12</td>\n",
       "      <td>2007</td>\n",
       "      <td>국원초1길 48</td>\n",
       "    </tr>\n",
       "    <tr>\n",
       "      <th>42663</th>\n",
       "      <td>충청북도 충주시 연수동</td>\n",
       "      <td>1627</td>\n",
       "      <td>1627</td>\n",
       "      <td>0</td>\n",
       "      <td>연수힐스테이트</td>\n",
       "      <td>143.2109</td>\n",
       "      <td>201910</td>\n",
       "      <td>14</td>\n",
       "      <td>31500</td>\n",
       "      <td>13</td>\n",
       "      <td>2007</td>\n",
       "      <td>연수동산로 26</td>\n",
       "    </tr>\n",
       "    <tr>\n",
       "      <th>42736</th>\n",
       "      <td>충청북도 충주시 칠금동</td>\n",
       "      <td>626</td>\n",
       "      <td>626</td>\n",
       "      <td>0</td>\n",
       "      <td>삼일</td>\n",
       "      <td>143.5800</td>\n",
       "      <td>201910</td>\n",
       "      <td>20</td>\n",
       "      <td>18500</td>\n",
       "      <td>12</td>\n",
       "      <td>1996</td>\n",
       "      <td>금릉로 17</td>\n",
       "    </tr>\n",
       "    <tr>\n",
       "      <th>42737</th>\n",
       "      <td>충청북도 충주시 칠금동</td>\n",
       "      <td>626</td>\n",
       "      <td>626</td>\n",
       "      <td>0</td>\n",
       "      <td>삼일</td>\n",
       "      <td>143.5800</td>\n",
       "      <td>201910</td>\n",
       "      <td>21</td>\n",
       "      <td>16200</td>\n",
       "      <td>3</td>\n",
       "      <td>1996</td>\n",
       "      <td>금릉로 17</td>\n",
       "    </tr>\n",
       "  </tbody>\n",
       "</table>\n",
       "<p>1567 rows × 12 columns</p>\n",
       "</div>"
      ],
      "text/plain": [
       "                 지역       번지    본번  부번          아파트        면적    계약년월  계약일  \\\n",
       "6        강원도 강릉시 교동     1982  1982   0  강릉교동롯데캐슬1단지  135.1727  201910   21   \n",
       "39      강원도 강릉시 남문동    183-2   183   2       삼익그린맨션  164.7540  201910   15   \n",
       "334     강원도 속초시 금호동      629   629   0     보람레이크더하임  156.7600  201910   16   \n",
       "433     강원도 원주시 개운동  01월 28일    28   1      원주힐스테이트  133.9912  201910    5   \n",
       "434     강원도 원주시 개운동  01월 28일    28   1      원주힐스테이트  137.4292  201910   31   \n",
       "...             ...      ...   ...  ..          ...       ...     ...  ...   \n",
       "42595  충청북도 충주시 문화동     2260  2260   0           럭키  156.7900  201910   21   \n",
       "42607  충청북도 충주시 안림동     1166  1166   0         엘리시아  136.1287  201910   19   \n",
       "42663  충청북도 충주시 연수동     1627  1627   0      연수힐스테이트  143.2109  201910   14   \n",
       "42736  충청북도 충주시 칠금동      626   626   0           삼일  143.5800  201910   20   \n",
       "42737  충청북도 충주시 칠금동      626   626   0           삼일  143.5800  201910   21   \n",
       "\n",
       "          가격   층  건축년도           도로명  \n",
       "6      34300   9  2009   화부산로99번길 12  \n",
       "39     21000  12  1992      홍제로 7-17  \n",
       "334    29500   1  2008  영랑호반길 115-13  \n",
       "433    26000  16  2006        행구로 54  \n",
       "434    24000  14  2006        행구로 54  \n",
       "...      ...  ..   ...           ...  \n",
       "42595  15000   3  1993     중원대로 3379  \n",
       "42607  18500  12  2007      국원초1길 48  \n",
       "42663  31500  13  2007      연수동산로 26  \n",
       "42736  18500  12  1996        금릉로 17  \n",
       "42737  16200   3  1996        금릉로 17  \n",
       "\n",
       "[1567 rows x 12 columns]"
      ]
     },
     "execution_count": 64,
     "metadata": {},
     "output_type": "execute_result"
    }
   ],
   "source": [
    "df[df.면적>130] #면적이 130이 넘는 데이터프레임 출력"
   ]
  },
  {
   "cell_type": "code",
   "execution_count": 65,
   "metadata": {
    "ExecuteTime": {
     "end_time": "2022-06-15T03:53:04.949525Z",
     "start_time": "2022-06-15T03:53:04.936438Z"
    }
   },
   "outputs": [
    {
     "data": {
      "text/plain": [
       "6        34300\n",
       "39       21000\n",
       "334      29500\n",
       "433      26000\n",
       "434      24000\n",
       "         ...  \n",
       "42595    15000\n",
       "42607    18500\n",
       "42663    31500\n",
       "42736    18500\n",
       "42737    16200\n",
       "Name: 가격, Length: 1567, dtype: int64"
      ]
     },
     "execution_count": 65,
     "metadata": {},
     "output_type": "execute_result"
    }
   ],
   "source": [
    "df.가격[df.면적>130] #가격만 보고 싶을 때"
   ]
  },
  {
   "cell_type": "code",
   "execution_count": 66,
   "metadata": {
    "ExecuteTime": {
     "end_time": "2022-06-15T03:53:04.964366Z",
     "start_time": "2022-06-15T03:53:04.951398Z"
    }
   },
   "outputs": [
    {
     "data": {
      "text/plain": [
       "480      19000\n",
       "481      17500\n",
       "711      15000\n",
       "861      15900\n",
       "862      14900\n",
       "927      13800\n",
       "14171    19500\n",
       "16143    17100\n",
       "16584    19500\n",
       "16585    18000\n",
       "16785    14700\n",
       "16786    16800\n",
       "16787    16000\n",
       "17126    18250\n",
       "17276    15100\n",
       "17651    17800\n",
       "18028    19800\n",
       "18067    16000\n",
       "18091    15000\n",
       "22085    17000\n",
       "22144    16000\n",
       "23069    19300\n",
       "35386    17000\n",
       "36733    14700\n",
       "36753    17950\n",
       "36859    17000\n",
       "37554    19000\n",
       "37726    13700\n",
       "37788    19050\n",
       "38076    16000\n",
       "38365    19000\n",
       "38440    15500\n",
       "38557    18500\n",
       "38724    15500\n",
       "38810    15300\n",
       "38811    14600\n",
       "39487    12000\n",
       "39958    18000\n",
       "39959    18500\n",
       "40353    19000\n",
       "40360    19600\n",
       "40680    12500\n",
       "41173    14000\n",
       "41376    17000\n",
       "41447    18400\n",
       "41578    13000\n",
       "41617    17800\n",
       "41693    18500\n",
       "41881    16800\n",
       "42589    19000\n",
       "42595    15000\n",
       "42607    18500\n",
       "42736    18500\n",
       "42737    16200\n",
       "Name: 가격, dtype: int64"
      ]
     },
     "execution_count": 66,
     "metadata": {},
     "output_type": "execute_result"
    }
   ],
   "source": [
    "df.가격[(df.면적>130)&(df.가격<20000)]"
   ]
  },
  {
   "cell_type": "code",
   "execution_count": 67,
   "metadata": {
    "ExecuteTime": {
     "end_time": "2022-06-15T03:53:04.979323Z",
     "start_time": "2022-06-15T03:53:04.966359Z"
    }
   },
   "outputs": [
    {
     "data": {
      "text/plain": [
       "0        10900\n",
       "1        18500\n",
       "6        34300\n",
       "8        16200\n",
       "11       17500\n",
       "         ...  \n",
       "42753     7000\n",
       "42754    12000\n",
       "42755    11000\n",
       "42756    12000\n",
       "42757    11200\n",
       "Name: 가격, Length: 17117, dtype: int64"
      ]
     },
     "execution_count": 67,
     "metadata": {},
     "output_type": "execute_result"
    }
   ],
   "source": [
    "df.가격[(df.면적>130)|(df.가격<20000)]"
   ]
  },
  {
   "cell_type": "markdown",
   "metadata": {},
   "source": [
    "원하는 자료만 선택할 때 `loc`를 사용"
   ]
  },
  {
   "cell_type": "code",
   "execution_count": 68,
   "metadata": {
    "ExecuteTime": {
     "end_time": "2022-06-15T03:53:05.009244Z",
     "start_time": "2022-06-15T03:53:04.981321Z"
    }
   },
   "outputs": [
    {
     "data": {
      "text/html": [
       "<div>\n",
       "<style scoped>\n",
       "    .dataframe tbody tr th:only-of-type {\n",
       "        vertical-align: middle;\n",
       "    }\n",
       "\n",
       "    .dataframe tbody tr th {\n",
       "        vertical-align: top;\n",
       "    }\n",
       "\n",
       "    .dataframe thead th {\n",
       "        text-align: right;\n",
       "    }\n",
       "</style>\n",
       "<table border=\"1\" class=\"dataframe\">\n",
       "  <thead>\n",
       "    <tr style=\"text-align: right;\">\n",
       "      <th></th>\n",
       "      <th>아파트</th>\n",
       "      <th>가격</th>\n",
       "    </tr>\n",
       "  </thead>\n",
       "  <tbody>\n",
       "    <tr>\n",
       "      <th>0</th>\n",
       "      <td>송정한신</td>\n",
       "      <td>10900</td>\n",
       "    </tr>\n",
       "    <tr>\n",
       "      <th>1</th>\n",
       "      <td>송정한신</td>\n",
       "      <td>18500</td>\n",
       "    </tr>\n",
       "    <tr>\n",
       "      <th>2</th>\n",
       "      <td>송정해변신도브래뉴아파트</td>\n",
       "      <td>25000</td>\n",
       "    </tr>\n",
       "    <tr>\n",
       "      <th>3</th>\n",
       "      <td>송정해변신도브래뉴아파트</td>\n",
       "      <td>20600</td>\n",
       "    </tr>\n",
       "    <tr>\n",
       "      <th>4</th>\n",
       "      <td>송정해변신도브래뉴아파트</td>\n",
       "      <td>20500</td>\n",
       "    </tr>\n",
       "    <tr>\n",
       "      <th>5</th>\n",
       "      <td>강릉 교동 풍림아이원 아파트</td>\n",
       "      <td>29200</td>\n",
       "    </tr>\n",
       "    <tr>\n",
       "      <th>6</th>\n",
       "      <td>강릉교동롯데캐슬1단지</td>\n",
       "      <td>34300</td>\n",
       "    </tr>\n",
       "    <tr>\n",
       "      <th>7</th>\n",
       "      <td>강릉교동롯데캐슬2단지</td>\n",
       "      <td>32500</td>\n",
       "    </tr>\n",
       "    <tr>\n",
       "      <th>8</th>\n",
       "      <td>교동1주공</td>\n",
       "      <td>16200</td>\n",
       "    </tr>\n",
       "    <tr>\n",
       "      <th>9</th>\n",
       "      <td>교동1주공</td>\n",
       "      <td>21550</td>\n",
       "    </tr>\n",
       "    <tr>\n",
       "      <th>10</th>\n",
       "      <td>교동1주공</td>\n",
       "      <td>21800</td>\n",
       "    </tr>\n",
       "  </tbody>\n",
       "</table>\n",
       "</div>"
      ],
      "text/plain": [
       "                아파트     가격\n",
       "0              송정한신  10900\n",
       "1              송정한신  18500\n",
       "2      송정해변신도브래뉴아파트  25000\n",
       "3      송정해변신도브래뉴아파트  20600\n",
       "4      송정해변신도브래뉴아파트  20500\n",
       "5   강릉 교동 풍림아이원 아파트  29200\n",
       "6       강릉교동롯데캐슬1단지  34300\n",
       "7       강릉교동롯데캐슬2단지  32500\n",
       "8             교동1주공  16200\n",
       "9             교동1주공  21550\n",
       "10            교동1주공  21800"
      ]
     },
     "execution_count": 68,
     "metadata": {},
     "output_type": "execute_result"
    }
   ],
   "source": [
    "df.loc[:10,['아파트','가격']] #아파트와 가격 자료만 10번까지 출력"
   ]
  },
  {
   "cell_type": "code",
   "execution_count": 69,
   "metadata": {
    "ExecuteTime": {
     "end_time": "2022-06-15T03:53:05.039164Z",
     "start_time": "2022-06-15T03:53:05.013233Z"
    }
   },
   "outputs": [
    {
     "data": {
      "text/html": [
       "<div>\n",
       "<style scoped>\n",
       "    .dataframe tbody tr th:only-of-type {\n",
       "        vertical-align: middle;\n",
       "    }\n",
       "\n",
       "    .dataframe tbody tr th {\n",
       "        vertical-align: top;\n",
       "    }\n",
       "\n",
       "    .dataframe thead th {\n",
       "        text-align: right;\n",
       "    }\n",
       "</style>\n",
       "<table border=\"1\" class=\"dataframe\">\n",
       "  <thead>\n",
       "    <tr style=\"text-align: right;\">\n",
       "      <th></th>\n",
       "      <th>아파트</th>\n",
       "      <th>가격</th>\n",
       "    </tr>\n",
       "  </thead>\n",
       "  <tbody>\n",
       "    <tr>\n",
       "      <th>382</th>\n",
       "      <td>속초청호아이파크</td>\n",
       "      <td>45800</td>\n",
       "    </tr>\n",
       "    <tr>\n",
       "      <th>541</th>\n",
       "      <td>무실e-편한세상</td>\n",
       "      <td>44600</td>\n",
       "    </tr>\n",
       "    <tr>\n",
       "      <th>592</th>\n",
       "      <td>원주반곡아이파크</td>\n",
       "      <td>40700</td>\n",
       "    </tr>\n",
       "    <tr>\n",
       "      <th>842</th>\n",
       "      <td>온의 롯데캐슬 스카이클래스</td>\n",
       "      <td>44000</td>\n",
       "    </tr>\n",
       "    <tr>\n",
       "      <th>843</th>\n",
       "      <td>온의 롯데캐슬 스카이클래스</td>\n",
       "      <td>42900</td>\n",
       "    </tr>\n",
       "    <tr>\n",
       "      <th>...</th>\n",
       "      <td>...</td>\n",
       "      <td>...</td>\n",
       "    </tr>\n",
       "    <tr>\n",
       "      <th>42364</th>\n",
       "      <td>신영지웰시티 1차</td>\n",
       "      <td>47700</td>\n",
       "    </tr>\n",
       "    <tr>\n",
       "      <th>42365</th>\n",
       "      <td>신영지웰시티 1차</td>\n",
       "      <td>46000</td>\n",
       "    </tr>\n",
       "    <tr>\n",
       "      <th>42366</th>\n",
       "      <td>신영지웰시티 1차</td>\n",
       "      <td>55800</td>\n",
       "    </tr>\n",
       "    <tr>\n",
       "      <th>42367</th>\n",
       "      <td>신영지웰시티 1차</td>\n",
       "      <td>67000</td>\n",
       "    </tr>\n",
       "    <tr>\n",
       "      <th>42424</th>\n",
       "      <td>봉명아이파크</td>\n",
       "      <td>49000</td>\n",
       "    </tr>\n",
       "  </tbody>\n",
       "</table>\n",
       "<p>10486 rows × 2 columns</p>\n",
       "</div>"
      ],
      "text/plain": [
       "                  아파트     가격\n",
       "382          속초청호아이파크  45800\n",
       "541          무실e-편한세상  44600\n",
       "592          원주반곡아이파크  40700\n",
       "842    온의 롯데캐슬 스카이클래스  44000\n",
       "843    온의 롯데캐슬 스카이클래스  42900\n",
       "...               ...    ...\n",
       "42364       신영지웰시티 1차  47700\n",
       "42365       신영지웰시티 1차  46000\n",
       "42366       신영지웰시티 1차  55800\n",
       "42367       신영지웰시티 1차  67000\n",
       "42424          봉명아이파크  49000\n",
       "\n",
       "[10486 rows x 2 columns]"
      ]
     },
     "execution_count": 69,
     "metadata": {},
     "output_type": "execute_result"
    }
   ],
   "source": [
    "df.loc[:,['아파트','가격']][df.가격>40000]"
   ]
  },
  {
   "cell_type": "code",
   "execution_count": 70,
   "metadata": {
    "ExecuteTime": {
     "end_time": "2022-06-15T03:53:05.085117Z",
     "start_time": "2022-06-15T03:53:05.042157Z"
    }
   },
   "outputs": [],
   "source": [
    "df['단가']=df.가격/df.면적"
   ]
  },
  {
   "cell_type": "code",
   "execution_count": 71,
   "metadata": {
    "ExecuteTime": {
     "end_time": "2022-06-15T03:53:05.100002Z",
     "start_time": "2022-06-15T03:53:05.087037Z"
    }
   },
   "outputs": [
    {
     "data": {
      "text/html": [
       "<div>\n",
       "<style scoped>\n",
       "    .dataframe tbody tr th:only-of-type {\n",
       "        vertical-align: middle;\n",
       "    }\n",
       "\n",
       "    .dataframe tbody tr th {\n",
       "        vertical-align: top;\n",
       "    }\n",
       "\n",
       "    .dataframe thead th {\n",
       "        text-align: right;\n",
       "    }\n",
       "</style>\n",
       "<table border=\"1\" class=\"dataframe\">\n",
       "  <thead>\n",
       "    <tr style=\"text-align: right;\">\n",
       "      <th></th>\n",
       "      <th>아파트</th>\n",
       "      <th>가격</th>\n",
       "      <th>단가</th>\n",
       "    </tr>\n",
       "  </thead>\n",
       "  <tbody>\n",
       "    <tr>\n",
       "      <th>0</th>\n",
       "      <td>송정한신</td>\n",
       "      <td>10900</td>\n",
       "      <td>182.274247</td>\n",
       "    </tr>\n",
       "    <tr>\n",
       "      <th>1</th>\n",
       "      <td>송정한신</td>\n",
       "      <td>18500</td>\n",
       "      <td>159.242522</td>\n",
       "    </tr>\n",
       "    <tr>\n",
       "      <th>2</th>\n",
       "      <td>송정해변신도브래뉴아파트</td>\n",
       "      <td>25000</td>\n",
       "      <td>294.152253</td>\n",
       "    </tr>\n",
       "    <tr>\n",
       "      <th>3</th>\n",
       "      <td>송정해변신도브래뉴아파트</td>\n",
       "      <td>20600</td>\n",
       "      <td>242.381457</td>\n",
       "    </tr>\n",
       "    <tr>\n",
       "      <th>4</th>\n",
       "      <td>송정해변신도브래뉴아파트</td>\n",
       "      <td>20500</td>\n",
       "      <td>241.204848</td>\n",
       "    </tr>\n",
       "    <tr>\n",
       "      <th>5</th>\n",
       "      <td>강릉 교동 풍림아이원 아파트</td>\n",
       "      <td>29200</td>\n",
       "      <td>343.543962</td>\n",
       "    </tr>\n",
       "    <tr>\n",
       "      <th>6</th>\n",
       "      <td>강릉교동롯데캐슬1단지</td>\n",
       "      <td>34300</td>\n",
       "      <td>253.749463</td>\n",
       "    </tr>\n",
       "    <tr>\n",
       "      <th>7</th>\n",
       "      <td>강릉교동롯데캐슬2단지</td>\n",
       "      <td>32500</td>\n",
       "      <td>275.263703</td>\n",
       "    </tr>\n",
       "    <tr>\n",
       "      <th>8</th>\n",
       "      <td>교동1주공</td>\n",
       "      <td>16200</td>\n",
       "      <td>270.495909</td>\n",
       "    </tr>\n",
       "    <tr>\n",
       "      <th>9</th>\n",
       "      <td>교동1주공</td>\n",
       "      <td>21550</td>\n",
       "      <td>254.007544</td>\n",
       "    </tr>\n",
       "    <tr>\n",
       "      <th>10</th>\n",
       "      <td>교동1주공</td>\n",
       "      <td>21800</td>\n",
       "      <td>256.954267</td>\n",
       "    </tr>\n",
       "  </tbody>\n",
       "</table>\n",
       "</div>"
      ],
      "text/plain": [
       "                아파트     가격          단가\n",
       "0              송정한신  10900  182.274247\n",
       "1              송정한신  18500  159.242522\n",
       "2      송정해변신도브래뉴아파트  25000  294.152253\n",
       "3      송정해변신도브래뉴아파트  20600  242.381457\n",
       "4      송정해변신도브래뉴아파트  20500  241.204848\n",
       "5   강릉 교동 풍림아이원 아파트  29200  343.543962\n",
       "6       강릉교동롯데캐슬1단지  34300  253.749463\n",
       "7       강릉교동롯데캐슬2단지  32500  275.263703\n",
       "8             교동1주공  16200  270.495909\n",
       "9             교동1주공  21550  254.007544\n",
       "10            교동1주공  21800  256.954267"
      ]
     },
     "execution_count": 71,
     "metadata": {},
     "output_type": "execute_result"
    }
   ],
   "source": [
    "df.loc[:10,['아파트','가격','단가']]"
   ]
  },
  {
   "cell_type": "markdown",
   "metadata": {},
   "source": [
    "- 데이터 정렬하는 방법  \n",
    "\n",
    "`df.sort_values(by='열 이름') : 오름차순`  \n",
    "`df.sort_values(by='열 이름',ascending=False) : 내림차순` "
   ]
  },
  {
   "cell_type": "code",
   "execution_count": 72,
   "metadata": {
    "ExecuteTime": {
     "end_time": "2022-06-15T03:53:05.129922Z",
     "start_time": "2022-06-15T03:53:05.101997Z"
    }
   },
   "outputs": [
    {
     "data": {
      "text/html": [
       "<div>\n",
       "<style scoped>\n",
       "    .dataframe tbody tr th:only-of-type {\n",
       "        vertical-align: middle;\n",
       "    }\n",
       "\n",
       "    .dataframe tbody tr th {\n",
       "        vertical-align: top;\n",
       "    }\n",
       "\n",
       "    .dataframe thead th {\n",
       "        text-align: right;\n",
       "    }\n",
       "</style>\n",
       "<table border=\"1\" class=\"dataframe\">\n",
       "  <thead>\n",
       "    <tr style=\"text-align: right;\">\n",
       "      <th></th>\n",
       "      <th>가격</th>\n",
       "      <th>지역</th>\n",
       "    </tr>\n",
       "  </thead>\n",
       "  <tbody>\n",
       "    <tr>\n",
       "      <th>17024</th>\n",
       "      <td>600</td>\n",
       "      <td>경상북도 구미시 원평동</td>\n",
       "    </tr>\n",
       "    <tr>\n",
       "      <th>17022</th>\n",
       "      <td>700</td>\n",
       "      <td>경상북도 구미시 원평동</td>\n",
       "    </tr>\n",
       "    <tr>\n",
       "      <th>17637</th>\n",
       "      <td>750</td>\n",
       "      <td>경상북도 칠곡군 약목면 관호리</td>\n",
       "    </tr>\n",
       "    <tr>\n",
       "      <th>17031</th>\n",
       "      <td>800</td>\n",
       "      <td>경상북도 구미시 원평동</td>\n",
       "    </tr>\n",
       "    <tr>\n",
       "      <th>17027</th>\n",
       "      <td>800</td>\n",
       "      <td>경상북도 구미시 원평동</td>\n",
       "    </tr>\n",
       "    <tr>\n",
       "      <th>...</th>\n",
       "      <td>...</td>\n",
       "      <td>...</td>\n",
       "    </tr>\n",
       "    <tr>\n",
       "      <th>27036</th>\n",
       "      <td>373000</td>\n",
       "      <td>서울특별시 강남구 대치동</td>\n",
       "    </tr>\n",
       "    <tr>\n",
       "      <th>26805</th>\n",
       "      <td>376640</td>\n",
       "      <td>부산광역시 해운대구 우동</td>\n",
       "    </tr>\n",
       "    <tr>\n",
       "      <th>29946</th>\n",
       "      <td>415000</td>\n",
       "      <td>서울특별시 서초구 반포동</td>\n",
       "    </tr>\n",
       "    <tr>\n",
       "      <th>27061</th>\n",
       "      <td>461000</td>\n",
       "      <td>서울특별시 강남구 도곡동</td>\n",
       "    </tr>\n",
       "    <tr>\n",
       "      <th>31258</th>\n",
       "      <td>485000</td>\n",
       "      <td>서울특별시 용산구 한남동</td>\n",
       "    </tr>\n",
       "  </tbody>\n",
       "</table>\n",
       "<p>42758 rows × 2 columns</p>\n",
       "</div>"
      ],
      "text/plain": [
       "           가격                지역\n",
       "17024     600      경상북도 구미시 원평동\n",
       "17022     700      경상북도 구미시 원평동\n",
       "17637     750  경상북도 칠곡군 약목면 관호리\n",
       "17031     800      경상북도 구미시 원평동\n",
       "17027     800      경상북도 구미시 원평동\n",
       "...       ...               ...\n",
       "27036  373000     서울특별시 강남구 대치동\n",
       "26805  376640     부산광역시 해운대구 우동\n",
       "29946  415000     서울특별시 서초구 반포동\n",
       "27061  461000     서울특별시 강남구 도곡동\n",
       "31258  485000     서울특별시 용산구 한남동\n",
       "\n",
       "[42758 rows x 2 columns]"
      ]
     },
     "execution_count": 72,
     "metadata": {},
     "output_type": "execute_result"
    }
   ],
   "source": [
    "df.sort_values(by='가격').loc[:,('가격','지역')]"
   ]
  },
  {
   "cell_type": "code",
   "execution_count": 73,
   "metadata": {
    "ExecuteTime": {
     "end_time": "2022-06-15T03:53:05.159842Z",
     "start_time": "2022-06-15T03:53:05.131917Z"
    }
   },
   "outputs": [
    {
     "data": {
      "text/html": [
       "<div>\n",
       "<style scoped>\n",
       "    .dataframe tbody tr th:only-of-type {\n",
       "        vertical-align: middle;\n",
       "    }\n",
       "\n",
       "    .dataframe tbody tr th {\n",
       "        vertical-align: top;\n",
       "    }\n",
       "\n",
       "    .dataframe thead th {\n",
       "        text-align: right;\n",
       "    }\n",
       "</style>\n",
       "<table border=\"1\" class=\"dataframe\">\n",
       "  <thead>\n",
       "    <tr style=\"text-align: right;\">\n",
       "      <th></th>\n",
       "      <th>가격</th>\n",
       "      <th>지역</th>\n",
       "    </tr>\n",
       "  </thead>\n",
       "  <tbody>\n",
       "    <tr>\n",
       "      <th>31258</th>\n",
       "      <td>485000</td>\n",
       "      <td>서울특별시 용산구 한남동</td>\n",
       "    </tr>\n",
       "    <tr>\n",
       "      <th>27061</th>\n",
       "      <td>461000</td>\n",
       "      <td>서울특별시 강남구 도곡동</td>\n",
       "    </tr>\n",
       "    <tr>\n",
       "      <th>29946</th>\n",
       "      <td>415000</td>\n",
       "      <td>서울특별시 서초구 반포동</td>\n",
       "    </tr>\n",
       "    <tr>\n",
       "      <th>26805</th>\n",
       "      <td>376640</td>\n",
       "      <td>부산광역시 해운대구 우동</td>\n",
       "    </tr>\n",
       "    <tr>\n",
       "      <th>27036</th>\n",
       "      <td>373000</td>\n",
       "      <td>서울특별시 강남구 대치동</td>\n",
       "    </tr>\n",
       "    <tr>\n",
       "      <th>...</th>\n",
       "      <td>...</td>\n",
       "      <td>...</td>\n",
       "    </tr>\n",
       "    <tr>\n",
       "      <th>17027</th>\n",
       "      <td>800</td>\n",
       "      <td>경상북도 구미시 원평동</td>\n",
       "    </tr>\n",
       "    <tr>\n",
       "      <th>17025</th>\n",
       "      <td>800</td>\n",
       "      <td>경상북도 구미시 원평동</td>\n",
       "    </tr>\n",
       "    <tr>\n",
       "      <th>17637</th>\n",
       "      <td>750</td>\n",
       "      <td>경상북도 칠곡군 약목면 관호리</td>\n",
       "    </tr>\n",
       "    <tr>\n",
       "      <th>17022</th>\n",
       "      <td>700</td>\n",
       "      <td>경상북도 구미시 원평동</td>\n",
       "    </tr>\n",
       "    <tr>\n",
       "      <th>17024</th>\n",
       "      <td>600</td>\n",
       "      <td>경상북도 구미시 원평동</td>\n",
       "    </tr>\n",
       "  </tbody>\n",
       "</table>\n",
       "<p>42758 rows × 2 columns</p>\n",
       "</div>"
      ],
      "text/plain": [
       "           가격                지역\n",
       "31258  485000     서울특별시 용산구 한남동\n",
       "27061  461000     서울특별시 강남구 도곡동\n",
       "29946  415000     서울특별시 서초구 반포동\n",
       "26805  376640     부산광역시 해운대구 우동\n",
       "27036  373000     서울특별시 강남구 대치동\n",
       "...       ...               ...\n",
       "17027     800      경상북도 구미시 원평동\n",
       "17025     800      경상북도 구미시 원평동\n",
       "17637     750  경상북도 칠곡군 약목면 관호리\n",
       "17022     700      경상북도 구미시 원평동\n",
       "17024     600      경상북도 구미시 원평동\n",
       "\n",
       "[42758 rows x 2 columns]"
      ]
     },
     "execution_count": 73,
     "metadata": {},
     "output_type": "execute_result"
    }
   ],
   "source": [
    "df.sort_values(by='가격',ascending=False).loc[:,('가격','지역')]"
   ]
  },
  {
   "cell_type": "code",
   "execution_count": 74,
   "metadata": {
    "ExecuteTime": {
     "end_time": "2022-06-15T03:53:05.189821Z",
     "start_time": "2022-06-15T03:53:05.160838Z"
    }
   },
   "outputs": [
    {
     "data": {
      "text/html": [
       "<div>\n",
       "<style scoped>\n",
       "    .dataframe tbody tr th:only-of-type {\n",
       "        vertical-align: middle;\n",
       "    }\n",
       "\n",
       "    .dataframe tbody tr th {\n",
       "        vertical-align: top;\n",
       "    }\n",
       "\n",
       "    .dataframe thead th {\n",
       "        text-align: right;\n",
       "    }\n",
       "</style>\n",
       "<table border=\"1\" class=\"dataframe\">\n",
       "  <thead>\n",
       "    <tr style=\"text-align: right;\">\n",
       "      <th></th>\n",
       "      <th>가격</th>\n",
       "      <th>면적</th>\n",
       "      <th>지역</th>\n",
       "    </tr>\n",
       "  </thead>\n",
       "  <tbody>\n",
       "    <tr>\n",
       "      <th>30111</th>\n",
       "      <td>90000</td>\n",
       "      <td>25.3284</td>\n",
       "      <td>서울특별시 성동구 성수동1가</td>\n",
       "    </tr>\n",
       "    <tr>\n",
       "      <th>27124</th>\n",
       "      <td>74000</td>\n",
       "      <td>28.2460</td>\n",
       "      <td>서울특별시 강남구 역삼동</td>\n",
       "    </tr>\n",
       "    <tr>\n",
       "      <th>27122</th>\n",
       "      <td>74500</td>\n",
       "      <td>28.2460</td>\n",
       "      <td>서울특별시 강남구 역삼동</td>\n",
       "    </tr>\n",
       "    <tr>\n",
       "      <th>27123</th>\n",
       "      <td>76000</td>\n",
       "      <td>28.2460</td>\n",
       "      <td>서울특별시 강남구 역삼동</td>\n",
       "    </tr>\n",
       "    <tr>\n",
       "      <th>29725</th>\n",
       "      <td>43500</td>\n",
       "      <td>30.0100</td>\n",
       "      <td>서울특별시 마포구 아현동</td>\n",
       "    </tr>\n",
       "    <tr>\n",
       "      <th>...</th>\n",
       "      <td>...</td>\n",
       "      <td>...</td>\n",
       "      <td>...</td>\n",
       "    </tr>\n",
       "    <tr>\n",
       "      <th>27118</th>\n",
       "      <td>245000</td>\n",
       "      <td>242.8200</td>\n",
       "      <td>서울특별시 강남구 역삼동</td>\n",
       "    </tr>\n",
       "    <tr>\n",
       "      <th>30002</th>\n",
       "      <td>206000</td>\n",
       "      <td>244.4200</td>\n",
       "      <td>서울특별시 서초구 서초동</td>\n",
       "    </tr>\n",
       "    <tr>\n",
       "      <th>10106</th>\n",
       "      <td>100000</td>\n",
       "      <td>244.6630</td>\n",
       "      <td>경기도 용인수지구 성복동</td>\n",
       "    </tr>\n",
       "    <tr>\n",
       "      <th>31501</th>\n",
       "      <td>240000</td>\n",
       "      <td>273.8200</td>\n",
       "      <td>서울특별시 중구 신당동</td>\n",
       "    </tr>\n",
       "    <tr>\n",
       "      <th>35826</th>\n",
       "      <td>300000</td>\n",
       "      <td>291.3360</td>\n",
       "      <td>인천광역시 연수구 송도동</td>\n",
       "    </tr>\n",
       "  </tbody>\n",
       "</table>\n",
       "<p>10486 rows × 3 columns</p>\n",
       "</div>"
      ],
      "text/plain": [
       "           가격        면적               지역\n",
       "30111   90000   25.3284  서울특별시 성동구 성수동1가\n",
       "27124   74000   28.2460    서울특별시 강남구 역삼동\n",
       "27122   74500   28.2460    서울특별시 강남구 역삼동\n",
       "27123   76000   28.2460    서울특별시 강남구 역삼동\n",
       "29725   43500   30.0100    서울특별시 마포구 아현동\n",
       "...       ...       ...              ...\n",
       "27118  245000  242.8200    서울특별시 강남구 역삼동\n",
       "30002  206000  244.4200    서울특별시 서초구 서초동\n",
       "10106  100000  244.6630    경기도 용인수지구 성복동\n",
       "31501  240000  273.8200     서울특별시 중구 신당동\n",
       "35826  300000  291.3360    인천광역시 연수구 송도동\n",
       "\n",
       "[10486 rows x 3 columns]"
      ]
     },
     "execution_count": 74,
     "metadata": {},
     "output_type": "execute_result"
    }
   ],
   "source": [
    "df[df.가격>40000].sort_values(by='면적').loc[:,('가격','면적','지역')]"
   ]
  },
  {
   "cell_type": "markdown",
   "metadata": {},
   "source": [
    "- 문자열 다루기  \n",
    "---\n",
    "`str.find()`를 사용하면 특정한 문자를 포함하는 열을 추출  "
   ]
  },
  {
   "cell_type": "code",
   "execution_count": 75,
   "metadata": {
    "ExecuteTime": {
     "end_time": "2022-06-15T03:53:05.234640Z",
     "start_time": "2022-06-15T03:53:05.191756Z"
    }
   },
   "outputs": [
    {
     "data": {
      "text/plain": [
       "0        4\n",
       "1        4\n",
       "2        4\n",
       "3        4\n",
       "4        4\n",
       "        ..\n",
       "42753   -1\n",
       "42754   -1\n",
       "42755   -1\n",
       "42756   -1\n",
       "42757   -1\n",
       "Name: 지역, Length: 42758, dtype: int64"
      ]
     },
     "execution_count": 75,
     "metadata": {},
     "output_type": "execute_result"
    }
   ],
   "source": [
    "df.지역.str.find('강릉')"
   ]
  },
  {
   "cell_type": "markdown",
   "metadata": {},
   "source": [
    "**인덱스를 반환하고 없으면 -1**"
   ]
  },
  {
   "cell_type": "code",
   "execution_count": 76,
   "metadata": {
    "ExecuteTime": {
     "end_time": "2022-06-15T03:53:05.264562Z",
     "start_time": "2022-06-15T03:53:05.236636Z"
    }
   },
   "outputs": [],
   "source": [
    "dfF=df[df.지역.str.find('강릉')>-1]"
   ]
  },
  {
   "cell_type": "code",
   "execution_count": 77,
   "metadata": {
    "ExecuteTime": {
     "end_time": "2022-06-15T03:53:05.279521Z",
     "start_time": "2022-06-15T03:53:05.265560Z"
    }
   },
   "outputs": [
    {
     "data": {
      "text/plain": [
       "본번               inf\n",
       "부번      1.085106e+00\n",
       "면적      7.047780e+01\n",
       "계약년월    2.019100e+05\n",
       "계약일     1.527128e+01\n",
       "가격      1.541457e+04\n",
       "층       7.420213e+00\n",
       "건축년도    2.000463e+03\n",
       "단가      2.099422e+02\n",
       "dtype: float64"
      ]
     },
     "execution_count": 77,
     "metadata": {},
     "output_type": "execute_result"
    }
   ],
   "source": [
    "dfF.mean()"
   ]
  },
  {
   "cell_type": "markdown",
   "metadata": {},
   "source": [
    "# 판다스로 통계 데이터 다루기  \n",
    "---"
   ]
  },
  {
   "cell_type": "markdown",
   "metadata": {},
   "source": [
    "데이터프레임으로 데이터를 가공하는 이유는 결국 통계 분석을 위해서"
   ]
  },
  {
   "cell_type": "code",
   "execution_count": 78,
   "metadata": {
    "ExecuteTime": {
     "end_time": "2022-06-15T03:53:05.294543Z",
     "start_time": "2022-06-15T03:53:05.280518Z"
    }
   },
   "outputs": [],
   "source": [
    "df2=pd.read_csv('survey.csv')"
   ]
  },
  {
   "cell_type": "code",
   "execution_count": 79,
   "metadata": {
    "ExecuteTime": {
     "end_time": "2022-06-15T03:53:05.309525Z",
     "start_time": "2022-06-15T03:53:05.296475Z"
    }
   },
   "outputs": [
    {
     "data": {
      "text/html": [
       "<div>\n",
       "<style scoped>\n",
       "    .dataframe tbody tr th:only-of-type {\n",
       "        vertical-align: middle;\n",
       "    }\n",
       "\n",
       "    .dataframe tbody tr th {\n",
       "        vertical-align: top;\n",
       "    }\n",
       "\n",
       "    .dataframe thead th {\n",
       "        text-align: right;\n",
       "    }\n",
       "</style>\n",
       "<table border=\"1\" class=\"dataframe\">\n",
       "  <thead>\n",
       "    <tr style=\"text-align: right;\">\n",
       "      <th></th>\n",
       "      <th>sex</th>\n",
       "      <th>income</th>\n",
       "      <th>English</th>\n",
       "      <th>jobSatisfaction</th>\n",
       "      <th>stress</th>\n",
       "    </tr>\n",
       "  </thead>\n",
       "  <tbody>\n",
       "    <tr>\n",
       "      <th>0</th>\n",
       "      <td>m</td>\n",
       "      <td>3000</td>\n",
       "      <td>500</td>\n",
       "      <td>5</td>\n",
       "      <td>5</td>\n",
       "    </tr>\n",
       "    <tr>\n",
       "      <th>1</th>\n",
       "      <td>f</td>\n",
       "      <td>4000</td>\n",
       "      <td>600</td>\n",
       "      <td>4</td>\n",
       "      <td>4</td>\n",
       "    </tr>\n",
       "    <tr>\n",
       "      <th>2</th>\n",
       "      <td>f</td>\n",
       "      <td>5000</td>\n",
       "      <td>700</td>\n",
       "      <td>3</td>\n",
       "      <td>2</td>\n",
       "    </tr>\n",
       "    <tr>\n",
       "      <th>3</th>\n",
       "      <td>m</td>\n",
       "      <td>6000</td>\n",
       "      <td>800</td>\n",
       "      <td>2</td>\n",
       "      <td>2</td>\n",
       "    </tr>\n",
       "    <tr>\n",
       "      <th>4</th>\n",
       "      <td>m</td>\n",
       "      <td>4000</td>\n",
       "      <td>700</td>\n",
       "      <td>2</td>\n",
       "      <td>5</td>\n",
       "    </tr>\n",
       "  </tbody>\n",
       "</table>\n",
       "</div>"
      ],
      "text/plain": [
       "  sex  income  English  jobSatisfaction  stress\n",
       "0   m    3000      500                5       5\n",
       "1   f    4000      600                4       4\n",
       "2   f    5000      700                3       2\n",
       "3   m    6000      800                2       2\n",
       "4   m    4000      700                2       5"
      ]
     },
     "execution_count": 79,
     "metadata": {},
     "output_type": "execute_result"
    }
   ],
   "source": [
    "df2.head()"
   ]
  },
  {
   "cell_type": "code",
   "execution_count": 80,
   "metadata": {
    "ExecuteTime": {
     "end_time": "2022-06-15T03:53:05.324401Z",
     "start_time": "2022-06-15T03:53:05.311435Z"
    }
   },
   "outputs": [
    {
     "data": {
      "text/plain": [
       "income             4304.217391\n",
       "English             608.695652\n",
       "jobSatisfaction       3.304348\n",
       "stress                3.347826\n",
       "dtype: float64"
      ]
     },
     "execution_count": 80,
     "metadata": {},
     "output_type": "execute_result"
    }
   ],
   "source": [
    "df2.mean()"
   ]
  },
  {
   "cell_type": "code",
   "execution_count": 81,
   "metadata": {
    "ExecuteTime": {
     "end_time": "2022-06-15T03:53:05.339361Z",
     "start_time": "2022-06-15T03:53:05.326395Z"
    }
   },
   "outputs": [
    {
     "data": {
      "text/plain": [
       "4304.217391304348"
      ]
     },
     "execution_count": 81,
     "metadata": {},
     "output_type": "execute_result"
    }
   ],
   "source": [
    "df2.income.mean()"
   ]
  },
  {
   "cell_type": "code",
   "execution_count": 82,
   "metadata": {
    "ExecuteTime": {
     "end_time": "2022-06-15T03:53:05.354320Z",
     "start_time": "2022-06-15T03:53:05.341357Z"
    }
   },
   "outputs": [
    {
     "data": {
      "text/plain": [
       "4999.0"
      ]
     },
     "execution_count": 82,
     "metadata": {},
     "output_type": "execute_result"
    }
   ],
   "source": [
    "df2.income.median()"
   ]
  },
  {
   "cell_type": "markdown",
   "metadata": {},
   "source": [
    "일일이 구해야 하는건 번거러운 일이므로 한 번에 보여주는 `describe()`를 사용"
   ]
  },
  {
   "cell_type": "code",
   "execution_count": 83,
   "metadata": {
    "ExecuteTime": {
     "end_time": "2022-06-15T03:53:05.384240Z",
     "start_time": "2022-06-15T03:53:05.356317Z"
    }
   },
   "outputs": [
    {
     "data": {
      "text/html": [
       "<div>\n",
       "<style scoped>\n",
       "    .dataframe tbody tr th:only-of-type {\n",
       "        vertical-align: middle;\n",
       "    }\n",
       "\n",
       "    .dataframe tbody tr th {\n",
       "        vertical-align: top;\n",
       "    }\n",
       "\n",
       "    .dataframe thead th {\n",
       "        text-align: right;\n",
       "    }\n",
       "</style>\n",
       "<table border=\"1\" class=\"dataframe\">\n",
       "  <thead>\n",
       "    <tr style=\"text-align: right;\">\n",
       "      <th></th>\n",
       "      <th>income</th>\n",
       "      <th>English</th>\n",
       "      <th>jobSatisfaction</th>\n",
       "      <th>stress</th>\n",
       "    </tr>\n",
       "  </thead>\n",
       "  <tbody>\n",
       "    <tr>\n",
       "      <th>count</th>\n",
       "      <td>23.000000</td>\n",
       "      <td>23.000000</td>\n",
       "      <td>23.000000</td>\n",
       "      <td>23.000000</td>\n",
       "    </tr>\n",
       "    <tr>\n",
       "      <th>mean</th>\n",
       "      <td>4304.217391</td>\n",
       "      <td>608.695652</td>\n",
       "      <td>3.304348</td>\n",
       "      <td>3.347826</td>\n",
       "    </tr>\n",
       "    <tr>\n",
       "      <th>std</th>\n",
       "      <td>1019.478341</td>\n",
       "      <td>99.603959</td>\n",
       "      <td>1.258960</td>\n",
       "      <td>1.433644</td>\n",
       "    </tr>\n",
       "    <tr>\n",
       "      <th>min</th>\n",
       "      <td>3000.000000</td>\n",
       "      <td>500.000000</td>\n",
       "      <td>1.000000</td>\n",
       "      <td>1.000000</td>\n",
       "    </tr>\n",
       "    <tr>\n",
       "      <th>25%</th>\n",
       "      <td>3000.000000</td>\n",
       "      <td>500.000000</td>\n",
       "      <td>2.500000</td>\n",
       "      <td>2.000000</td>\n",
       "    </tr>\n",
       "    <tr>\n",
       "      <th>50%</th>\n",
       "      <td>4999.000000</td>\n",
       "      <td>600.000000</td>\n",
       "      <td>3.000000</td>\n",
       "      <td>4.000000</td>\n",
       "    </tr>\n",
       "    <tr>\n",
       "      <th>75%</th>\n",
       "      <td>5000.000000</td>\n",
       "      <td>700.000000</td>\n",
       "      <td>4.000000</td>\n",
       "      <td>5.000000</td>\n",
       "    </tr>\n",
       "    <tr>\n",
       "      <th>max</th>\n",
       "      <td>6000.000000</td>\n",
       "      <td>800.000000</td>\n",
       "      <td>5.000000</td>\n",
       "      <td>5.000000</td>\n",
       "    </tr>\n",
       "  </tbody>\n",
       "</table>\n",
       "</div>"
      ],
      "text/plain": [
       "            income     English  jobSatisfaction     stress\n",
       "count    23.000000   23.000000        23.000000  23.000000\n",
       "mean   4304.217391  608.695652         3.304348   3.347826\n",
       "std    1019.478341   99.603959         1.258960   1.433644\n",
       "min    3000.000000  500.000000         1.000000   1.000000\n",
       "25%    3000.000000  500.000000         2.500000   2.000000\n",
       "50%    4999.000000  600.000000         3.000000   4.000000\n",
       "75%    5000.000000  700.000000         4.000000   5.000000\n",
       "max    6000.000000  800.000000         5.000000   5.000000"
      ]
     },
     "execution_count": 83,
     "metadata": {},
     "output_type": "execute_result"
    }
   ],
   "source": [
    "df2.describe()"
   ]
  },
  {
   "cell_type": "code",
   "execution_count": 84,
   "metadata": {
    "ExecuteTime": {
     "end_time": "2022-06-15T03:53:05.399265Z",
     "start_time": "2022-06-15T03:53:05.385239Z"
    }
   },
   "outputs": [
    {
     "data": {
      "text/plain": [
       "m    14\n",
       "f     9\n",
       "Name: sex, dtype: int64"
      ]
     },
     "execution_count": 84,
     "metadata": {},
     "output_type": "execute_result"
    }
   ],
   "source": [
    "df2.sex.value_counts() #빈도 분석"
   ]
  },
  {
   "cell_type": "code",
   "execution_count": 85,
   "metadata": {
    "ExecuteTime": {
     "end_time": "2022-06-15T03:53:05.414240Z",
     "start_time": "2022-06-15T03:53:05.401195Z"
    }
   },
   "outputs": [
    {
     "data": {
      "text/html": [
       "<div>\n",
       "<style scoped>\n",
       "    .dataframe tbody tr th:only-of-type {\n",
       "        vertical-align: middle;\n",
       "    }\n",
       "\n",
       "    .dataframe tbody tr th {\n",
       "        vertical-align: top;\n",
       "    }\n",
       "\n",
       "    .dataframe thead th {\n",
       "        text-align: right;\n",
       "    }\n",
       "</style>\n",
       "<table border=\"1\" class=\"dataframe\">\n",
       "  <thead>\n",
       "    <tr style=\"text-align: right;\">\n",
       "      <th></th>\n",
       "      <th>income</th>\n",
       "      <th>English</th>\n",
       "      <th>jobSatisfaction</th>\n",
       "      <th>stress</th>\n",
       "    </tr>\n",
       "    <tr>\n",
       "      <th>sex</th>\n",
       "      <th></th>\n",
       "      <th></th>\n",
       "      <th></th>\n",
       "      <th></th>\n",
       "    </tr>\n",
       "  </thead>\n",
       "  <tbody>\n",
       "    <tr>\n",
       "      <th>f</th>\n",
       "      <td>4333.111111</td>\n",
       "      <td>633.333333</td>\n",
       "      <td>3.666667</td>\n",
       "      <td>3.111111</td>\n",
       "    </tr>\n",
       "    <tr>\n",
       "      <th>m</th>\n",
       "      <td>4285.642857</td>\n",
       "      <td>592.857143</td>\n",
       "      <td>3.071429</td>\n",
       "      <td>3.500000</td>\n",
       "    </tr>\n",
       "  </tbody>\n",
       "</table>\n",
       "</div>"
      ],
      "text/plain": [
       "          income     English  jobSatisfaction    stress\n",
       "sex                                                    \n",
       "f    4333.111111  633.333333         3.666667  3.111111\n",
       "m    4285.642857  592.857143         3.071429  3.500000"
      ]
     },
     "execution_count": 85,
     "metadata": {},
     "output_type": "execute_result"
    }
   ],
   "source": [
    "df2.groupby(df2.sex).mean() #두 집단 평균구하기"
   ]
  },
  {
   "cell_type": "code",
   "execution_count": 86,
   "metadata": {
    "ExecuteTime": {
     "end_time": "2022-06-15T03:53:07.706729Z",
     "start_time": "2022-06-15T03:53:05.416155Z"
    }
   },
   "outputs": [],
   "source": [
    "from scipy import stats"
   ]
  },
  {
   "cell_type": "markdown",
   "metadata": {},
   "source": [
    "싸이파이 패키지에서 stats 모듈만 임포트 "
   ]
  },
  {
   "cell_type": "markdown",
   "metadata": {},
   "source": [
    "t검정은 두 집단의 평균을 비교할 때 사용"
   ]
  },
  {
   "cell_type": "code",
   "execution_count": 87,
   "metadata": {
    "ExecuteTime": {
     "end_time": "2022-06-15T03:53:07.721438Z",
     "start_time": "2022-06-15T03:53:07.708474Z"
    }
   },
   "outputs": [],
   "source": [
    "male=df2.income[df2.sex=='m']\n",
    "female=df2.income[df2.sex=='f']"
   ]
  },
  {
   "cell_type": "code",
   "execution_count": 88,
   "metadata": {
    "ExecuteTime": {
     "end_time": "2022-06-15T03:53:07.736399Z",
     "start_time": "2022-06-15T03:53:07.726426Z"
    }
   },
   "outputs": [
    {
     "data": {
      "text/plain": [
       "Ttest_indResult(statistic=-0.10650308143428423, pvalue=0.9161940781163369)"
      ]
     },
     "execution_count": 88,
     "metadata": {},
     "output_type": "execute_result"
    }
   ],
   "source": [
    "stats.ttest_ind(male,female)"
   ]
  },
  {
   "cell_type": "markdown",
   "metadata": {},
   "source": [
    "p값이 0.916이므로 남성과 여성의 수입 평균은 차이가 없다고 해석할 수 있음"
   ]
  },
  {
   "cell_type": "markdown",
   "metadata": {},
   "source": [
    "상관관계분석은 두 변수가 얼마나 관계가 있는지 알아보는 방법  \n",
    "피어슨은 순위 척도일 때 사용하고 피어슨은 연속형 자료에서 사용"
   ]
  },
  {
   "cell_type": "code",
   "execution_count": 89,
   "metadata": {
    "ExecuteTime": {
     "end_time": "2022-06-15T03:53:07.751361Z",
     "start_time": "2022-06-15T03:53:07.737397Z"
    }
   },
   "outputs": [
    {
     "data": {
      "text/html": [
       "<div>\n",
       "<style scoped>\n",
       "    .dataframe tbody tr th:only-of-type {\n",
       "        vertical-align: middle;\n",
       "    }\n",
       "\n",
       "    .dataframe tbody tr th {\n",
       "        vertical-align: top;\n",
       "    }\n",
       "\n",
       "    .dataframe thead th {\n",
       "        text-align: right;\n",
       "    }\n",
       "</style>\n",
       "<table border=\"1\" class=\"dataframe\">\n",
       "  <thead>\n",
       "    <tr style=\"text-align: right;\">\n",
       "      <th></th>\n",
       "      <th>income</th>\n",
       "      <th>English</th>\n",
       "      <th>jobSatisfaction</th>\n",
       "      <th>stress</th>\n",
       "    </tr>\n",
       "  </thead>\n",
       "  <tbody>\n",
       "    <tr>\n",
       "      <th>income</th>\n",
       "      <td>1.000000</td>\n",
       "      <td>0.599452</td>\n",
       "      <td>-0.040108</td>\n",
       "      <td>-0.137920</td>\n",
       "    </tr>\n",
       "    <tr>\n",
       "      <th>English</th>\n",
       "      <td>0.599452</td>\n",
       "      <td>1.000000</td>\n",
       "      <td>-0.312051</td>\n",
       "      <td>0.073351</td>\n",
       "    </tr>\n",
       "    <tr>\n",
       "      <th>jobSatisfaction</th>\n",
       "      <td>-0.040108</td>\n",
       "      <td>-0.312051</td>\n",
       "      <td>1.000000</td>\n",
       "      <td>0.165338</td>\n",
       "    </tr>\n",
       "    <tr>\n",
       "      <th>stress</th>\n",
       "      <td>-0.137920</td>\n",
       "      <td>0.073351</td>\n",
       "      <td>0.165338</td>\n",
       "      <td>1.000000</td>\n",
       "    </tr>\n",
       "  </tbody>\n",
       "</table>\n",
       "</div>"
      ],
      "text/plain": [
       "                   income   English  jobSatisfaction    stress\n",
       "income           1.000000  0.599452        -0.040108 -0.137920\n",
       "English          0.599452  1.000000        -0.312051  0.073351\n",
       "jobSatisfaction -0.040108 -0.312051         1.000000  0.165338\n",
       "stress          -0.137920  0.073351         0.165338  1.000000"
      ]
     },
     "execution_count": 89,
     "metadata": {},
     "output_type": "execute_result"
    }
   ],
   "source": [
    "corr=df2.corr() #피어슨\n",
    "corr"
   ]
  },
  {
   "cell_type": "code",
   "execution_count": 90,
   "metadata": {
    "ExecuteTime": {
     "end_time": "2022-06-15T03:53:07.766320Z",
     "start_time": "2022-06-15T03:53:07.754351Z"
    }
   },
   "outputs": [
    {
     "data": {
      "text/html": [
       "<div>\n",
       "<style scoped>\n",
       "    .dataframe tbody tr th:only-of-type {\n",
       "        vertical-align: middle;\n",
       "    }\n",
       "\n",
       "    .dataframe tbody tr th {\n",
       "        vertical-align: top;\n",
       "    }\n",
       "\n",
       "    .dataframe thead th {\n",
       "        text-align: right;\n",
       "    }\n",
       "</style>\n",
       "<table border=\"1\" class=\"dataframe\">\n",
       "  <thead>\n",
       "    <tr style=\"text-align: right;\">\n",
       "      <th></th>\n",
       "      <th>income</th>\n",
       "      <th>English</th>\n",
       "      <th>jobSatisfaction</th>\n",
       "      <th>stress</th>\n",
       "    </tr>\n",
       "  </thead>\n",
       "  <tbody>\n",
       "    <tr>\n",
       "      <th>income</th>\n",
       "      <td>1.000000</td>\n",
       "      <td>0.543705</td>\n",
       "      <td>-0.100683</td>\n",
       "      <td>-0.170584</td>\n",
       "    </tr>\n",
       "    <tr>\n",
       "      <th>English</th>\n",
       "      <td>0.543705</td>\n",
       "      <td>1.000000</td>\n",
       "      <td>-0.309747</td>\n",
       "      <td>0.068223</td>\n",
       "    </tr>\n",
       "    <tr>\n",
       "      <th>jobSatisfaction</th>\n",
       "      <td>-0.100683</td>\n",
       "      <td>-0.309747</td>\n",
       "      <td>1.000000</td>\n",
       "      <td>0.154982</td>\n",
       "    </tr>\n",
       "    <tr>\n",
       "      <th>stress</th>\n",
       "      <td>-0.170584</td>\n",
       "      <td>0.068223</td>\n",
       "      <td>0.154982</td>\n",
       "      <td>1.000000</td>\n",
       "    </tr>\n",
       "  </tbody>\n",
       "</table>\n",
       "</div>"
      ],
      "text/plain": [
       "                   income   English  jobSatisfaction    stress\n",
       "income           1.000000  0.543705        -0.100683 -0.170584\n",
       "English          0.543705  1.000000        -0.309747  0.068223\n",
       "jobSatisfaction -0.100683 -0.309747         1.000000  0.154982\n",
       "stress          -0.170584  0.068223         0.154982  1.000000"
      ]
     },
     "execution_count": 90,
     "metadata": {},
     "output_type": "execute_result"
    }
   ],
   "source": [
    "df2.corr(method='spearman') #스피어만\n"
   ]
  },
  {
   "cell_type": "markdown",
   "metadata": {},
   "source": [
    "파일로 저장할 때 `to_csv()`를 사용"
   ]
  },
  {
   "cell_type": "code",
   "execution_count": 91,
   "metadata": {
    "ExecuteTime": {
     "end_time": "2022-06-15T03:53:07.781280Z",
     "start_time": "2022-06-15T03:53:07.767551Z"
    }
   },
   "outputs": [],
   "source": [
    "corr.to_csv('corr.csv')"
   ]
  },
  {
   "cell_type": "markdown",
   "metadata": {},
   "source": [
    "- statsmodels 패키지로 회귀분석하기  \n",
    "---"
   ]
  },
  {
   "cell_type": "markdown",
   "metadata": {},
   "source": [
    "영어 점수와 직업 만족도사이에 인과관계가 있는지 분석"
   ]
  },
  {
   "cell_type": "code",
   "execution_count": 92,
   "metadata": {
    "ExecuteTime": {
     "end_time": "2022-06-15T03:53:08.266347Z",
     "start_time": "2022-06-15T03:53:07.782277Z"
    }
   },
   "outputs": [],
   "source": [
    "import statsmodels.formula.api as smf"
   ]
  },
  {
   "cell_type": "markdown",
   "metadata": {},
   "source": [
    "`ols(formula='종속~독립',data=데이터프레임)`"
   ]
  },
  {
   "cell_type": "code",
   "execution_count": 93,
   "metadata": {
    "ExecuteTime": {
     "end_time": "2022-06-15T03:53:08.281297Z",
     "start_time": "2022-06-15T03:53:08.268204Z"
    }
   },
   "outputs": [],
   "source": [
    "model=smf.ols(formula='jobSatisfaction~English',data=df2)"
   ]
  },
  {
   "cell_type": "code",
   "execution_count": 94,
   "metadata": {
    "ExecuteTime": {
     "end_time": "2022-06-15T03:53:08.311312Z",
     "start_time": "2022-06-15T03:53:08.282167Z"
    }
   },
   "outputs": [],
   "source": [
    "result=model.fit()"
   ]
  },
  {
   "cell_type": "code",
   "execution_count": 95,
   "metadata": {
    "ExecuteTime": {
     "end_time": "2022-06-15T03:53:08.341189Z",
     "start_time": "2022-06-15T03:53:08.312210Z"
    }
   },
   "outputs": [
    {
     "name": "stdout",
     "output_type": "stream",
     "text": [
      "                            OLS Regression Results                            \n",
      "==============================================================================\n",
      "Dep. Variable:        jobSatisfaction   R-squared:                       0.097\n",
      "Model:                            OLS   Adj. R-squared:                  0.054\n",
      "Method:                 Least Squares   F-statistic:                     2.266\n",
      "Date:                Wed, 15 Jun 2022   Prob (F-statistic):              0.147\n",
      "Time:                        12:53:08   Log-Likelihood:                -36.243\n",
      "No. Observations:                  23   AIC:                             76.49\n",
      "Df Residuals:                      21   BIC:                             78.76\n",
      "Df Model:                           1                                         \n",
      "Covariance Type:            nonrobust                                         \n",
      "==============================================================================\n",
      "                 coef    std err          t      P>|t|      [0.025      0.975]\n",
      "------------------------------------------------------------------------------\n",
      "Intercept      5.7052      1.615      3.532      0.002       2.346       9.065\n",
      "English       -0.0039      0.003     -1.505      0.147      -0.009       0.002\n",
      "==============================================================================\n",
      "Omnibus:                        0.120   Durbin-Watson:                   0.777\n",
      "Prob(Omnibus):                  0.942   Jarque-Bera (JB):                0.306\n",
      "Skew:                          -0.126   Prob(JB):                        0.858\n",
      "Kurtosis:                       2.495   Cond. No.                     3.90e+03\n",
      "==============================================================================\n",
      "\n",
      "Notes:\n",
      "[1] Standard Errors assume that the covariance matrix of the errors is correctly specified.\n",
      "[2] The condition number is large, 3.9e+03. This might indicate that there are\n",
      "strong multicollinearity or other numerical problems.\n"
     ]
    }
   ],
   "source": [
    "print(result.summary())"
   ]
  },
  {
   "cell_type": "markdown",
   "metadata": {},
   "source": [
    "$R^2$(설명력,결정계수)는 해당 모델이 관측치에 얼마나 잘 맞는지를 알려주는 지표 $\\rightarrow$ 0.097로 너무 낮음  \n",
    "prob(F)는 총괄 검정 유의확률로서 전체 모델의 유의확률 $\\rightarrow$ 0.147로 모델이 유의하지 않음  \n",
    "prob(omnibus)는 오차들이 정규 분포하는지 검증하는 수치, 1에 가까울수록 오차가 정규분포 되어 있음  "
   ]
  },
  {
   "cell_type": "code",
   "execution_count": 97,
   "metadata": {
    "ExecuteTime": {
     "end_time": "2022-06-15T03:54:05.312945Z",
     "start_time": "2022-06-15T03:54:05.293901Z"
    }
   },
   "outputs": [],
   "source": [
    "model2=smf.ols(formula='jobSatisfaction~English+stress+income',data=df2)"
   ]
  },
  {
   "cell_type": "code",
   "execution_count": 98,
   "metadata": {
    "ExecuteTime": {
     "end_time": "2022-06-15T03:54:16.821807Z",
     "start_time": "2022-06-15T03:54:16.798607Z"
    }
   },
   "outputs": [],
   "source": [
    "result=model2.fit()"
   ]
  },
  {
   "cell_type": "code",
   "execution_count": 99,
   "metadata": {
    "ExecuteTime": {
     "end_time": "2022-06-15T03:54:24.534848Z",
     "start_time": "2022-06-15T03:54:24.507020Z"
    }
   },
   "outputs": [
    {
     "name": "stdout",
     "output_type": "stream",
     "text": [
      "                            OLS Regression Results                            \n",
      "==============================================================================\n",
      "Dep. Variable:        jobSatisfaction   R-squared:                       0.187\n",
      "Model:                            OLS   Adj. R-squared:                  0.059\n",
      "Method:                 Least Squares   F-statistic:                     1.458\n",
      "Date:                Wed, 15 Jun 2022   Prob (F-statistic):              0.258\n",
      "Time:                        12:54:24   Log-Likelihood:                -35.038\n",
      "No. Observations:                  23   AIC:                             78.08\n",
      "Df Residuals:                      19   BIC:                             82.62\n",
      "Df Model:                           3                                         \n",
      "Covariance Type:            nonrobust                                         \n",
      "==============================================================================\n",
      "                 coef    std err          t      P>|t|      [0.025      0.975]\n",
      "------------------------------------------------------------------------------\n",
      "Intercept      4.9159      1.712      2.871      0.010       1.333       8.499\n",
      "English       -0.0064      0.003     -1.931      0.069      -0.013       0.001\n",
      "stress         0.2141      0.187      1.145      0.266      -0.177       0.606\n",
      "income         0.0004      0.000      1.125      0.275      -0.000       0.001\n",
      "==============================================================================\n",
      "Omnibus:                        0.278   Durbin-Watson:                   0.989\n",
      "Prob(Omnibus):                  0.870   Jarque-Bera (JB):                0.457\n",
      "Skew:                          -0.036   Prob(JB):                        0.796\n",
      "Kurtosis:                       2.313   Cond. No.                     3.00e+04\n",
      "==============================================================================\n",
      "\n",
      "Notes:\n",
      "[1] Standard Errors assume that the covariance matrix of the errors is correctly specified.\n",
      "[2] The condition number is large,  3e+04. This might indicate that there are\n",
      "strong multicollinearity or other numerical problems.\n"
     ]
    }
   ],
   "source": [
    "print(result.summary())"
   ]
  },
  {
   "cell_type": "markdown",
   "metadata": {},
   "source": [
    "다중 회귀 분석 모델도 결과가 좋지 않음  \n",
    "$R^2$는 0.187로 오르긴 했으나 0.3을 넘지 못 함  \n",
    "p-value도 0.258로 유의하지 않음  "
   ]
  }
 ],
 "metadata": {
  "kernelspec": {
   "display_name": "Python 3",
   "language": "python",
   "name": "python3"
  },
  "language_info": {
   "codemirror_mode": {
    "name": "ipython",
    "version": 3
   },
   "file_extension": ".py",
   "mimetype": "text/x-python",
   "name": "python",
   "nbconvert_exporter": "python",
   "pygments_lexer": "ipython3",
   "version": "3.8.5"
  },
  "toc": {
   "base_numbering": 1,
   "nav_menu": {},
   "number_sections": true,
   "sideBar": true,
   "skip_h1_title": false,
   "title_cell": "Table of Contents",
   "title_sidebar": "Contents",
   "toc_cell": false,
   "toc_position": {},
   "toc_section_display": true,
   "toc_window_display": false
  }
 },
 "nbformat": 4,
 "nbformat_minor": 4
}
