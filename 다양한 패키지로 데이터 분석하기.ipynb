{
 "cells": [
  {
   "cell_type": "markdown",
   "metadata": {},
   "source": [
    "# 데이터 분석 패키지 준비하기  \n",
    "---"
   ]
  },
  {
   "cell_type": "markdown",
   "metadata": {},
   "source": [
    "|패키지|기능|주요 함수|\n",
    "|---|---|---|\n",
    "|numpy|배열 계산, 반올림,버리기|floor,ceil,power|\n",
    "|pandas|데이터프레임으로 데이터 입력,가공|describe,groupby|\n",
    "|matplotlib|그래프 그리기|plot,hist,bar|  \n",
    "\n",
    "외에도 많은 패키지들이 있음  "
   ]
  },
  {
   "cell_type": "markdown",
   "metadata": {},
   "source": [
    "# 넘파이로 배열 다루기  \n",
    "---"
   ]
  },
  {
   "cell_type": "markdown",
   "metadata": {},
   "source": [
    "## 넘파이로 배열 정의하기"
   ]
  },
  {
   "cell_type": "code",
   "execution_count": 1,
   "metadata": {
    "ExecuteTime": {
     "end_time": "2022-06-12T04:18:36.828697Z",
     "start_time": "2022-06-12T04:18:36.463474Z"
    }
   },
   "outputs": [],
   "source": [
    "import numpy as np"
   ]
  },
  {
   "cell_type": "code",
   "execution_count": 2,
   "metadata": {
    "ExecuteTime": {
     "end_time": "2022-06-12T04:18:36.843394Z",
     "start_time": "2022-06-12T04:18:36.833482Z"
    }
   },
   "outputs": [],
   "source": [
    "a=np.array([[2,3],[5,2]])"
   ]
  },
  {
   "cell_type": "code",
   "execution_count": 3,
   "metadata": {
    "ExecuteTime": {
     "end_time": "2022-06-12T04:18:36.858488Z",
     "start_time": "2022-06-12T04:18:36.847384Z"
    }
   },
   "outputs": [
    {
     "data": {
      "text/plain": [
       "array([[2, 3],\n",
       "       [5, 2]])"
      ]
     },
     "execution_count": 3,
     "metadata": {},
     "output_type": "execute_result"
    }
   ],
   "source": [
    "a"
   ]
  },
  {
   "cell_type": "markdown",
   "metadata": {},
   "source": [
    "|2|3|\n",
    "|---|---|\n",
    "|5|2|"
   ]
  },
  {
   "cell_type": "markdown",
   "metadata": {},
   "source": [
    "## 배열 슬라이싱하기  \n",
    "---"
   ]
  },
  {
   "cell_type": "code",
   "execution_count": 4,
   "metadata": {
    "ExecuteTime": {
     "end_time": "2022-06-12T04:18:36.873447Z",
     "start_time": "2022-06-12T04:18:36.860481Z"
    }
   },
   "outputs": [
    {
     "data": {
      "text/plain": [
       "array([[1, 2, 3, 4, 5],\n",
       "       [2, 4, 5, 6, 7],\n",
       "       [5, 7, 8, 9, 9]])"
      ]
     },
     "execution_count": 4,
     "metadata": {},
     "output_type": "execute_result"
    }
   ],
   "source": [
    "d=np.array([[1,2,3,4,5],[2,4,5,6,7],[5,7,8,9,9]])\n",
    "d"
   ]
  },
  {
   "cell_type": "markdown",
   "metadata": {},
   "source": [
    "첫 번째 인덱스 : 행, 두 번째 인덱스 : 열"
   ]
  },
  {
   "cell_type": "code",
   "execution_count": 5,
   "metadata": {
    "ExecuteTime": {
     "end_time": "2022-06-12T04:18:36.888429Z",
     "start_time": "2022-06-12T04:18:36.874445Z"
    }
   },
   "outputs": [
    {
     "data": {
      "text/plain": [
       "5"
      ]
     },
     "execution_count": 5,
     "metadata": {},
     "output_type": "execute_result"
    }
   ],
   "source": [
    "d[1][2]"
   ]
  },
  {
   "cell_type": "code",
   "execution_count": 6,
   "metadata": {
    "ExecuteTime": {
     "end_time": "2022-06-12T04:18:36.903387Z",
     "start_time": "2022-06-12T04:18:36.889425Z"
    }
   },
   "outputs": [
    {
     "data": {
      "text/plain": [
       "5"
      ]
     },
     "execution_count": 6,
     "metadata": {},
     "output_type": "execute_result"
    }
   ],
   "source": [
    "d[1,2]"
   ]
  },
  {
   "cell_type": "markdown",
   "metadata": {},
   "source": [
    "## 배열 크기 알아내기  \n",
    "---"
   ]
  },
  {
   "cell_type": "code",
   "execution_count": 7,
   "metadata": {
    "ExecuteTime": {
     "end_time": "2022-06-12T04:18:36.918376Z",
     "start_time": "2022-06-12T04:18:36.905383Z"
    }
   },
   "outputs": [
    {
     "data": {
      "text/plain": [
       "array([[2, 3, 4, 5, 6]])"
      ]
     },
     "execution_count": 7,
     "metadata": {},
     "output_type": "execute_result"
    }
   ],
   "source": [
    "d=np.array([[2,3,4,5,6]])\n",
    "d"
   ]
  },
  {
   "cell_type": "code",
   "execution_count": 8,
   "metadata": {
    "ExecuteTime": {
     "end_time": "2022-06-12T04:18:36.933215Z",
     "start_time": "2022-06-12T04:18:36.921387Z"
    }
   },
   "outputs": [
    {
     "data": {
      "text/plain": [
       "(1, 5)"
      ]
     },
     "execution_count": 8,
     "metadata": {},
     "output_type": "execute_result"
    }
   ],
   "source": [
    "d.shape"
   ]
  },
  {
   "cell_type": "code",
   "execution_count": 9,
   "metadata": {
    "ExecuteTime": {
     "end_time": "2022-06-12T04:18:36.948617Z",
     "start_time": "2022-06-12T04:18:36.935350Z"
    }
   },
   "outputs": [
    {
     "data": {
      "text/plain": [
       "array([[1, 2, 3, 4],\n",
       "       [3, 4, 5, 6]])"
      ]
     },
     "execution_count": 9,
     "metadata": {},
     "output_type": "execute_result"
    }
   ],
   "source": [
    "e=np.array([[1,2,3,4],[3,4,5,6]])\n",
    "e"
   ]
  },
  {
   "cell_type": "code",
   "execution_count": 10,
   "metadata": {
    "ExecuteTime": {
     "end_time": "2022-06-12T04:18:36.963506Z",
     "start_time": "2022-06-12T04:18:36.952564Z"
    }
   },
   "outputs": [
    {
     "data": {
      "text/plain": [
       "(2, 4)"
      ]
     },
     "execution_count": 10,
     "metadata": {},
     "output_type": "execute_result"
    }
   ],
   "source": [
    "e.shape"
   ]
  },
  {
   "cell_type": "markdown",
   "metadata": {},
   "source": [
    "## 배열 원소 유형 확인하기  \n",
    "---"
   ]
  },
  {
   "cell_type": "code",
   "execution_count": 12,
   "metadata": {
    "ExecuteTime": {
     "end_time": "2022-06-12T04:18:55.953857Z",
     "start_time": "2022-06-12T04:18:55.945915Z"
    }
   },
   "outputs": [
    {
     "data": {
      "text/plain": [
       "dtype('int32')"
      ]
     },
     "execution_count": 12,
     "metadata": {},
     "output_type": "execute_result"
    }
   ],
   "source": [
    "d.dtype"
   ]
  },
  {
   "cell_type": "markdown",
   "metadata": {},
   "source": [
    "|원소 유형|표기법|\n",
    "|---|---|\n",
    "|부호가 있는 정수|int(32,64)|\n",
    "|부호가 없는 정수|unit(32,64)|\n",
    "실수|float(32,64)|\n",
    "|복소수|complex|\n",
    "|참 거짓을 가지는 자료|bool|\n",
    "|문자열|string|\n",
    "|파이썬 오브젝트|object|\n",
    "|유니코드|unicode|"
   ]
  },
  {
   "cell_type": "markdown",
   "metadata": {},
   "source": [
    "## 배열 유형 바꾸기  \n",
    "---"
   ]
  },
  {
   "cell_type": "code",
   "execution_count": 14,
   "metadata": {
    "ExecuteTime": {
     "end_time": "2022-06-12T04:39:41.227357Z",
     "start_time": "2022-06-12T04:39:41.213325Z"
    }
   },
   "outputs": [],
   "source": [
    "data=np.arange(1,5)"
   ]
  },
  {
   "cell_type": "code",
   "execution_count": 16,
   "metadata": {
    "ExecuteTime": {
     "end_time": "2022-06-12T04:40:00.887757Z",
     "start_time": "2022-06-12T04:40:00.865100Z"
    }
   },
   "outputs": [
    {
     "data": {
      "text/plain": [
       "dtype('int32')"
      ]
     },
     "execution_count": 16,
     "metadata": {},
     "output_type": "execute_result"
    }
   ],
   "source": [
    "data.dtype"
   ]
  },
  {
   "cell_type": "code",
   "execution_count": 17,
   "metadata": {
    "ExecuteTime": {
     "end_time": "2022-06-12T04:40:18.948956Z",
     "start_time": "2022-06-12T04:40:18.935188Z"
    }
   },
   "outputs": [
    {
     "data": {
      "text/plain": [
       "array([1., 2., 3., 4.])"
      ]
     },
     "execution_count": 17,
     "metadata": {},
     "output_type": "execute_result"
    }
   ],
   "source": [
    "data.astype('float64')"
   ]
  },
  {
   "cell_type": "markdown",
   "metadata": {},
   "source": [
    "유형을 정수에서 실수로"
   ]
  },
  {
   "cell_type": "markdown",
   "metadata": {},
   "source": [
    "## 넘파이 함수 알아보기  \n",
    "---"
   ]
  },
  {
   "cell_type": "markdown",
   "metadata": {},
   "source": [
    "- 0으로 이루어진 배열  "
   ]
  },
  {
   "cell_type": "code",
   "execution_count": 18,
   "metadata": {
    "ExecuteTime": {
     "end_time": "2022-06-12T04:41:56.133250Z",
     "start_time": "2022-06-12T04:41:56.120208Z"
    }
   },
   "outputs": [
    {
     "data": {
      "text/plain": [
       "array([[0., 0., 0., 0., 0., 0., 0., 0., 0., 0.],\n",
       "       [0., 0., 0., 0., 0., 0., 0., 0., 0., 0.]])"
      ]
     },
     "execution_count": 18,
     "metadata": {},
     "output_type": "execute_result"
    }
   ],
   "source": [
    "np.zeros((2,10)) #행:2,열:10"
   ]
  },
  {
   "cell_type": "markdown",
   "metadata": {},
   "source": [
    "- 1으로 이루어진 배열  "
   ]
  },
  {
   "cell_type": "code",
   "execution_count": 19,
   "metadata": {
    "ExecuteTime": {
     "end_time": "2022-06-12T04:45:36.817416Z",
     "start_time": "2022-06-12T04:45:36.808733Z"
    }
   },
   "outputs": [
    {
     "data": {
      "text/plain": [
       "array([[1., 1., 1., 1., 1., 1., 1., 1., 1., 1.],\n",
       "       [1., 1., 1., 1., 1., 1., 1., 1., 1., 1.]])"
      ]
     },
     "execution_count": 19,
     "metadata": {},
     "output_type": "execute_result"
    }
   ],
   "source": [
    "np.ones((2,10))"
   ]
  },
  {
   "cell_type": "markdown",
   "metadata": {},
   "source": [
    "- 연속형 정수 생성하기  "
   ]
  },
  {
   "cell_type": "code",
   "execution_count": 20,
   "metadata": {
    "ExecuteTime": {
     "end_time": "2022-06-12T04:45:56.484728Z",
     "start_time": "2022-06-12T04:45:56.472976Z"
    }
   },
   "outputs": [
    {
     "data": {
      "text/plain": [
       "array([2, 3, 4, 5, 6, 7, 8, 9])"
      ]
     },
     "execution_count": 20,
     "metadata": {},
     "output_type": "execute_result"
    }
   ],
   "source": [
    "np.arange(2,10) #2이상10미만,1차원 배열"
   ]
  },
  {
   "cell_type": "markdown",
   "metadata": {},
   "source": [
    "- 행과 열을 바꾸기 "
   ]
  },
  {
   "cell_type": "code",
   "execution_count": 21,
   "metadata": {
    "ExecuteTime": {
     "end_time": "2022-06-12T04:46:40.387733Z",
     "start_time": "2022-06-12T04:46:40.368226Z"
    }
   },
   "outputs": [
    {
     "data": {
      "text/plain": [
       "array([[1., 1., 1.],\n",
       "       [1., 1., 1.]])"
      ]
     },
     "execution_count": 21,
     "metadata": {},
     "output_type": "execute_result"
    }
   ],
   "source": [
    "a=np.ones((2,3))\n",
    "a"
   ]
  },
  {
   "cell_type": "code",
   "execution_count": 22,
   "metadata": {
    "ExecuteTime": {
     "end_time": "2022-06-12T04:47:02.139768Z",
     "start_time": "2022-06-12T04:47:02.118110Z"
    }
   },
   "outputs": [
    {
     "data": {
      "text/plain": [
       "array([[1., 1.],\n",
       "       [1., 1.],\n",
       "       [1., 1.]])"
      ]
     },
     "execution_count": 22,
     "metadata": {},
     "output_type": "execute_result"
    }
   ],
   "source": [
    "b=np.transpose(a)\n",
    "b"
   ]
  },
  {
   "cell_type": "markdown",
   "metadata": {},
   "source": [
    "## 배열의 사칙연산  \n",
    "---"
   ]
  },
  {
   "cell_type": "code",
   "execution_count": 23,
   "metadata": {
    "ExecuteTime": {
     "end_time": "2022-06-12T04:47:59.463072Z",
     "start_time": "2022-06-12T04:47:59.449207Z"
    }
   },
   "outputs": [],
   "source": [
    "arr1=np.array([[2,3,4],[6,7,8]])\n",
    "arr2=np.array([[12,23,34],[36,47,58]])"
   ]
  },
  {
   "cell_type": "markdown",
   "metadata": {},
   "source": [
    "- 덧셈"
   ]
  },
  {
   "cell_type": "code",
   "execution_count": 24,
   "metadata": {
    "ExecuteTime": {
     "end_time": "2022-06-12T04:48:10.498695Z",
     "start_time": "2022-06-12T04:48:10.487777Z"
    }
   },
   "outputs": [
    {
     "data": {
      "text/plain": [
       "array([[14, 26, 38],\n",
       "       [42, 54, 66]])"
      ]
     },
     "execution_count": 24,
     "metadata": {},
     "output_type": "execute_result"
    }
   ],
   "source": [
    "arr1+arr2 #같은 자리끼리"
   ]
  },
  {
   "cell_type": "markdown",
   "metadata": {},
   "source": [
    "- 곱셈"
   ]
  },
  {
   "cell_type": "code",
   "execution_count": 25,
   "metadata": {
    "ExecuteTime": {
     "end_time": "2022-06-12T04:48:43.915142Z",
     "start_time": "2022-06-12T04:48:43.888395Z"
    }
   },
   "outputs": [
    {
     "data": {
      "text/plain": [
       "array([[ 24,  69, 136],\n",
       "       [216, 329, 464]])"
      ]
     },
     "execution_count": 25,
     "metadata": {},
     "output_type": "execute_result"
    }
   ],
   "source": [
    "arr1*arr2 #같은 자리끼리"
   ]
  },
  {
   "cell_type": "markdown",
   "metadata": {},
   "source": [
    "- 나눗셈"
   ]
  },
  {
   "cell_type": "code",
   "execution_count": 26,
   "metadata": {
    "ExecuteTime": {
     "end_time": "2022-06-12T04:49:20.097451Z",
     "start_time": "2022-06-12T04:49:20.080469Z"
    }
   },
   "outputs": [
    {
     "data": {
      "text/plain": [
       "array([[0.16666667, 0.13043478, 0.11764706],\n",
       "       [0.16666667, 0.14893617, 0.13793103]])"
      ]
     },
     "execution_count": 26,
     "metadata": {},
     "output_type": "execute_result"
    }
   ],
   "source": [
    "arr1/arr2 #같은 자리끼리"
   ]
  },
  {
   "cell_type": "markdown",
   "metadata": {},
   "source": [
    "- 크기가 서로 다른 배열끼리 더하기"
   ]
  },
  {
   "cell_type": "code",
   "execution_count": 28,
   "metadata": {
    "ExecuteTime": {
     "end_time": "2022-06-12T04:51:11.707231Z",
     "start_time": "2022-06-12T04:51:11.690130Z"
    }
   },
   "outputs": [],
   "source": [
    "arr3=np.array([100,200,300])"
   ]
  },
  {
   "cell_type": "code",
   "execution_count": 30,
   "metadata": {
    "ExecuteTime": {
     "end_time": "2022-06-12T04:51:25.240199Z",
     "start_time": "2022-06-12T04:51:25.221253Z"
    }
   },
   "outputs": [
    {
     "data": {
      "text/plain": [
       "(2, 3)"
      ]
     },
     "execution_count": 30,
     "metadata": {},
     "output_type": "execute_result"
    }
   ],
   "source": [
    "arr1.shape"
   ]
  },
  {
   "cell_type": "code",
   "execution_count": 31,
   "metadata": {
    "ExecuteTime": {
     "end_time": "2022-06-12T04:51:31.096858Z",
     "start_time": "2022-06-12T04:51:31.091871Z"
    }
   },
   "outputs": [
    {
     "data": {
      "text/plain": [
       "(3,)"
      ]
     },
     "execution_count": 31,
     "metadata": {},
     "output_type": "execute_result"
    }
   ],
   "source": [
    "arr3.shape"
   ]
  },
  {
   "cell_type": "code",
   "execution_count": 32,
   "metadata": {
    "ExecuteTime": {
     "end_time": "2022-06-12T04:51:41.702861Z",
     "start_time": "2022-06-12T04:51:41.692842Z"
    }
   },
   "outputs": [
    {
     "data": {
      "text/plain": [
       "array([[102, 203, 304],\n",
       "       [106, 207, 308]])"
      ]
     },
     "execution_count": 32,
     "metadata": {},
     "output_type": "execute_result"
    }
   ],
   "source": [
    "arr1+arr3"
   ]
  },
  {
   "cell_type": "markdown",
   "metadata": {},
   "source": [
    "- 브로드캐스팅이 되지 않는 경우"
   ]
  },
  {
   "cell_type": "code",
   "execution_count": 33,
   "metadata": {
    "ExecuteTime": {
     "end_time": "2022-06-12T04:52:37.125370Z",
     "start_time": "2022-06-12T04:52:37.108143Z"
    }
   },
   "outputs": [],
   "source": [
    "arr4=np.array([1,2,3,4,5,6,7,8,9,10])"
   ]
  },
  {
   "cell_type": "code",
   "execution_count": 34,
   "metadata": {
    "ExecuteTime": {
     "end_time": "2022-06-12T04:52:55.183898Z",
     "start_time": "2022-06-12T04:52:55.168387Z"
    }
   },
   "outputs": [
    {
     "data": {
      "text/plain": [
       "(10,)"
      ]
     },
     "execution_count": 34,
     "metadata": {},
     "output_type": "execute_result"
    }
   ],
   "source": [
    "arr4.shape"
   ]
  },
  {
   "cell_type": "code",
   "execution_count": 35,
   "metadata": {
    "ExecuteTime": {
     "end_time": "2022-06-12T04:53:17.223836Z",
     "start_time": "2022-06-12T04:53:17.196041Z"
    }
   },
   "outputs": [
    {
     "ename": "ValueError",
     "evalue": "operands could not be broadcast together with shapes (2,3) (10,) ",
     "output_type": "error",
     "traceback": [
      "\u001b[1;31m---------------------------------------------------------------------------\u001b[0m",
      "\u001b[1;31mValueError\u001b[0m                                Traceback (most recent call last)",
      "\u001b[1;32m<ipython-input-35-ec8499fd2893>\u001b[0m in \u001b[0;36m<module>\u001b[1;34m\u001b[0m\n\u001b[1;32m----> 1\u001b[1;33m \u001b[0marr1\u001b[0m\u001b[1;33m+\u001b[0m\u001b[0marr4\u001b[0m\u001b[1;33m\u001b[0m\u001b[1;33m\u001b[0m\u001b[0m\n\u001b[0m",
      "\u001b[1;31mValueError\u001b[0m: operands could not be broadcast together with shapes (2,3) (10,) "
     ]
    }
   ],
   "source": [
    "arr1+arr4"
   ]
  },
  {
   "cell_type": "markdown",
   "metadata": {},
   "source": [
    " **행과 열이 모두 다르면 계산을 할 수 없음**"
   ]
  },
  {
   "cell_type": "markdown",
   "metadata": {},
   "source": [
    "## 리스트와 배열의 차이점  \n",
    "---"
   ]
  },
  {
   "cell_type": "code",
   "execution_count": 44,
   "metadata": {
    "ExecuteTime": {
     "end_time": "2022-06-12T05:00:25.909422Z",
     "start_time": "2022-06-12T05:00:25.897431Z"
    }
   },
   "outputs": [],
   "source": [
    "d=np.array([[1,2,3,4,5],[2,4,5,6,7],[5,7,8,9,9]]) # 3*5"
   ]
  },
  {
   "cell_type": "code",
   "execution_count": 45,
   "metadata": {
    "ExecuteTime": {
     "end_time": "2022-06-12T05:00:27.844776Z",
     "start_time": "2022-06-12T05:00:27.837749Z"
    }
   },
   "outputs": [],
   "source": [
    "d_list=[[1,2,3,4,5],[2,4,5,6,7],[5,7,8,9,9]]"
   ]
  },
  {
   "cell_type": "code",
   "execution_count": 46,
   "metadata": {
    "ExecuteTime": {
     "end_time": "2022-06-12T05:00:28.842391Z",
     "start_time": "2022-06-12T05:00:28.822660Z"
    }
   },
   "outputs": [
    {
     "data": {
      "text/plain": [
       "[[1, 2, 3, 4, 5], [2, 4, 5, 6, 7], [5, 7, 8, 9, 9]]"
      ]
     },
     "execution_count": 46,
     "metadata": {},
     "output_type": "execute_result"
    }
   ],
   "source": [
    "d_list"
   ]
  },
  {
   "cell_type": "code",
   "execution_count": 47,
   "metadata": {
    "ExecuteTime": {
     "end_time": "2022-06-12T05:00:29.629195Z",
     "start_time": "2022-06-12T05:00:29.614217Z"
    }
   },
   "outputs": [
    {
     "data": {
      "text/plain": [
       "list"
      ]
     },
     "execution_count": 47,
     "metadata": {},
     "output_type": "execute_result"
    }
   ],
   "source": [
    "type(d_list)"
   ]
  },
  {
   "cell_type": "code",
   "execution_count": 48,
   "metadata": {
    "ExecuteTime": {
     "end_time": "2022-06-12T05:00:30.389444Z",
     "start_time": "2022-06-12T05:00:30.374239Z"
    }
   },
   "outputs": [
    {
     "ename": "TypeError",
     "evalue": "can only assign an iterable",
     "output_type": "error",
     "traceback": [
      "\u001b[1;31m---------------------------------------------------------------------------\u001b[0m",
      "\u001b[1;31mTypeError\u001b[0m                                 Traceback (most recent call last)",
      "\u001b[1;32m<ipython-input-48-5f47b51eb6ad>\u001b[0m in \u001b[0;36m<module>\u001b[1;34m\u001b[0m\n\u001b[1;32m----> 1\u001b[1;33m \u001b[0md_list\u001b[0m\u001b[1;33m[\u001b[0m\u001b[1;33m:\u001b[0m\u001b[1;36m2\u001b[0m\u001b[1;33m]\u001b[0m\u001b[1;33m=\u001b[0m\u001b[1;36m0\u001b[0m\u001b[1;33m\u001b[0m\u001b[1;33m\u001b[0m\u001b[0m\n\u001b[0m",
      "\u001b[1;31mTypeError\u001b[0m: can only assign an iterable"
     ]
    }
   ],
   "source": [
    "d_list[:2]=0"
   ]
  },
  {
   "cell_type": "code",
   "execution_count": 49,
   "metadata": {
    "ExecuteTime": {
     "end_time": "2022-06-12T05:00:31.240254Z",
     "start_time": "2022-06-12T05:00:31.222001Z"
    }
   },
   "outputs": [],
   "source": [
    "d[:2]=0"
   ]
  },
  {
   "cell_type": "code",
   "execution_count": 50,
   "metadata": {
    "ExecuteTime": {
     "end_time": "2022-06-12T05:00:32.148921Z",
     "start_time": "2022-06-12T05:00:32.134169Z"
    }
   },
   "outputs": [
    {
     "data": {
      "text/plain": [
       "array([[0, 0, 0, 0, 0],\n",
       "       [0, 0, 0, 0, 0],\n",
       "       [5, 7, 8, 9, 9]])"
      ]
     },
     "execution_count": 50,
     "metadata": {},
     "output_type": "execute_result"
    }
   ],
   "source": [
    "d"
   ]
  },
  {
   "cell_type": "markdown",
   "metadata": {},
   "source": [
    "### 설문지 데이터 전처리  \n",
    "---"
   ]
  },
  {
   "cell_type": "markdown",
   "metadata": {},
   "source": [
    "5점 만점으로 된 설문 조사 결과"
   ]
  },
  {
   "cell_type": "code",
   "execution_count": 51,
   "metadata": {
    "ExecuteTime": {
     "end_time": "2022-06-12T05:01:47.555432Z",
     "start_time": "2022-06-12T05:01:47.534478Z"
    }
   },
   "outputs": [],
   "source": [
    "import os,usecsv\n",
    "import numpy as np"
   ]
  },
  {
   "cell_type": "code",
   "execution_count": 53,
   "metadata": {
    "ExecuteTime": {
     "end_time": "2022-06-12T05:02:33.280038Z",
     "start_time": "2022-06-12T05:02:33.268112Z"
    }
   },
   "outputs": [],
   "source": [
    "os.chdir(r'C:\\Users\\phl02\\Desktop\\P\\doit_python_programming')"
   ]
  },
  {
   "cell_type": "code",
   "execution_count": 54,
   "metadata": {
    "ExecuteTime": {
     "end_time": "2022-06-12T05:03:10.871364Z",
     "start_time": "2022-06-12T05:03:10.854229Z"
    }
   },
   "outputs": [],
   "source": [
    "quest=np.array(usecsv.switch(usecsv.opencsv('quest.csv')))"
   ]
  },
  {
   "cell_type": "code",
   "execution_count": 55,
   "metadata": {
    "ExecuteTime": {
     "end_time": "2022-06-12T05:03:17.272270Z",
     "start_time": "2022-06-12T05:03:17.254268Z"
    }
   },
   "outputs": [
    {
     "data": {
      "text/plain": [
       "array([[1., 2., 1., 2., 2.],\n",
       "       [1., 3., 2., 3., 2.],\n",
       "       [1., 4., 3., 3., 3.],\n",
       "       [2., 5., 4., 4., 4.],\n",
       "       [2., 5., 6., 2., 5.],\n",
       "       [3., 6., 4., 2., 5.],\n",
       "       [3., 5., 4., 1., 6.],\n",
       "       [3., 5., 5., 1., 3.]])"
      ]
     },
     "execution_count": 55,
     "metadata": {},
     "output_type": "execute_result"
    }
   ],
   "source": [
    "quest"
   ]
  },
  {
   "cell_type": "code",
   "execution_count": 56,
   "metadata": {
    "ExecuteTime": {
     "end_time": "2022-06-12T05:04:24.318581Z",
     "start_time": "2022-06-12T05:04:24.310573Z"
    }
   },
   "outputs": [
    {
     "data": {
      "text/plain": [
       "array([6., 6., 6.])"
      ]
     },
     "execution_count": 56,
     "metadata": {},
     "output_type": "execute_result"
    }
   ],
   "source": [
    "quest[quest>5]"
   ]
  },
  {
   "cell_type": "code",
   "execution_count": 57,
   "metadata": {
    "ExecuteTime": {
     "end_time": "2022-06-12T05:04:34.650192Z",
     "start_time": "2022-06-12T05:04:34.638140Z"
    }
   },
   "outputs": [],
   "source": [
    "quest[quest>5]=5"
   ]
  },
  {
   "cell_type": "code",
   "execution_count": 58,
   "metadata": {
    "ExecuteTime": {
     "end_time": "2022-06-12T05:07:17.881900Z",
     "start_time": "2022-06-12T05:07:17.870968Z"
    }
   },
   "outputs": [
    {
     "data": {
      "text/plain": [
       "array([[1., 2., 1., 2., 2.],\n",
       "       [1., 3., 2., 3., 2.],\n",
       "       [1., 4., 3., 3., 3.],\n",
       "       [2., 5., 4., 4., 4.],\n",
       "       [2., 5., 5., 2., 5.],\n",
       "       [3., 5., 4., 2., 5.],\n",
       "       [3., 5., 4., 1., 5.],\n",
       "       [3., 5., 5., 1., 3.]])"
      ]
     },
     "execution_count": 58,
     "metadata": {},
     "output_type": "execute_result"
    }
   ],
   "source": [
    "quest"
   ]
  },
  {
   "cell_type": "code",
   "execution_count": 59,
   "metadata": {
    "ExecuteTime": {
     "end_time": "2022-06-12T05:08:05.577492Z",
     "start_time": "2022-06-12T05:08:05.551238Z"
    }
   },
   "outputs": [],
   "source": [
    "usecsv.writecsv('resultcsv.csv',list(quest))"
   ]
  },
  {
   "cell_type": "markdown",
   "metadata": {},
   "source": [
    "# 넘파이로 사업성 분석하기  \n",
    "---"
   ]
  },
  {
   "cell_type": "markdown",
   "metadata": {},
   "source": [
    "<span style=\"color:limegreen\">**사업성 분석이란?**</span>  \n",
    "이 사업을 했을 때 이익이나 손해가 어느 정도 나올지 따져보는 것 "
   ]
  },
  {
   "cell_type": "markdown",
   "metadata": {},
   "source": [
    "**경제적 타당성의 개념**  \n",
    "이 사업이 우리에게 비용 대비 얼마나 많은 효용을 가져다 줄 수 있는지를 나타내는 개념  \n",
    "- 순현재가치: 할인된 현금 흐름의 값을 모두 더한 값을 말한다.  \n",
    "- 내부수익률: 순현재가치를 0으로 만드는 할인율을 말한다."
   ]
  },
  {
   "cell_type": "markdown",
   "metadata": {},
   "source": [
    "- 재무적 타당성의 세부 지표  \n",
    "\n",
    "|이름|공식|설명|\n",
    "|---|---|---|\n",
    "|비용(C)|$\\sum C$|사업을 만드는 데 들어가는 모든 비용|\n",
    "|수입(B)|$\\sum B$|사업을 하면서 발생하는 이익|\n",
    "|현금 흐름(CF)|CF=B-C|수입에서 비용을 제외한 금액|\n",
    "|연차(n)|-|총 사업 기간|\n",
    "|할인율(r)|-|미래의 현금 흐름을 현재 기준으로 환산할 때 적용하는 비율|\n",
    "|현금 흐름의 현재 가치(PV)|$PV=\\frac{CF_k}{(1+r)^k}$|할인율을 적용한 k년차 현금 흐름의 현재 가치|\n",
    "|순현재가치(NPV)|$NPV=\\sum\\frac{CF_k}{(1+r)^k}$|투자 안의 매년 현재 가치(PV)를 다 더한 값, 0보다 크면 사업성이 있다고 해석|"
   ]
  },
  {
   "cell_type": "markdown",
   "metadata": {},
   "source": [
    "### 자본의 현재 가치 구하기  \n",
    "---"
   ]
  },
  {
   "cell_type": "code",
   "execution_count": 60,
   "metadata": {
    "ExecuteTime": {
     "end_time": "2022-06-12T06:01:50.874098Z",
     "start_time": "2022-06-12T06:01:50.858854Z"
    }
   },
   "outputs": [],
   "source": [
    "import numpy as np"
   ]
  },
  {
   "cell_type": "code",
   "execution_count": 61,
   "metadata": {
    "ExecuteTime": {
     "end_time": "2022-06-12T06:03:01.848046Z",
     "start_time": "2022-06-12T06:03:01.841013Z"
    }
   },
   "outputs": [],
   "source": [
    "discount=0.05 #할인율 5%\n",
    "cashflow=100 #현금 흐름 100억원"
   ]
  },
  {
   "cell_type": "code",
   "execution_count": 63,
   "metadata": {
    "ExecuteTime": {
     "end_time": "2022-06-12T06:04:12.560028Z",
     "start_time": "2022-06-12T06:04:12.539189Z"
    }
   },
   "outputs": [],
   "source": [
    "def pv(n):\n",
    "    return(cashflow/((1+discount)**n))"
   ]
  },
  {
   "cell_type": "code",
   "execution_count": 64,
   "metadata": {
    "ExecuteTime": {
     "end_time": "2022-06-12T06:04:20.781417Z",
     "start_time": "2022-06-12T06:04:20.764675Z"
    }
   },
   "outputs": [
    {
     "data": {
      "text/plain": [
       "95.23809523809524"
      ]
     },
     "execution_count": 64,
     "metadata": {},
     "output_type": "execute_result"
    }
   ],
   "source": [
    "pv(1) #1년이 지난 후 자본의 현재 가치"
   ]
  },
  {
   "cell_type": "code",
   "execution_count": 65,
   "metadata": {
    "ExecuteTime": {
     "end_time": "2022-06-12T06:04:47.097080Z",
     "start_time": "2022-06-12T06:04:47.093257Z"
    }
   },
   "outputs": [
    {
     "data": {
      "text/plain": [
       "90.70294784580499"
      ]
     },
     "execution_count": 65,
     "metadata": {},
     "output_type": "execute_result"
    }
   ],
   "source": [
    "pv(2) #2년이 지난 후 자본의 현재 가치"
   ]
  },
  {
   "cell_type": "code",
   "execution_count": 66,
   "metadata": {
    "ExecuteTime": {
     "end_time": "2022-06-12T06:05:24.857151Z",
     "start_time": "2022-06-12T06:05:24.832803Z"
    }
   },
   "outputs": [
    {
     "name": "stdout",
     "output_type": "stream",
     "text": [
      "100.0\n",
      "95.23809523809524\n",
      "90.70294784580499\n",
      "86.3837598531476\n",
      "82.27024747918819\n",
      "78.35261664684589\n",
      "74.62153966366274\n",
      "71.06813301301213\n",
      "67.6839362028687\n",
      "64.46089162177971\n",
      "61.39132535407592\n",
      "58.46792890864373\n",
      "55.68374181775592\n",
      "53.03213506452945\n",
      "50.506795299551854\n",
      "48.101709809096995\n",
      "45.811152199140004\n",
      "43.62966876108571\n",
      "41.5520654867483\n",
      "39.57339570166504\n"
     ]
    }
   ],
   "source": [
    "for i in range(20):\n",
    "    print(pv(i))"
   ]
  },
  {
   "cell_type": "markdown",
   "metadata": {},
   "source": [
    "### 놀이공원 사업의 사업성 분석하기  \n",
    "---"
   ]
  },
  {
   "cell_type": "markdown",
   "metadata": {},
   "source": [
    "건설회사 사장이 놀이공원을 여는 것이 꿈이다. 건설사업이 성공해서 이제는 놀이공원에 한번 도전해도 괜찮을 것 같다.  \n",
    "건설회사 사장님이 모은 돈과 지금 가진 신용으로 이 놀이공원을 지을 수 있을지, 지었을 때 이익이 날지 손해가 날지 알고 싶다."
   ]
  },
  {
   "cell_type": "markdown",
   "metadata": {},
   "source": [
    "&#128528; 여기서는 실습의 편의를 위해 공사를 시작하는 시점을 1년 차로 가정, 일반적으로 운영 수입이 발생하는 시점을 기준  \n",
    "&#128528; 가상의 사업을 분석하는 과정에서 분석 기간은 사업에 따라서 달라질 수 있다."
   ]
  },
  {
   "cell_type": "markdown",
   "metadata": {},
   "source": [
    "![KakaoTalk_20220612_152617234](https://user-images.githubusercontent.com/105963819/173220123-a68814cd-29d2-414b-bbbc-ca964de58565.jpg)\n"
   ]
  },
  {
   "cell_type": "markdown",
   "metadata": {},
   "source": [
    "- 세부 지표 값 구하기"
   ]
  },
  {
   "cell_type": "code",
   "execution_count": 67,
   "metadata": {
    "ExecuteTime": {
     "end_time": "2022-06-12T06:29:30.087224Z",
     "start_time": "2022-06-12T06:29:30.079426Z"
    }
   },
   "outputs": [
    {
     "data": {
      "text/plain": [
       "[-750,\n",
       " -250,\n",
       " 100,\n",
       " 100,\n",
       " 100,\n",
       " 100,\n",
       " 100,\n",
       " 100,\n",
       " 100,\n",
       " 100,\n",
       " 100,\n",
       " 100,\n",
       " 100,\n",
       " 100,\n",
       " 100,\n",
       " 100,\n",
       " 100,\n",
       " 100,\n",
       " 100,\n",
       " 100]"
      ]
     },
     "execution_count": 67,
     "metadata": {},
     "output_type": "execute_result"
    }
   ],
   "source": [
    "loss=[-750,-250] #1,2년 차\n",
    "profit=[100]*18 #3년 차부터 \n",
    "cf=loss+profit\n",
    "cf"
   ]
  },
  {
   "cell_type": "code",
   "execution_count": 68,
   "metadata": {
    "ExecuteTime": {
     "end_time": "2022-06-12T06:29:38.410884Z",
     "start_time": "2022-06-12T06:29:38.404230Z"
    }
   },
   "outputs": [
    {
     "data": {
      "text/plain": [
       "20"
      ]
     },
     "execution_count": 68,
     "metadata": {},
     "output_type": "execute_result"
    }
   ],
   "source": [
    "len(cf)"
   ]
  },
  {
   "cell_type": "code",
   "execution_count": 69,
   "metadata": {
    "ExecuteTime": {
     "end_time": "2022-06-12T06:29:52.875878Z",
     "start_time": "2022-06-12T06:29:52.863101Z"
    }
   },
   "outputs": [],
   "source": [
    "cashflow=np.array(cf)"
   ]
  },
  {
   "cell_type": "markdown",
   "metadata": {},
   "source": [
    "- 순현재가치와 내부수익률 구하기"
   ]
  },
  {
   "cell_type": "code",
   "execution_count": 70,
   "metadata": {
    "ExecuteTime": {
     "end_time": "2022-06-12T06:31:00.822727Z",
     "start_time": "2022-06-12T06:31:00.799421Z"
    }
   },
   "outputs": [
    {
     "name": "stderr",
     "output_type": "stream",
     "text": [
      "<ipython-input-70-869079e5cd3a>:1: DeprecationWarning: numpy.npv is deprecated and will be removed from NumPy 1.20. Use numpy_financial.npv instead (https://pypi.org/project/numpy-financial/).\n",
      "  npv=np.npv(0.045,cashflow)\n"
     ]
    }
   ],
   "source": [
    "npv=np.npv(0.045,cashflow)"
   ]
  },
  {
   "cell_type": "code",
   "execution_count": 71,
   "metadata": {
    "ExecuteTime": {
     "end_time": "2022-06-12T06:31:21.919776Z",
     "start_time": "2022-06-12T06:31:21.901849Z"
    }
   },
   "outputs": [
    {
     "data": {
      "text/plain": [
       "174.4011295118405"
      ]
     },
     "execution_count": 71,
     "metadata": {},
     "output_type": "execute_result"
    }
   ],
   "source": [
    "npv"
   ]
  },
  {
   "cell_type": "code",
   "execution_count": 72,
   "metadata": {
    "ExecuteTime": {
     "end_time": "2022-06-12T06:31:39.721589Z",
     "start_time": "2022-06-12T06:31:39.613805Z"
    }
   },
   "outputs": [
    {
     "name": "stderr",
     "output_type": "stream",
     "text": [
      "<ipython-input-72-7c34e3a77d23>:1: DeprecationWarning: numpy.irr is deprecated and will be removed from NumPy 1.20. Use numpy_financial.irr instead (https://pypi.org/project/numpy-financial/).\n",
      "  irr=np.irr(cashflow)\n"
     ]
    }
   ],
   "source": [
    "irr=np.irr(cashflow)"
   ]
  },
  {
   "cell_type": "code",
   "execution_count": 73,
   "metadata": {
    "ExecuteTime": {
     "end_time": "2022-06-12T06:31:42.828585Z",
     "start_time": "2022-06-12T06:31:42.821597Z"
    }
   },
   "outputs": [
    {
     "data": {
      "text/plain": [
       "0.06434936937255586"
      ]
     },
     "execution_count": 73,
     "metadata": {},
     "output_type": "execute_result"
    }
   ],
   "source": [
    "irr"
   ]
  },
  {
   "cell_type": "markdown",
   "metadata": {},
   "source": [
    "- 핵심 지표 값 해석하기"
   ]
  },
  {
   "cell_type": "markdown",
   "metadata": {},
   "source": [
    "순현재가치는 약 174.4억이고, 내부수익률은 6.4%정도가 나왔다.  \n",
    "사실 재무적 타당성은 순현재가치나 내부수익률을 구하는 것보다 해석하는 일이 더 중요  \n",
    "가정한 할인율은 4.5%였고, 6.4%는 4.5%보다 높기 때문에 수익성이 있다고 볼 수 있다.  \n",
    "하지만 이자를 해마다 10%씩 내야 한다고 가정하면 다시 생각해야 한다.  \n",
    "18년 동안 운영한다고 가정했을 때 내부수익룰이 6.4%이므로 10%보다 더 작다.  \n",
    "현실에서는 할인율뿐만 아니라 여러 요소를 고려해서 분석해야 한다."
   ]
  },
  {
   "cell_type": "markdown",
   "metadata": {},
   "source": [
    "프로젝트의 가치는 174억으로서 이 정도 수익을 올릴 수 있다면. 이 사업은 순현재가치를 봤을 때도 사업성이 있는 것으로 판단"
   ]
  },
  {
   "cell_type": "markdown",
   "metadata": {},
   "source": [
    "# 판다스로 데이터프레임 만들기  \n",
    "---"
   ]
  },
  {
   "cell_type": "code",
   "execution_count": null,
   "metadata": {},
   "outputs": [],
   "source": []
  },
  {
   "cell_type": "code",
   "execution_count": null,
   "metadata": {},
   "outputs": [],
   "source": []
  },
  {
   "cell_type": "code",
   "execution_count": null,
   "metadata": {},
   "outputs": [],
   "source": []
  },
  {
   "cell_type": "code",
   "execution_count": null,
   "metadata": {},
   "outputs": [],
   "source": []
  },
  {
   "cell_type": "code",
   "execution_count": null,
   "metadata": {},
   "outputs": [],
   "source": []
  }
 ],
 "metadata": {
  "kernelspec": {
   "display_name": "Python 3",
   "language": "python",
   "name": "python3"
  },
  "language_info": {
   "codemirror_mode": {
    "name": "ipython",
    "version": 3
   },
   "file_extension": ".py",
   "mimetype": "text/x-python",
   "name": "python",
   "nbconvert_exporter": "python",
   "pygments_lexer": "ipython3",
   "version": "3.8.5"
  },
  "toc": {
   "base_numbering": 1,
   "nav_menu": {},
   "number_sections": true,
   "sideBar": true,
   "skip_h1_title": false,
   "title_cell": "Table of Contents",
   "title_sidebar": "Contents",
   "toc_cell": false,
   "toc_position": {},
   "toc_section_display": true,
   "toc_window_display": false
  }
 },
 "nbformat": 4,
 "nbformat_minor": 4
}
